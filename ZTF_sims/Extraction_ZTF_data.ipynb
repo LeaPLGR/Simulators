{
 "cells": [
  {
   "cell_type": "code",
   "execution_count": null,
   "id": "c22407c5",
   "metadata": {},
   "outputs": [],
   "source": [
    "import matplotlib.pyplot as plt\n",
    "from matplotlib import rc\n",
    "rc('text', usetex=True)\n",
    "from mpl_toolkits.axes_grid1 import make_axes_locatable\n",
    "\n",
    "import os\n",
    "import io\n",
    "import gzip\n",
    "import tarfile\n",
    "import warnings\n",
    "\n",
    "import numpy as np\n",
    "import pandas as pd\n",
    "from tqdm import tqdm\n",
    "\n",
    "from alerce.core import Alerce\n",
    "alerce = Alerce()\n",
    "\n",
    "from astropy.time import Time\n",
    "from astropy.io import fits\n",
    "import astropy.units as u\n",
    "import aplpy\n",
    "%matplotlib inline\n",
    "\n",
    "from astropy.wcs import WCS\n",
    "from astropy import wcs"
   ]
  },
  {
   "cell_type": "code",
   "execution_count": null,
   "id": "36165896",
   "metadata": {},
   "outputs": [],
   "source": [
    "ZTF_transient_list = np.load(\"data/ZTF_selection.npz\")['transient_selection_list'].tolist()"
   ]
  },
  {
   "cell_type": "code",
   "execution_count": null,
   "id": "58b3c34d",
   "metadata": {},
   "outputs": [],
   "source": [
    "len(ZTF_transient_list)"
   ]
  },
  {
   "cell_type": "code",
   "execution_count": null,
   "id": "c37c6e94",
   "metadata": {},
   "outputs": [],
   "source": [
    "import time"
   ]
  },
  {
   "cell_type": "code",
   "execution_count": null,
   "id": "4fbe5b12",
   "metadata": {},
   "outputs": [],
   "source": [
    "ZTF_transient_list"
   ]
  },
  {
   "cell_type": "code",
   "execution_count": null,
   "id": "8ae49d31",
   "metadata": {},
   "outputs": [],
   "source": [
    "def detection(data):\n",
    "    \n",
    "\n",
    "    pbar = tqdm(total=len(batch))\n",
    "    ztf_time_series_images = []\n",
    "    time = []\n",
    "    ra = []\n",
    "    dec = []\n",
    "\n",
    "    for ztf in batch:    \n",
    "\n",
    "        r_band = False\n",
    "        detections = alerce.query_detections(ztf, format=\"votable\")   # to get access to detected transients \n",
    "                                                              # to get the lightcurve of the transient 'ztf'\n",
    "        ra_bis = []\n",
    "        dec_bis = []\n",
    "        time_bis = []\n",
    "        transient_time_series_images = []\n",
    "        for i in range(len(detections)):\n",
    "            #print(detections[i]['fid'])\n",
    "            if detections[i]['fid'] == 2:                         # r-band  Filter ID (1=g; 2=r; 3=i)\n",
    "                #print('il a i')\n",
    "                r_band = True\n",
    "            \n",
    "                if detections[i]['has_stamp']:\n",
    "                    hdul = alerce.get_stamps(oid = ztf, candid = detections[i]['candid'])\n",
    "                    \n",
    "                    if hdul != None:\n",
    "                        transient_time_series_images.append(np.nan_to_num(hdul[2].data[7:55,7:55]))\n",
    "                        ra_bis.append(detections[i]['ra'])\n",
    "                        dec_bis.append(detections[i]['dec'])\n",
    "                        time_bis.append(detections[i]['mjd'])\n",
    "            \n",
    "        if r_band:\n",
    "            ztf_time_series_images.append(transient_time_series_images)\n",
    "            ra.append(ra_bis)\n",
    "            dec.append(dec_bis)\n",
    "            time.append(time_bis)\n",
    "        \n",
    "        pbar.update(1)   \n",
    "        \n",
    "    return time, ztf_time_series_images, ra, dec"
   ]
  },
  {
   "cell_type": "code",
   "execution_count": null,
   "id": "ba9b256c",
   "metadata": {
    "scrolled": true
   },
   "outputs": [],
   "source": [
    "start = time.time()\n",
    "\n",
    "batch = ZTF_transient_list[3500:]\n",
    "A = detection(batch)\n",
    "\n",
    "end = time.time()\n",
    "print(\"The time of execution of above program is :\", end-start)"
   ]
  },
  {
   "cell_type": "code",
   "execution_count": null,
   "id": "ceb3acb4",
   "metadata": {},
   "outputs": [],
   "source": [
    "print(A)\n",
    "#print(np.shape(A[1][0]))"
   ]
  },
  {
   "cell_type": "markdown",
   "id": "016552f9",
   "metadata": {},
   "source": [
    "# SAVE DATA\n",
    "\n",
    "I will save the ID, the 'time', (ra,dec) which come from detection function. \n",
    "Then from catalog function, I extract and save x, y, a, b, cflux and cpeak which can be usefull for the NN (?). \n",
    "I don not save the time serie images because they would occupy a lot of place and because it is not really convenient. "
   ]
  },
  {
   "cell_type": "code",
   "execution_count": null,
   "id": "2ca9711a",
   "metadata": {},
   "outputs": [],
   "source": [
    "import sep\n",
    "\n",
    "def catalog(time_series, lvl):\n",
    "    L = []\n",
    "\n",
    "    for i in range(len(time_series)):\n",
    "        A = time_series[i].byteswap().newbyteorder()\n",
    "        bkg = sep.Background(A)\n",
    "        catalog = sep.extract(A, lvl, err=bkg.globalrms)\n",
    "        \n",
    "        if len(catalog)!=0:\n",
    "            if len(catalog)==1:\n",
    "                L.append(catalog)\n",
    "            elif len(catalog)>1:\n",
    "                dist = [np.sqrt((catalog[i]['x']-24)**2 + (catalog[i]['y']-24)**2) for i in range(len(catalog))]\n",
    "                L.append(np.array([catalog[dist.index(min(dist))]]))\n",
    "            \n",
    "        else: \n",
    "            while lvl>0 and len(catalog)==0:\n",
    "                lvl = lvl-1\n",
    "                catalog = sep.extract(A, lvl, err=bkg.globalrms)\n",
    "                if len(catalog)==1:\n",
    "                    L.append(catalog)\n",
    "                elif len(catalog)>1:\n",
    "                    dist = [np.sqrt((catalog[i]['x']-24)**2 + (catalog[i]['y']-24)**2) for i in range(len(catalog))]\n",
    "                    L.append(np.array([catalog[dist.index(min(dist))]]))\n",
    "\n",
    "    return L"
   ]
  },
  {
   "cell_type": "code",
   "execution_count": null,
   "id": "3c84e0d7",
   "metadata": {
    "scrolled": true
   },
   "outputs": [],
   "source": [
    "C = catalog(A[1][0], 6)\n",
    "\n",
    "\n",
    "\n",
    "f = pd.DataFrame({'ID' : [ZTF_transient_list[0] for i in range(len(A[0][0]))], 'time' : A[0][0], \n",
    "                  'ra' : A[2][0], 'dec' : A[3][0], 'x' : [C[i]['x'][0] for i in range(len(C))],\n",
    "                  'y' : [C[i]['y'][0] for i in range(len(C))], 'a' : [C[i]['a'][0] for i in range(len(C))], \n",
    "                 'b' :[C[i]['b'][0] for i in range(len(C))], 'cflux' : [C[i]['cflux'][0] for i in range(len(C))],\n",
    "                 'cpeak' : [C[i]['cpeak'][0] for i in range(len(C))]})\n",
    "\n",
    "for i in range(1,len(A[0])):\n",
    "    C = catalog(A[1][i], 6)\n",
    "    f1 = pd.DataFrame({'ID' : [ZTF_transient_list[i] for j in range(len(A[0][i]))], 'time' : A[0][i], \n",
    "                  'ra' : A[2][i], 'dec' : A[3][i], 'x' : [C[i]['x'][0] for i in range(len(C))],\n",
    "                  'y' : [C[i]['y'][0] for i in range(len(C))], 'a' : [C[i]['a'][0] for i in range(len(C))], \n",
    "                 'b' :[C[i]['b'][0] for i in range(len(C))], 'cflux' : [C[i]['cflux'][0] for i in range(len(C))],\n",
    "                 'cpeak' : [C[i]['cpeak'][0] for i in range(len(C))]})\n",
    "    f = pd.concat([f, f1], ignore_index = True)\n",
    "    f1 = 0"
   ]
  },
  {
   "cell_type": "code",
   "execution_count": null,
   "id": "c4925998",
   "metadata": {},
   "outputs": [],
   "source": [
    "f"
   ]
  },
  {
   "cell_type": "code",
   "execution_count": null,
   "id": "b9a278c7",
   "metadata": {},
   "outputs": [],
   "source": [
    "ID = f.drop_duplicates(subset=['ID'])\n",
    "ID"
   ]
  },
  {
   "cell_type": "code",
   "execution_count": null,
   "id": "d649a2a3",
   "metadata": {},
   "outputs": [],
   "source": [
    "f.to_csv(\"ZTF_3500_3971.csv\", index=False)"
   ]
  },
  {
   "cell_type": "code",
   "execution_count": null,
   "id": "b97e5f86",
   "metadata": {},
   "outputs": [],
   "source": [
    "plt.plot(f['ra'], f['dec'], '.')"
   ]
  },
  {
   "cell_type": "code",
   "execution_count": null,
   "id": "e2f5156e",
   "metadata": {},
   "outputs": [],
   "source": [
    "import matplotlib as mpl\n",
    "plt.figure(figsize=(10,10))\n",
    "plt.rc('text', usetex=True)\n",
    "plt.rc('text.latex', preamble=r'\\usepackage{amssymb}')\n",
    "plt.rc('font', family='serif')\n",
    "plt.rc('font', size=15)\n",
    "mpl.rc('xtick', labelsize=20) \n",
    "mpl.rc('ytick', labelsize=20)\n",
    "mpl.rc('axes', labelsize=20)\n",
    "\n",
    "for i in list(ID['ID']):\n",
    "    F = f[f['ID']==i]\n",
    "    plt.plot((F['ra']-np.mean(F['ra']))*3600, (F['dec']-np.mean(F['dec']))*3600, 'r.', alpha=0.5 )\n",
    "\n",
    "plt.xlabel('Ra', fontsize = 25)\n",
    "plt.ylabel('Dec', fontsize = 25)\n",
    "plt.title('Centroid position of ZTF events (band g 200 events)', fontsize = 25)\n",
    "plt.xlim([-2, 2])\n",
    "plt.ylim([-2, 2])\n",
    "mpl.pyplot.xticks(fontsize=14);"
   ]
  },
  {
   "cell_type": "code",
   "execution_count": null,
   "id": "7b6686c0",
   "metadata": {},
   "outputs": [],
   "source": []
  }
 ],
 "metadata": {
  "kernelspec": {
   "display_name": "Python 3 (ipykernel)",
   "language": "python",
   "name": "python3"
  },
  "language_info": {
   "codemirror_mode": {
    "name": "ipython",
    "version": 3
   },
   "file_extension": ".py",
   "mimetype": "text/x-python",
   "name": "python",
   "nbconvert_exporter": "python",
   "pygments_lexer": "ipython3",
   "version": "3.9.7"
  }
 },
 "nbformat": 4,
 "nbformat_minor": 5
}
