{
 "cells": [
  {
   "cell_type": "code",
   "execution_count": null,
   "id": "8be0510d",
   "metadata": {},
   "outputs": [],
   "source": [
    "import numpy as np\n",
    "import matplotlib.pyplot as plt\n",
    "import warnings\n",
    "import pandas as pd\n",
    "import math\n",
    "import matplotlib as mpl\n",
    "from matplotlib import rc\n",
    "warnings.filterwarnings('ignore')\n",
    "\n",
    "plt.rc('text', usetex=True)\n",
    "plt.rc('text.latex', preamble=r'\\usepackage{amssymb}')\n",
    "plt.rc('font', family='serif')\n",
    "plt.rc('font', size=15)"
   ]
  },
  {
   "cell_type": "code",
   "execution_count": null,
   "id": "661e7bc2",
   "metadata": {},
   "outputs": [],
   "source": [
    "file = np.load(\"data/ZFT_training_images_26k_iband_time_series_images_EPL-2.npz\", allow_pickle = True)\n",
    "file_full = np.load(\"./data/ZTF_training_images_26k_iband_image_properties_EPL-2.npz\", allow_pickle = True)"
   ]
  },
  {
   "cell_type": "code",
   "execution_count": null,
   "id": "0fa15b74",
   "metadata": {},
   "outputs": [],
   "source": [
    "print(file_full.files)"
   ]
  },
  {
   "cell_type": "code",
   "execution_count": null,
   "id": "9577a125",
   "metadata": {},
   "outputs": [],
   "source": [
    "# array: len = 23223\n",
    "\n",
    "z_source = file_full['z_source_list']\n",
    "z_lens = file_full['z_lens_list']\n",
    "theta_E = file_full['theta_E_list']\n",
    "colour = file_full['colour_param']\n",
    "stretch = file_full['stretch_param']\n",
    "max_TD = file_full['max_time_delay']\n",
    "ra_source = file_full['ra_source_list']\n",
    "dec_source = file_full['dec_source_list']"
   ]
  },
  {
   "cell_type": "code",
   "execution_count": null,
   "id": "dc1177a6",
   "metadata": {},
   "outputs": [],
   "source": [
    "mag = file_full['magnification_list']"
   ]
  },
  {
   "cell_type": "code",
   "execution_count": null,
   "id": "684d3535",
   "metadata": {},
   "outputs": [],
   "source": [
    "# array of arrays: 23223 arrays composed of info on each image\n",
    "abs_mags = file_full['app_mag_ps_list']\n",
    "mag = file_full['magnification_list']"
   ]
  },
  {
   "cell_type": "code",
   "execution_count": null,
   "id": "d49612e8",
   "metadata": {},
   "outputs": [],
   "source": [
    "print(file.files)"
   ]
  },
  {
   "cell_type": "code",
   "execution_count": null,
   "id": "50443389",
   "metadata": {},
   "outputs": [],
   "source": [
    "catalog = file['catalog_time_series']     \n",
    "labels = file['data_labels']     # array de listes de taille 2 remplies de 0 et 1      longueur : 23223\n",
    "times = file['time_stamps']      # array contenant des listes de taille variable     longueur : 23223"
   ]
  },
  {
   "cell_type": "code",
   "execution_count": null,
   "id": "554ab855",
   "metadata": {},
   "outputs": [],
   "source": [
    "print(len(labels))"
   ]
  },
  {
   "cell_type": "code",
   "execution_count": null,
   "id": "e771e0d2",
   "metadata": {},
   "outputs": [],
   "source": [
    "labelsbis =[]\n",
    "for i in range(len(labels)):\n",
    "\n",
    "    if (labels[i]==np.array([0, 1])).all():\n",
    "        labelsbis.append(0)\n",
    "    else:\n",
    "        labelsbis.append(1)"
   ]
  },
  {
   "cell_type": "markdown",
   "id": "f2912cc1",
   "metadata": {},
   "source": [
    "# EXTRACTION"
   ]
  },
  {
   "cell_type": "code",
   "execution_count": null,
   "id": "87eb0a7c",
   "metadata": {},
   "outputs": [],
   "source": [
    "def supressNone(liste):\n",
    "    L = [i for i in liste if (i!=None and math.isnan(i)==False) ]\n",
    "    return L"
   ]
  },
  {
   "cell_type": "code",
   "execution_count": null,
   "id": "a52d592c",
   "metadata": {},
   "outputs": [],
   "source": [
    "x = []\n",
    "y = []\n",
    "x2 = []\n",
    "y2 = []\n",
    "xy = []\n",
    "a = []\n",
    "b = []\n",
    "flux = []\n",
    "thresh = []\n",
    "theta = []\n",
    "cpeak = []\n",
    "flag = []\n",
    "cxx = []\n",
    "cxy = []\n",
    "cyy = []\n",
    "posix = []\n",
    "posiy = []\n",
    "\n",
    "for indx, cat in enumerate(catalog):\n",
    "    #print(indx)\n",
    "    x_cat = []\n",
    "    y_cat = []\n",
    "    x2_cat = []     #measures the spatial spread of a source profile\n",
    "    y2_cat = []\n",
    "    flux_cat = []       # flux convolué \n",
    "    a_cat = []\n",
    "    b_cat = []\n",
    "    thresh_cat = []\n",
    "    theta_cat = []\n",
    "    cpeak_cat = []\n",
    "    flag_cat = []\n",
    "    cxx_cat = []\n",
    "    cyy_cat = []\n",
    "    cxy_cat = []\n",
    "    xy_cat = []\n",
    "    posix_cat = []\n",
    "    posiy_cat = []\n",
    "\n",
    "    for c in cat:\n",
    "        try:   \n",
    "            x_cat.append(*c['x'])\n",
    "            y_cat.append(*c['y'])\n",
    "            x2_cat.append(*c['x2'])\n",
    "            y2_cat.append(*c['y2'])\n",
    "            flux_cat.append(*c['cflux'])\n",
    "            a_cat.append(*c['a'])\n",
    "            b_cat.append(*c['b'])\n",
    "            thresh_cat.append(*c['thresh'])\n",
    "            theta_cat.append(*c['theta'])\n",
    "            cpeak_cat.append(*c['cpeak'])\n",
    "            flag_cat.append(*c['flag'])\n",
    "            cxx_cat.append(*c['cxx'])\n",
    "            cyy_cat.append(*c['cyy'])\n",
    "            cxy_cat.append(*c['cxy'])\n",
    "            xy_cat.append(*c['xy'])\n",
    "            posix_cat.append(*c['x'])\n",
    "            posiy_cat.append(*c['y'])\n",
    "\n",
    "      \n",
    "        except:\n",
    "        # quand c est vide, pour ne pas avoir de nan values, on remplace les trous par la moyenne des valeurs\n",
    "        # ou None pour le cas de x2, y2, flux\n",
    "\n",
    "            x_cat.append(np.nan)\n",
    "            y_cat.append(np.nan)\n",
    "            x2_cat.append(None)\n",
    "            y2_cat.append(None)\n",
    "            flux_cat.append(None)\n",
    "            a_cat.append(None)\n",
    "            b_cat.append(None)\n",
    "            thresh_cat.append(None)\n",
    "            theta_cat.append(None)\n",
    "            cpeak_cat.append(None)\n",
    "            flag_cat.append(10)\n",
    "            cxx_cat.append(None)\n",
    "            cyy_cat.append(None)\n",
    "            cxy_cat.append(None)\n",
    "            xy_cat.append(None)\n",
    "            posix_cat.append(np.nan)\n",
    "            posiy_cat.append(np.nan)\n",
    "\n",
    "    x.append(supressNone(np.array(x_cat)))\n",
    "    y.append(supressNone(np.array(y_cat)))\n",
    "    x2.append(supressNone(np.array(x2_cat)))\n",
    "    y2.append(supressNone(np.array(x2_cat)))\n",
    "    flux.append(supressNone(np.array(flux_cat)))\n",
    "    a.append(supressNone(np.array(a_cat)))\n",
    "    b.append(supressNone(np.array(b_cat)))\n",
    "    \n",
    "    thresh.append(supressNone(np.array(x_cat)))\n",
    "    theta.append(supressNone(np.array(theta_cat)))\n",
    "    cpeak.append(supressNone(np.array(cpeak_cat)))\n",
    "    flag.append(supressNone(np.array(flag_cat)))\n",
    "    cxx.append(supressNone(cxx_cat))\n",
    "    cyy.append(supressNone(cyy_cat))\n",
    "    cxy.append(supressNone(cxy_cat))\n",
    "    xy.append(supressNone(xy_cat))\n",
    "    posix.append(posix_cat)\n",
    "    posiy.append(posiy_cat)"
   ]
  },
  {
   "cell_type": "markdown",
   "id": "59276ad7",
   "metadata": {},
   "source": [
    "# POSITION"
   ]
  },
  {
   "cell_type": "code",
   "execution_count": null,
   "id": "4f99bb9c",
   "metadata": {},
   "outputs": [],
   "source": [
    "from matplotlib import rc\n",
    "import matplotlib"
   ]
  },
  {
   "cell_type": "code",
   "execution_count": null,
   "id": "37e94b1f",
   "metadata": {},
   "outputs": [],
   "source": [
    "plt.figure(figsize=(8, 8))\n",
    "\n",
    "plt.rc('text', usetex=True)\n",
    "plt.rc('text.latex', preamble=r'\\usepackage{amssymb}')\n",
    "plt.rc('font', family='serif')\n",
    "#plt.rc('font', size=15)\n",
    "mpl.rc('xtick', labelsize=20) \n",
    "mpl.rc('ytick', labelsize=20)\n",
    "mpl.rc('axes', labelsize=20)\n",
    "\n",
    "ax = plt.subplot(aspect='equal')\n",
    "for i in range(len(x)):\n",
    "    X = [j-24+ra_source[i] for j in posix[i]]\n",
    "    Y = [j-24+dec_source[i] for j in posiy[i]]\n",
    "    #print('X', X)\n",
    "    #print('Y', Y)\n",
    "    if labelsbis[i]== 0:      #UNLENSED\n",
    "        plt.plot(X-np.nanmean(X), Y-np.nanmean(Y), 'b.', alpha = 0.7)\n",
    "        \n",
    "        \n",
    "    else:                      #LENSED\n",
    "        ax.plot(X-np.nanmean(X), Y-np.nanmean(Y),'r.', alpha = 0.3, zorder=1)\n",
    "    \n",
    "circle = plt.Circle((0,0),0.6, color='yellow', fill=False, linewidth=4, zorder=2)\n",
    "ax.add_patch(circle)\n",
    "plt.xlabel('right ascension ')\n",
    "plt.ylabel('declinaison')\n",
    "plt.title('Centroids positions');"
   ]
  },
  {
   "cell_type": "code",
   "execution_count": null,
   "id": "8b23845e",
   "metadata": {},
   "outputs": [],
   "source": [
    "plt.figure(figsize=(8, 8))\n",
    "\n",
    "plt.rc('text', usetex=True)\n",
    "plt.rc('text.latex', preamble=r'\\usepackage{amssymb}')\n",
    "plt.rc('font', family='serif')\n",
    "plt.rc('font', size=15)\n",
    "mpl.rc('xtick', labelsize=20) \n",
    "mpl.rc('ytick', labelsize=20)\n",
    "mpl.rc('axes', labelsize=20)\n",
    "\n",
    "index = 62\n",
    "X = [j-24+ra_source[i] for j in posix[index]]\n",
    "Y = [j-24+dec_source[i] for j in posiy[index]]\n",
    "plt.scatter(X-np.nanmean(X), Y-np.nanmean(Y), c=times[index])\n",
    "\n",
    "plt.xlabel('right ascension')\n",
    "plt.ylabel('declinaison')\n",
    "plt.title('Centroids positions for a single glSN Ia');"
   ]
  },
  {
   "cell_type": "code",
   "execution_count": null,
   "id": "c6c7cc83",
   "metadata": {},
   "outputs": [],
   "source": [
    "plt.figure(figsize=(8, 8))\n",
    "\n",
    "plt.rc('text', usetex=True)\n",
    "plt.rc('text.latex', preamble=r'\\usepackage{amssymb}')\n",
    "plt.rc('font', family='serif')\n",
    "plt.rc('font', size=15)\n",
    "mpl.rc('xtick', labelsize=20) \n",
    "mpl.rc('ytick', labelsize=20)\n",
    "mpl.rc('axes', labelsize=20)\n",
    "\n",
    "index = 27\n",
    "X = [j-24+ra_source[i] for j in posix[index]]\n",
    "Y = [j-24+dec_source[i] for j in posiy[index]]\n",
    "plt.scatter(X-np.nanmean(X), Y-np.nanmean(Y), c=times[index])\n",
    "\n",
    "plt.xlabel('ra')\n",
    "plt.ylabel('dec')\n",
    "plt.title('Centroids positions');"
   ]
  },
  {
   "cell_type": "markdown",
   "id": "d52be4c5",
   "metadata": {},
   "source": [
    "### DEPENDANCE EINSTEIN RADIUS"
   ]
  },
  {
   "cell_type": "code",
   "execution_count": null,
   "id": "a2ff6939",
   "metadata": {},
   "outputs": [],
   "source": [
    "plt.figure(figsize=(10, 10))\n",
    "\n",
    "plt.rc('text', usetex=True)\n",
    "plt.rc('text.latex', preamble=r'\\usepackage{amssymb}')\n",
    "plt.rc('font', family='serif')\n",
    "plt.rc('font', size=15)\n",
    "mpl.rc('xtick', labelsize=20) \n",
    "mpl.rc('ytick', labelsize=20)\n",
    "mpl.rc('axes', labelsize=20)\n",
    "\n",
    "\n",
    "for i in range(5000):\n",
    "    \n",
    "    if labelsbis[i]== 1:                    #LENSED\n",
    "        X = [j-24+ra_source[i] for j in posix[i]]\n",
    "        Y = [j-24+dec_source[i] for j in posiy[i]]\n",
    "        X = list(X-np.nanmean(X))\n",
    "        Y = list(Y-np.nanmean(Y))\n",
    "        plt.scatter(X, Y, s=theta_E[i]*20)\n",
    "    \n",
    "plt.xlim(-7, 7)\n",
    "plt.ylim(-7, 7)\n",
    "plt.xlabel('ra')\n",
    "plt.ylabel('dec')\n",
    "plt.title('Centroids positions');"
   ]
  },
  {
   "cell_type": "code",
   "execution_count": null,
   "id": "1c59819a",
   "metadata": {},
   "outputs": [],
   "source": [
    "plt.figure(figsize=(8, 8))\n",
    "\n",
    "plt.rc('text', usetex=True)\n",
    "plt.rc('text.latex', preamble=r'\\usepackage{amssymb}')\n",
    "plt.rc('font', family='serif')\n",
    "plt.rc('font', size=15)\n",
    "mpl.rc('xtick', labelsize=20) \n",
    "mpl.rc('ytick', labelsize=20)\n",
    "mpl.rc('axes', labelsize=20)\n",
    "compteur = 1\n",
    "\n",
    "for i in range(100):\n",
    "    \n",
    "    if labelsbis[i]== 1:                    #LENSED\n",
    "        X = [j-24+ra_source[i] for j in posix[i]]\n",
    "        Y = [j-24+dec_source[i] for j in posiy[i]]\n",
    "        X = list(X-np.nanmean(X))\n",
    "        Y = list(Y-np.nanmean(Y))\n",
    "        plt.scatter(X, Y, s=theta_E[i]*20)\n",
    "        compteur+=1\n",
    "    \n",
    "plt.xlim(-4, 4)\n",
    "plt.ylim(-4, 4)\n",
    "plt.xlabel('right ascension')\n",
    "plt.ylabel('declinaison')\n",
    "plt.title('Centroids positions');"
   ]
  },
  {
   "cell_type": "code",
   "execution_count": null,
   "id": "d9d020af",
   "metadata": {},
   "outputs": [],
   "source": [
    "compteur"
   ]
  },
  {
   "cell_type": "code",
   "execution_count": null,
   "id": "e1981fb4",
   "metadata": {},
   "outputs": [],
   "source": [
    "plt.figure(figsize=(8, 8))\n",
    "import colorsys\n",
    "\n",
    "plt.rc('text', usetex=True)\n",
    "plt.rc('text.latex', preamble=r'\\usepackage{amssymb}')\n",
    "plt.rc('font', family='serif')\n",
    "plt.rc('font', size=15)\n",
    "mpl.rc('xtick', labelsize=20) \n",
    "mpl.rc('ytick', labelsize=20)\n",
    "mpl.rc('axes', labelsize=20)\n",
    "\n",
    "\n",
    "for i in range(len(ra_source)):\n",
    "    \n",
    "    if labelsbis[i]== 1:                    #LENSED\n",
    "        X = [j-24+ra_source[i] for j in posix[i]]\n",
    "        Y = [j-24+dec_source[i] for j in posiy[i]]\n",
    "        X = list(X-np.nanmean(X))\n",
    "        Y = list(Y-np.nanmean(Y))\n",
    "        if theta_E[i]<=1.5:\n",
    "            plt.scatter(X, Y, c='salmon', alpha = 0.5, marker='x')\n",
    "        elif theta_E[i]>1.5 and theta_E[i]<=2:\n",
    "            plt.scatter(X, Y, c='tomato', marker='+')\n",
    "        elif theta_E[i]>2 and theta_E[i]<=3:\n",
    "            plt.scatter(X, Y, c='red', marker='.')\n",
    "        else:\n",
    "            plt.scatter(X, Y, c='darkred', marker='o')\n",
    "    \n",
    "plt.xlim(-7, 7)\n",
    "plt.ylim(-7, 7)\n",
    "plt.xlabel('right ascension')\n",
    "plt.ylabel('declinaison')\n",
    "plt.title('Einstein radius as function of centroids positions');"
   ]
  },
  {
   "cell_type": "markdown",
   "id": "959b50fb",
   "metadata": {},
   "source": [
    "### DEPENDANCE MAGNIFICATIONS"
   ]
  },
  {
   "cell_type": "code",
   "execution_count": null,
   "id": "5863f24b",
   "metadata": {},
   "outputs": [],
   "source": [
    "max_mag = []\n",
    "for i in range(len(mag)):\n",
    "    max_mag.append(max(mag[i]))"
   ]
  },
  {
   "cell_type": "code",
   "execution_count": null,
   "id": "cf3aca5c",
   "metadata": {},
   "outputs": [],
   "source": [
    "plt.figure(figsize=(8, 8))\n",
    "\n",
    "plt.rc('text', usetex=True)\n",
    "plt.rc('text.latex', preamble=r'\\usepackage{amssymb}')\n",
    "plt.rc('font', family='serif')\n",
    "plt.rc('font', size=15)\n",
    "mpl.rc('xtick', labelsize=20) \n",
    "mpl.rc('ytick', labelsize=20)\n",
    "mpl.rc('axes', labelsize=20)\n",
    "\n",
    "\n",
    "for i in range(100):\n",
    "    \n",
    "    if labelsbis[i]== 1:                    #LENSED\n",
    "        X = [j-24+ra_source[i] for j in posix[i]]\n",
    "        Y = [j-24+dec_source[i] for j in posiy[i]]\n",
    "        X = list(X-np.nanmean(X))\n",
    "        Y = list(Y-np.nanmean(Y))\n",
    "        plt.scatter(X, Y, s=2*max(mag[i]))\n",
    "    \n",
    "plt.xlim(-4, 4)\n",
    "plt.ylim(-4, 4)\n",
    "plt.xlabel('right ascension')\n",
    "plt.ylabel('declinaison')\n",
    "plt.title('Centroids positions');"
   ]
  },
  {
   "cell_type": "code",
   "execution_count": null,
   "id": "b925d317",
   "metadata": {},
   "outputs": [],
   "source": [
    "plt.figure(figsize=(8, 8))\n",
    "import colorsys\n",
    "\n",
    "plt.rc('text', usetex=True)\n",
    "plt.rc('text.latex', preamble=r'\\usepackage{amssymb}')\n",
    "plt.rc('font', family='serif')\n",
    "plt.rc('font', size=15)\n",
    "mpl.rc('xtick', labelsize=20) \n",
    "mpl.rc('ytick', labelsize=20)\n",
    "mpl.rc('axes', labelsize=20)\n",
    "\n",
    "\n",
    "for i in range(len(ra_source)):\n",
    "    \n",
    "    if labelsbis[i]== 1:                    #LENSED\n",
    "        X = [j-24+ra_source[i] for j in posix[i]]\n",
    "        Y = [j-24+dec_source[i] for j in posiy[i]]\n",
    "        X = list(X-np.nanmean(X))\n",
    "        Y = list(Y-np.nanmean(Y))\n",
    "        if max(mag[i])<=5:\n",
    "            plt.scatter(X, Y, c='salmon', alpha = 0.5, marker='x')\n",
    "        elif max(mag[i])>5 and max(mag[i])<=10:\n",
    "            plt.scatter(X, Y, c='tomato', marker='+')\n",
    "        elif max(mag[i])>10 and max(mag[i])<=30:\n",
    "            plt.scatter(X, Y, c='red', marker='.')\n",
    "        elif max(mag[i])>30 and max(mag[i])<=50:\n",
    "            plt.scatter(X, Y, c='darkred', marker='o')\n",
    "        else:\n",
    "            plt.scatter(X, Y, c='black', marker='8')\n",
    "    \n",
    "plt.xlim(-7, 7)\n",
    "plt.ylim(-7, 7)\n",
    "plt.xlabel('right ascension')\n",
    "plt.ylabel('declinaison')\n",
    "plt.title('Magnification as a function of centroids positions');"
   ]
  },
  {
   "cell_type": "code",
   "execution_count": null,
   "id": "2ed689ca",
   "metadata": {},
   "outputs": [],
   "source": [
    "plt.figure(figsize=(10, 10))\n",
    "import colorsys\n",
    "\n",
    "plt.rc('text', usetex=True)\n",
    "plt.rc('text.latex', preamble=r'\\usepackage{amssymb}')\n",
    "plt.rc('font', family='serif')\n",
    "plt.rc('font', size=15)\n",
    "mpl.rc('xtick', labelsize=20) \n",
    "mpl.rc('ytick', labelsize=20)\n",
    "mpl.rc('axes', labelsize=20)\n",
    "\n",
    "\n",
    "for i in range(len(ra_source)):\n",
    "    \n",
    "    if labelsbis[i]== 1:                    #LENSED\n",
    "        X = [j-24+ra_source[i] for j in posix[i]]\n",
    "        Y = [j-24+dec_source[i] for j in posiy[i]]\n",
    "        X = list(X-np.nanmean(X))\n",
    "        Y = list(Y-np.nanmean(Y))\n",
    "        if max(mag[i])>10 and max(mag[i])<=100:\n",
    "            plt.scatter(X, Y, c='red', marker='8')\n",
    "        elif max(mag[i])>100 and max(mag[i])<=250:\n",
    "            plt.scatter(X, Y, c='darkred', marker='o')\n",
    "        else:\n",
    "            plt.scatter(X, Y, c='black', marker='+')\n",
    "    \n",
    "plt.xlim(-7, 7)\n",
    "plt.ylim(-7, 7)\n",
    "plt.xlabel('ra')\n",
    "plt.ylabel('dec')\n",
    "plt.title('Centroids positions');"
   ]
  },
  {
   "cell_type": "markdown",
   "id": "2b8c37a6",
   "metadata": {},
   "source": [
    "# SECOND MOMENTS"
   ]
  },
  {
   "cell_type": "code",
   "execution_count": null,
   "id": "436d3c68",
   "metadata": {},
   "outputs": [],
   "source": [
    "fig, (ax1, ax2, ax3) = plt.subplots(1, 3, figsize = (8, 8))\n",
    "#fig = plt.figure(figsize=(7,7))\n",
    "for i in range(len(x2)):\n",
    "    if labelsbis[i]==0:\n",
    "        plt.plot(x2[i], xy[i], 'b.')\n",
    "        plt.plot(y2[i], xy[i], 'b.')\n",
    "        plt.plot(x2[i], y2[i], 'b.')\n",
    "    else:\n",
    "        plt.plot(x2[i], xy[i], 'r.', alpha = 0.2)\n",
    "        plt.plot(y2[i], xy[i], 'r.', alpha = 0.2)\n",
    "        plt.plot(x2[i], y2[i], 'r.', alpha = 0.2)\n",
    "        \n",
    "ax1.set_xlim(-1, 10)\n",
    "ax2.set_xlim(-1, 10)\n",
    "ax3.set_xlim(-1, 10)\n",
    "ax1.set_xlabel('x2')\n",
    "ax1.set_ylabel('xy')\n",
    "ax2.set_xlabel('y2')\n",
    "ax2.set_ylabel('xy')\n",
    "ax3.set_xlabel('x2')\n",
    "ax3.set_ylabel('y2')\n",
    "plt.xlabel('x2')\n",
    "plt.ylabel('y2')\n",
    "plt.show();"
   ]
  },
  {
   "cell_type": "code",
   "execution_count": null,
   "id": "9b2e0a57",
   "metadata": {},
   "outputs": [],
   "source": [
    "fig, (ax1, ax2) = plt.subplots(1, 2, constrained_layout = True, figsize = (10, 10))\n",
    "for i in range(len(x2)):\n",
    "    if labelsbis[i]==0:\n",
    "        ax1.plot(x2[i], xy[i], 'b.')\n",
    "        ax2.plot(y2[i], xy[i], 'b.')\n",
    "    else:\n",
    "        ex = 1\n",
    "        \n",
    "ax1.set_xlabel('x2')\n",
    "ax1.set_ylabel('xy')\n",
    "ax2.set_xlabel('y2')\n",
    "ax2.set_ylabel('xy')\n",
    "plt.show()"
   ]
  },
  {
   "cell_type": "code",
   "execution_count": null,
   "id": "1f161191",
   "metadata": {},
   "outputs": [],
   "source": [
    "fig = plt.figure(figsize=(10, 10))\n",
    "ax = fig.add_subplot(projection='3d')\n",
    "\n",
    "for i in range(len(x2)):\n",
    "    \n",
    "    if labelsbis[i]==0:\n",
    "        ax.scatter(supressNone(x2[i]), supressNone(y2[i]), supressNone(xy[i]), c='blue', marker='.')\n",
    "    else:\n",
    "        ax.scatter(supressNone(x2[i]), supressNone(y2[i]), supressNone(xy[i]), c='red', marker='.')\n",
    "\n",
    "ax.set_xlabel('x2')\n",
    "ax.set_ylabel('y2')\n",
    "ax.set_zlabel('xy')\n",
    "ax.view_init(0, -135)\n",
    "plt.show()"
   ]
  },
  {
   "cell_type": "code",
   "execution_count": null,
   "id": "d9146965",
   "metadata": {},
   "outputs": [],
   "source": [
    "fig = plt.figure(figsize=(10, 10))\n",
    "ax = fig.add_subplot(projection='3d')\n",
    "\n",
    "for i in range(len(x2)):\n",
    "    \n",
    "    if labelsbis[i]==0:\n",
    "        ax.scatter(supressNone(x2[i]), supressNone(y2[i]), supressNone(xy[i]), c='blue', marker='.')\n",
    "    else:\n",
    "        ax.scatter(supressNone(x2[i]), supressNone(y2[i]), supressNone(xy[i]), c='red', marker='.')\n",
    "\n",
    "ax.set_xlabel('x2')\n",
    "ax.set_ylabel('y2')\n",
    "ax.set_zlabel('xy')\n",
    "plt.show()"
   ]
  },
  {
   "cell_type": "markdown",
   "id": "f6cf4b53",
   "metadata": {},
   "source": [
    "## ELLIPSES"
   ]
  },
  {
   "cell_type": "markdown",
   "id": "5c7ee38a",
   "metadata": {},
   "source": [
    "### A B AND THETA"
   ]
  },
  {
   "cell_type": "code",
   "execution_count": null,
   "id": "e53a4057",
   "metadata": {},
   "outputs": [],
   "source": [
    "fig, (ax1, ax2) = plt.subplots(1, 2, figsize=(10, 10))\n",
    "for i in range(len(x)):\n",
    "    if labelsbis[i]==0:\n",
    "        ax1.plot(a[i], b[i], 'b.', alpha=0.1)\n",
    "    else:\n",
    "        ax2.plot(a[i], b[i], 'r.', alpha = 0.1)\n",
    "plt.xlabel('a')\n",
    "plt.ylabel('b')\n",
    "plt.show()"
   ]
  },
  {
   "cell_type": "code",
   "execution_count": null,
   "id": "a827938d",
   "metadata": {},
   "outputs": [],
   "source": [
    "fig = plt.figure(figsize=(8, 8))\n",
    "for i in range(len(x)):\n",
    "    if labelsbis[i]==0:\n",
    "        plt.plot(a[i], b[i], 'b.', alpha=0.3)\n",
    "    else:\n",
    "        plt.plot(a[i], b[i], 'r.', alpha = 0.1)\n",
    "plt.xlabel('a')\n",
    "plt.ylabel('b')\n",
    "plt.title('Elliptical parameters')\n",
    "plt.show()"
   ]
  },
  {
   "cell_type": "code",
   "execution_count": null,
   "id": "74e0bf00",
   "metadata": {},
   "outputs": [],
   "source": [
    "fig, (ax1, ax2, ax3) = plt.subplots(1, 3, constrained_layout = True, figsize = (11, 11))\n",
    "for i in range(len(x2)):\n",
    "    if labelsbis[i]==0:\n",
    "        ax1.plot(a[i], b[i], 'b.')\n",
    "        ax2.plot(a[i], theta[i], 'b.')\n",
    "        ax3.plot(b[i], theta[i], 'b.')\n",
    "    else:\n",
    "        ax1.plot(a[i], b[i], 'r.', alpha = 0.2)\n",
    "        ax2.plot(a[i], theta[i], 'r.', alpha = 0.2)\n",
    "        ax3.plot(b[i], theta[i], 'r.', alpha = 0.2)\n",
    "        \n",
    "ax1.set_xlabel('a')\n",
    "ax1.set_ylabel('b')\n",
    "ax2.set_xlabel('a')\n",
    "ax2.set_ylabel('theta')\n",
    "ax3.set_xlabel('b')\n",
    "ax3.set_ylabel('theta')\n",
    "plt.show()"
   ]
  },
  {
   "cell_type": "markdown",
   "id": "26af4bef",
   "metadata": {},
   "source": [
    "### CXX CYY AND CXY"
   ]
  },
  {
   "cell_type": "code",
   "execution_count": null,
   "id": "5521a993",
   "metadata": {},
   "outputs": [],
   "source": [
    "fig, (ax1, ax2) = plt.subplots(2, 1)\n",
    "for i in range(len(x)):\n",
    "    if labelsbis[i]==0:\n",
    "        ax1.plot(cxx[i], cyy[i], 'b.', alpha=0.1)\n",
    "    else:\n",
    "        ax2.plot(cxx[i], cyy[i], 'r.', alpha = 0.1)\n",
    "    \n",
    "plt.show()"
   ]
  },
  {
   "cell_type": "code",
   "execution_count": null,
   "id": "3e68d4ba",
   "metadata": {},
   "outputs": [],
   "source": [
    "fig=plt.figure(figsize=(8, 8))\n",
    "for i in range(len(x)):\n",
    "    if labelsbis[i]==0:\n",
    "        plt.plot(cxx[i], cyy[i], 'b.', alpha=0.1)\n",
    "    else:\n",
    "        plt.plot(cxx[i], cyy[i], 'r.', alpha = 0.1)\n",
    "plt.xlabel('cxx')\n",
    "plt.ylabel('cyy')\n",
    "plt.show()"
   ]
  },
  {
   "cell_type": "code",
   "execution_count": null,
   "id": "8055cb63",
   "metadata": {},
   "outputs": [],
   "source": [
    "from mpl_toolkits.mplot3d import Axes3D"
   ]
  },
  {
   "cell_type": "code",
   "execution_count": null,
   "id": "141ecc35",
   "metadata": {},
   "outputs": [],
   "source": [
    "fig = plt.figure(figsize=(10, 10))\n",
    "ax = fig.add_subplot(projection='3d')\n",
    "\n",
    "for i in range(len(cxx)):\n",
    "    \n",
    "    if labelsbis[i]==0:\n",
    "        ax.scatter(supressNone(cxx[i]), supressNone(cyy[i]), supressNone(cxy[i]), c='blue', marker='.')\n",
    "    else:\n",
    "        ax.scatter(supressNone(cxx[i]), supressNone(cyy[i]), supressNone(cxy[i]), c='red', marker='.')\n",
    "\n",
    "ax.set_xlabel('cxx')\n",
    "ax.set_ylabel('cyy')\n",
    "ax.set_zlabel('cxy')\n",
    "ax.view_init(0, 45)\n",
    "plt.show()"
   ]
  },
  {
   "cell_type": "code",
   "execution_count": null,
   "id": "aec3099a",
   "metadata": {},
   "outputs": [],
   "source": [
    "fig = plt.figure(figsize=(10, 10))\n",
    "ax = fig.add_subplot(projection='3d')\n",
    "\n",
    "for i in range(len(cxx)):\n",
    "    \n",
    "    if labelsbis[i]==0:\n",
    "        ax.scatter(supressNone(cxx[i]), supressNone(cyy[i]), supressNone(cxy[i]), c='blue', marker='.')\n",
    "    else:\n",
    "        ax.scatter(supressNone(cxx[i]), supressNone(cyy[i]), supressNone(cxy[i]), c='red', marker='.')\n",
    "\n",
    "ax.set_xlabel('cxx')\n",
    "ax.set_ylabel('cyy')\n",
    "ax.set_zlabel('cxy')\n",
    "plt.show()"
   ]
  },
  {
   "cell_type": "markdown",
   "id": "16dd4e62",
   "metadata": {},
   "source": [
    "## CORRELATIONS"
   ]
  },
  {
   "cell_type": "code",
   "execution_count": null,
   "id": "cc58dc2a",
   "metadata": {},
   "outputs": [],
   "source": [
    "for i in range(len(x)):\n",
    "    \n",
    "    if i==0:\n",
    "        f = pd.DataFrame({'nb': i, 'label': labelsbis[i], 'x' : x[i], 'y' : y[i], 'x2' : x2[i], 'y2' : y2[i], 'xy' : xy[i], \n",
    "                          'a' : a[i], 'b' : b[i], 'flux' : flux[i], 'thresh' : thresh[i], \n",
    "                          'theta' : theta[i], 'cpeak' : cpeak[i],'cxx' : cxx[i], 'cyy' : cyy[i], 'cxy' : cxy[i]})\n",
    "        \n",
    "        \n",
    "    else:\n",
    "        f1 = pd.DataFrame({'nb': i, 'label': labelsbis[i], 'x' : x[i], 'y' : y[i], 'x2' : x2[i], 'y2' : y2[i], 'xy' : xy[i],\n",
    "                           'a' : a[i], 'b' : b[i], 'flux' : flux[i], 'thresh' : thresh[i], 'theta' : theta[i], \n",
    "                         'cpeak' : cpeak[i], 'cxx' : cxx[i], 'cyy' : cyy[i], 'cxy' : cxy[i]})\n",
    "        f = pd.concat([f, f1])"
   ]
  },
  {
   "cell_type": "code",
   "execution_count": null,
   "id": "59121c61",
   "metadata": {},
   "outputs": [],
   "source": [
    "f[:7]"
   ]
  },
  {
   "cell_type": "code",
   "execution_count": null,
   "id": "801da8c4",
   "metadata": {},
   "outputs": [],
   "source": [
    "nbunlensed = []\n",
    "theta_E_unlensed = []\n",
    "nblensed = []\n",
    "theta_E_lensed = []\n",
    "for i in range(len(f['label'][0].values)):\n",
    "    if f['label'][0].values[i]==0:\n",
    "        nbunlensed.append(i)\n",
    "        theta_E_unlensed.append(0)\n",
    "    else:\n",
    "        nblensed.append(i)\n",
    "        theta_E_lensed.append(theta_E[i])"
   ]
  },
  {
   "cell_type": "code",
   "execution_count": null,
   "id": "67df7914",
   "metadata": {},
   "outputs": [],
   "source": [
    "lensed = f[f['label']==1][['x', 'y', 'x2', 'y2', 'xy', 'a', 'b', 'theta', 'cxx', 'cxy', 'cyy', 'cpeak']]\n",
    "unlensed = f[f['label']==0][['x', 'y', 'x2', 'y2', 'xy', 'a', 'b', 'theta', 'cxx', 'cxy', 'cyy', 'cpeak']]"
   ]
  },
  {
   "cell_type": "code",
   "execution_count": null,
   "id": "8223c95a",
   "metadata": {},
   "outputs": [],
   "source": [
    "cor_lensed = lensed.corr()\n",
    "cor_unlensed = unlensed.corr()"
   ]
  },
  {
   "cell_type": "code",
   "execution_count": null,
   "id": "21007534",
   "metadata": {},
   "outputs": [],
   "source": [
    "cor_lensed"
   ]
  },
  {
   "cell_type": "code",
   "execution_count": null,
   "id": "4f3ded86",
   "metadata": {},
   "outputs": [],
   "source": [
    "import seaborn as sns\n",
    "\n",
    "plt.rc('text', usetex=True)\n",
    "plt.rc('text.latex', preamble=r'\\usepackage{amssymb}')\n",
    "plt.rc('font', family='serif')\n",
    "plt.rc('font', size=15)\n",
    "mpl.rc('xtick', labelsize=20) \n",
    "mpl.rc('ytick', labelsize=20)\n",
    "mpl.rc('axes', labelsize=20)\n",
    "\n",
    "\n",
    "plt.figure(figsize=(8, 8))\n",
    "sns.heatmap(cor_lensed, cmap=\"Reds\")\n",
    "sns.set(font_scale = 2)\n",
    "plt.title('Correlation matrix for lensed SNe Ia');"
   ]
  },
  {
   "cell_type": "code",
   "execution_count": null,
   "id": "3bb2c90b",
   "metadata": {},
   "outputs": [],
   "source": [
    "plt.figure(figsize=(8, 8))\n",
    "sns.heatmap(cor_unlensed, cmap=\"Blues\")\n",
    "sns.set(font_scale = 2)\n",
    "plt.title('Correlation matrix for unlensed SNe Ia');"
   ]
  },
  {
   "cell_type": "code",
   "execution_count": null,
   "id": "313aa533",
   "metadata": {},
   "outputs": [],
   "source": [
    "plt.figure(figsize=(8, 8))\n",
    "sns.heatmap(cor_unlensed - cor_lensed);   #matrice for lensed - non lensed\n",
    "sns.set(font_scale = 2)\n",
    "plt.title('Difference between unlens and lens correlation matrices ');"
   ]
  },
  {
   "cell_type": "code",
   "execution_count": null,
   "id": "a4884c35",
   "metadata": {},
   "outputs": [],
   "source": [
    "sample_lensed = lensed[:7]\n",
    "cor_sample_lensed = sample_lensed.corr()\n",
    "plt.figure(figsize=(8, 8))\n",
    "sns.heatmap(cor_sample_lensed, cmap=\"Reds\"); \n",
    "sns.set(font_scale = 2)\n",
    "plt.title('Example for a single lensed SN Ia');"
   ]
  },
  {
   "cell_type": "code",
   "execution_count": null,
   "id": "109e5925",
   "metadata": {},
   "outputs": [],
   "source": [
    "a = 1"
   ]
  },
  {
   "cell_type": "code",
   "execution_count": null,
   "id": "ffa0fbde",
   "metadata": {},
   "outputs": [],
   "source": []
  }
 ],
 "metadata": {
  "kernelspec": {
   "display_name": "Python 3 (ipykernel)",
   "language": "python",
   "name": "python3"
  },
  "language_info": {
   "codemirror_mode": {
    "name": "ipython",
    "version": 3
   },
   "file_extension": ".py",
   "mimetype": "text/x-python",
   "name": "python",
   "nbconvert_exporter": "python",
   "pygments_lexer": "ipython3",
   "version": "3.9.7"
  }
 },
 "nbformat": 4,
 "nbformat_minor": 5
}
