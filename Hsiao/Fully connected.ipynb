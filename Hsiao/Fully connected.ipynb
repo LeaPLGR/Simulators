{
 "cells": [
  {
   "cell_type": "code",
   "execution_count": 11,
   "id": "25f1b60d",
   "metadata": {},
   "outputs": [],
   "source": [
    "import numpy as np\n",
    "import matplotlib\n",
    "import matplotlib.pyplot as plt\n",
    "import pandas as pd\n",
    "from sklearn import cluster, datasets\n",
    "%matplotlib inline\n",
    "\n",
    "#Import pytorch:\n",
    "import torch\n",
    "import torch.nn as nn\n",
    "import torch.nn.functional as F\n",
    "import torch.optim as optim\n",
    "from torch.utils.data import DataLoader, TensorDataset, Subset, random_split\n",
    "import torchvision\n",
    "import torchvision.transforms as transforms"
   ]
  },
  {
   "cell_type": "code",
   "execution_count": 24,
   "id": "d3662b20",
   "metadata": {},
   "outputs": [],
   "source": [
    "# Load data\n",
    "df1 = pd.read_csv(\"truth2.csv\")\n",
    "df2 = pd.read_csv(\"data2.csv\")\n",
    "df2.rename(columns={'time sample band g': 'time_g', 'time sample band r': 'time_r',\n",
    "                    'time sample band i': 'time_i','total flux + noise band g': 'tfnbg',\n",
    "                    'total flux + noise band r': 'tfnbr', 'total flux + noise band i': 'tfnbi',}, inplace=True)\n",
    "\n",
    "df2 = df2.loc[:, ['images', 'time_g', 'tfnbg']]"
   ]
  },
  {
   "cell_type": "code",
   "execution_count": null,
   "id": "7433411a",
   "metadata": {},
   "outputs": [],
   "source": [
    "\n"
   ]
  },
  {
   "cell_type": "code",
   "execution_count": null,
   "id": "ca78cf8a",
   "metadata": {},
   "outputs": [],
   "source": []
  },
  {
   "cell_type": "code",
   "execution_count": null,
   "id": "675677bc",
   "metadata": {},
   "outputs": [],
   "source": []
  },
  {
   "cell_type": "code",
   "execution_count": null,
   "id": "ede20a44",
   "metadata": {},
   "outputs": [],
   "source": []
  },
  {
   "cell_type": "code",
   "execution_count": 8,
   "id": "359efa10",
   "metadata": {},
   "outputs": [],
   "source": [
    "# Hyperparameters\n",
    "N_epochs = 20\n",
    "batch_size = 1000\n",
    "learning_rate = 0.001"
   ]
  },
  {
   "cell_type": "code",
   "execution_count": 5,
   "id": "70127aaf",
   "metadata": {},
   "outputs": [
    {
     "name": "stdout",
     "output_type": "stream",
     "text": [
      "Fully_connected(\n",
      "  (neuron): Sequential(\n",
      "    (0): Linear(in_features=784, out_features=128, bias=True)\n",
      "    (1): ReLU()\n",
      "    (2): Linear(in_features=128, out_features=10, bias=True)\n",
      "  )\n",
      ")\n"
     ]
    }
   ],
   "source": [
    "# Hyperparameters\n",
    "\n",
    "input_dim = 28*28\n",
    "\n",
    "H = 128\n",
    "output_dim =10\n",
    "\n",
    "# Network Class\n",
    "class Fully_connected(nn.Module):\n",
    "    def __init__(self):\n",
    "        super(Fully_connected, self).__init__()\n",
    "        self.neuron = nn.Sequential(\n",
    "            nn.Linear(input_dim, H),\n",
    "            nn.ReLU(),\n",
    "            nn.Linear(H, output_dim))\n",
    "            #nn.Softmax())      # because we want an array composed of 10 proba for each digits.\n",
    "                                # commented because it's already calculated in the cross-entropy loss. \n",
    "        \n",
    "    def forward(self, x):\n",
    "        x = self.flatten(x)\n",
    "        x = self.neuron(x)\n",
    "        return x\n",
    "    \n",
    "# For reproducible results (optional)  \n",
    "torch.manual_seed(0)\n",
    "\n",
    "# Network creation \n",
    "model = Fully_connected()\n",
    "\n",
    "# Display the architecture:\n",
    "print(model)"
   ]
  },
  {
   "cell_type": "code",
   "execution_count": 9,
   "id": "e6bc7ba2",
   "metadata": {},
   "outputs": [],
   "source": [
    "loss_function = nn.CrossEntropyLoss()\n",
    "\n",
    "optimizer = optim.Adam(model.parameters(), lr=learning_rate)"
   ]
  },
  {
   "cell_type": "code",
   "execution_count": null,
   "id": "ece5c1c0",
   "metadata": {},
   "outputs": [],
   "source": []
  }
 ],
 "metadata": {
  "kernelspec": {
   "display_name": "Python 3 (ipykernel)",
   "language": "python",
   "name": "python3"
  },
  "language_info": {
   "codemirror_mode": {
    "name": "ipython",
    "version": 3
   },
   "file_extension": ".py",
   "mimetype": "text/x-python",
   "name": "python",
   "nbconvert_exporter": "python",
   "pygments_lexer": "ipython3",
   "version": "3.9.7"
  }
 },
 "nbformat": 4,
 "nbformat_minor": 5
}
