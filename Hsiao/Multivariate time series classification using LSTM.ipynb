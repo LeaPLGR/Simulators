{
 "cells": [
  {
   "cell_type": "code",
   "execution_count": 1,
   "id": "b369a1ee",
   "metadata": {},
   "outputs": [],
   "source": [
    "import numpy as np\n",
    "import matplotlib.pyplot as plt\n",
    "import pytorch_lightning as pl\n",
    "import seaborn as sns\n",
    "\n",
    "import pandas as pd\n",
    "from sklearn import cluster, datasets\n",
    "from sklearn.model_selection import train_test_split\n",
    "from sklearn.preprocessing import StandardScaler\n",
    "from sklearn.preprocessing import MinMaxScaler\n",
    "\n",
    "import torch\n",
    "import torch.nn as nn\n",
    "import torch.optim as optim\n",
    "from torch.utils.data import DataLoader, Dataset, TensorDataset, random_split"
   ]
  },
  {
   "cell_type": "code",
   "execution_count": 2,
   "id": "514ff0bc",
   "metadata": {},
   "outputs": [],
   "source": [
    "import torch.utils.data as data_utils"
   ]
  },
  {
   "cell_type": "code",
   "execution_count": 3,
   "id": "1db0b1a0",
   "metadata": {},
   "outputs": [],
   "source": [
    "# Load data\n",
    "f = pd.read_csv(\"data.csv\")\n",
    "f.rename(columns={'time sample band g': 'time_g', 'time sample band r': 'time_r',\n",
    "                    'time sample band i': 'time_i','total flux + noise band g': 'tfnbg',\n",
    "                    'total flux + noise band r': 'tfnbr', 'total flux + noise band i': 'tfnbi',}, inplace=True)"
   ]
  },
  {
   "cell_type": "code",
   "execution_count": 4,
   "id": "03361e64",
   "metadata": {},
   "outputs": [
    {
     "data": {
      "text/html": [
       "<div>\n",
       "<style scoped>\n",
       "    .dataframe tbody tr th:only-of-type {\n",
       "        vertical-align: middle;\n",
       "    }\n",
       "\n",
       "    .dataframe tbody tr th {\n",
       "        vertical-align: top;\n",
       "    }\n",
       "\n",
       "    .dataframe thead th {\n",
       "        text-align: right;\n",
       "    }\n",
       "</style>\n",
       "<table border=\"1\" class=\"dataframe\">\n",
       "  <thead>\n",
       "    <tr style=\"text-align: right;\">\n",
       "      <th></th>\n",
       "      <th>ID</th>\n",
       "      <th>images</th>\n",
       "      <th>time_g</th>\n",
       "      <th>tfnbg</th>\n",
       "      <th>time_r</th>\n",
       "      <th>tfnbr</th>\n",
       "      <th>time_i</th>\n",
       "      <th>tfnbi</th>\n",
       "    </tr>\n",
       "  </thead>\n",
       "  <tbody>\n",
       "    <tr>\n",
       "      <th>0</th>\n",
       "      <td>0</td>\n",
       "      <td>4</td>\n",
       "      <td>54938.6681</td>\n",
       "      <td>7572.989092</td>\n",
       "      <td>54937.6681</td>\n",
       "      <td>8542.954277</td>\n",
       "      <td>54943.0681</td>\n",
       "      <td>6529.258344</td>\n",
       "    </tr>\n",
       "    <tr>\n",
       "      <th>1</th>\n",
       "      <td>0</td>\n",
       "      <td>4</td>\n",
       "      <td>54939.4681</td>\n",
       "      <td>10080.689824</td>\n",
       "      <td>54938.4681</td>\n",
       "      <td>-7.176116</td>\n",
       "      <td>54947.2681</td>\n",
       "      <td>24985.914708</td>\n",
       "    </tr>\n",
       "    <tr>\n",
       "      <th>2</th>\n",
       "      <td>0</td>\n",
       "      <td>4</td>\n",
       "      <td>54941.2681</td>\n",
       "      <td>8422.260365</td>\n",
       "      <td>54943.2681</td>\n",
       "      <td>13005.615069</td>\n",
       "      <td>54952.4681</td>\n",
       "      <td>34731.665677</td>\n",
       "    </tr>\n",
       "    <tr>\n",
       "      <th>3</th>\n",
       "      <td>0</td>\n",
       "      <td>4</td>\n",
       "      <td>54943.0681</td>\n",
       "      <td>248.092027</td>\n",
       "      <td>54945.0681</td>\n",
       "      <td>9076.938363</td>\n",
       "      <td>54961.6681</td>\n",
       "      <td>29784.049679</td>\n",
       "    </tr>\n",
       "    <tr>\n",
       "      <th>4</th>\n",
       "      <td>0</td>\n",
       "      <td>4</td>\n",
       "      <td>54944.8681</td>\n",
       "      <td>2014.486762</td>\n",
       "      <td>54945.8681</td>\n",
       "      <td>3588.299860</td>\n",
       "      <td>54966.8681</td>\n",
       "      <td>32064.179478</td>\n",
       "    </tr>\n",
       "    <tr>\n",
       "      <th>...</th>\n",
       "      <td>...</td>\n",
       "      <td>...</td>\n",
       "      <td>...</td>\n",
       "      <td>...</td>\n",
       "      <td>...</td>\n",
       "      <td>...</td>\n",
       "      <td>...</td>\n",
       "      <td>...</td>\n",
       "    </tr>\n",
       "    <tr>\n",
       "      <th>909995</th>\n",
       "      <td>9999</td>\n",
       "      <td>1</td>\n",
       "      <td>55127.6000</td>\n",
       "      <td>-723.280708</td>\n",
       "      <td>55111.6000</td>\n",
       "      <td>-1334.525828</td>\n",
       "      <td>55427.4000</td>\n",
       "      <td>-7034.464567</td>\n",
       "    </tr>\n",
       "    <tr>\n",
       "      <th>909996</th>\n",
       "      <td>9999</td>\n",
       "      <td>1</td>\n",
       "      <td>55129.4000</td>\n",
       "      <td>-1837.549014</td>\n",
       "      <td>55113.4000</td>\n",
       "      <td>2443.752274</td>\n",
       "      <td>55433.6000</td>\n",
       "      <td>-3624.115209</td>\n",
       "    </tr>\n",
       "    <tr>\n",
       "      <th>909997</th>\n",
       "      <td>9999</td>\n",
       "      <td>1</td>\n",
       "      <td>55130.2000</td>\n",
       "      <td>-4673.476731</td>\n",
       "      <td>55114.2000</td>\n",
       "      <td>104.316409</td>\n",
       "      <td>55434.8000</td>\n",
       "      <td>6050.959854</td>\n",
       "    </tr>\n",
       "    <tr>\n",
       "      <th>909998</th>\n",
       "      <td>9999</td>\n",
       "      <td>1</td>\n",
       "      <td>55132.0000</td>\n",
       "      <td>-1556.095817</td>\n",
       "      <td>55116.0000</td>\n",
       "      <td>-9431.789772</td>\n",
       "      <td>55438.0000</td>\n",
       "      <td>-607.507339</td>\n",
       "    </tr>\n",
       "    <tr>\n",
       "      <th>909999</th>\n",
       "      <td>9999</td>\n",
       "      <td>1</td>\n",
       "      <td>55135.8000</td>\n",
       "      <td>-1023.905122</td>\n",
       "      <td>55118.8000</td>\n",
       "      <td>2493.550553</td>\n",
       "      <td>55446.2000</td>\n",
       "      <td>-3953.504423</td>\n",
       "    </tr>\n",
       "  </tbody>\n",
       "</table>\n",
       "<p>910000 rows × 8 columns</p>\n",
       "</div>"
      ],
      "text/plain": [
       "          ID  images      time_g         tfnbg      time_r         tfnbr  \\\n",
       "0          0       4  54938.6681   7572.989092  54937.6681   8542.954277   \n",
       "1          0       4  54939.4681  10080.689824  54938.4681     -7.176116   \n",
       "2          0       4  54941.2681   8422.260365  54943.2681  13005.615069   \n",
       "3          0       4  54943.0681    248.092027  54945.0681   9076.938363   \n",
       "4          0       4  54944.8681   2014.486762  54945.8681   3588.299860   \n",
       "...      ...     ...         ...           ...         ...           ...   \n",
       "909995  9999       1  55127.6000   -723.280708  55111.6000  -1334.525828   \n",
       "909996  9999       1  55129.4000  -1837.549014  55113.4000   2443.752274   \n",
       "909997  9999       1  55130.2000  -4673.476731  55114.2000    104.316409   \n",
       "909998  9999       1  55132.0000  -1556.095817  55116.0000  -9431.789772   \n",
       "909999  9999       1  55135.8000  -1023.905122  55118.8000   2493.550553   \n",
       "\n",
       "            time_i         tfnbi  \n",
       "0       54943.0681   6529.258344  \n",
       "1       54947.2681  24985.914708  \n",
       "2       54952.4681  34731.665677  \n",
       "3       54961.6681  29784.049679  \n",
       "4       54966.8681  32064.179478  \n",
       "...            ...           ...  \n",
       "909995  55427.4000  -7034.464567  \n",
       "909996  55433.6000  -3624.115209  \n",
       "909997  55434.8000   6050.959854  \n",
       "909998  55438.0000   -607.507339  \n",
       "909999  55446.2000  -3953.504423  \n",
       "\n",
       "[910000 rows x 8 columns]"
      ]
     },
     "execution_count": 4,
     "metadata": {},
     "output_type": "execute_result"
    }
   ],
   "source": [
    "f"
   ]
  },
  {
   "cell_type": "code",
   "execution_count": 5,
   "id": "763e06fc",
   "metadata": {},
   "outputs": [],
   "source": [
    "def standard(dataset):\n",
    "    \n",
    "    scaler = MinMaxScaler(feature_range = (0, 1))\n",
    "    #scaler = StandardScaler\n",
    "    \n",
    "    df = 0\n",
    "    dfbis = 0\n",
    "    for ide, group in dataset.groupby('ID'):\n",
    "\n",
    "        a = dataset[dataset.ID == ide]\n",
    "        c = a['images']\n",
    "        data = a[a.columns[2:]]\n",
    "        data = pd.DataFrame(scaler.fit_transform(data), columns=dataset.columns[2:])\n",
    "\n",
    "        if ide == 0:\n",
    "            df = pd.concat([c, data], axis=1)\n",
    "        else:\n",
    "            dfbis = pd.concat([c.reset_index(), data], axis = 1)\n",
    "            df = pd.concat([df, dfbis])\n",
    "\n",
    "            \n",
    "    del df['index']\n",
    "    return df"
   ]
  },
  {
   "cell_type": "code",
   "execution_count": 7,
   "id": "63cc94ba",
   "metadata": {},
   "outputs": [],
   "source": [
    "f = standard(f)"
   ]
  },
  {
   "cell_type": "code",
   "execution_count": 8,
   "id": "b71cf1bd",
   "metadata": {},
   "outputs": [
    {
     "data": {
      "text/html": [
       "<div>\n",
       "<style scoped>\n",
       "    .dataframe tbody tr th:only-of-type {\n",
       "        vertical-align: middle;\n",
       "    }\n",
       "\n",
       "    .dataframe tbody tr th {\n",
       "        vertical-align: top;\n",
       "    }\n",
       "\n",
       "    .dataframe thead th {\n",
       "        text-align: right;\n",
       "    }\n",
       "</style>\n",
       "<table border=\"1\" class=\"dataframe\">\n",
       "  <thead>\n",
       "    <tr style=\"text-align: right;\">\n",
       "      <th></th>\n",
       "      <th>images</th>\n",
       "      <th>time_g</th>\n",
       "      <th>tfnbg</th>\n",
       "      <th>time_r</th>\n",
       "      <th>tfnbr</th>\n",
       "      <th>time_i</th>\n",
       "      <th>tfnbi</th>\n",
       "    </tr>\n",
       "  </thead>\n",
       "  <tbody>\n",
       "    <tr>\n",
       "      <th>0</th>\n",
       "      <td>4</td>\n",
       "      <td>0.000000</td>\n",
       "      <td>0.548585</td>\n",
       "      <td>0.000000</td>\n",
       "      <td>0.473510</td>\n",
       "      <td>0.000000</td>\n",
       "      <td>0.362681</td>\n",
       "    </tr>\n",
       "    <tr>\n",
       "      <th>1</th>\n",
       "      <td>4</td>\n",
       "      <td>0.004908</td>\n",
       "      <td>0.601900</td>\n",
       "      <td>0.005298</td>\n",
       "      <td>0.325793</td>\n",
       "      <td>0.008787</td>\n",
       "      <td>0.733663</td>\n",
       "    </tr>\n",
       "    <tr>\n",
       "      <th>2</th>\n",
       "      <td>4</td>\n",
       "      <td>0.015951</td>\n",
       "      <td>0.566641</td>\n",
       "      <td>0.037086</td>\n",
       "      <td>0.550610</td>\n",
       "      <td>0.019665</td>\n",
       "      <td>0.929554</td>\n",
       "    </tr>\n",
       "    <tr>\n",
       "      <th>3</th>\n",
       "      <td>4</td>\n",
       "      <td>0.026994</td>\n",
       "      <td>0.392856</td>\n",
       "      <td>0.049007</td>\n",
       "      <td>0.482736</td>\n",
       "      <td>0.038912</td>\n",
       "      <td>0.830106</td>\n",
       "    </tr>\n",
       "    <tr>\n",
       "      <th>4</th>\n",
       "      <td>4</td>\n",
       "      <td>0.038037</td>\n",
       "      <td>0.430410</td>\n",
       "      <td>0.054305</td>\n",
       "      <td>0.387910</td>\n",
       "      <td>0.049791</td>\n",
       "      <td>0.875937</td>\n",
       "    </tr>\n",
       "    <tr>\n",
       "      <th>...</th>\n",
       "      <td>...</td>\n",
       "      <td>...</td>\n",
       "      <td>...</td>\n",
       "      <td>...</td>\n",
       "      <td>...</td>\n",
       "      <td>...</td>\n",
       "      <td>...</td>\n",
       "    </tr>\n",
       "    <tr>\n",
       "      <th>86</th>\n",
       "      <td>1</td>\n",
       "      <td>0.951190</td>\n",
       "      <td>0.445596</td>\n",
       "      <td>0.952318</td>\n",
       "      <td>0.185045</td>\n",
       "      <td>0.960752</td>\n",
       "      <td>0.026846</td>\n",
       "    </tr>\n",
       "    <tr>\n",
       "      <th>87</th>\n",
       "      <td>1</td>\n",
       "      <td>0.961905</td>\n",
       "      <td>0.404079</td>\n",
       "      <td>0.964238</td>\n",
       "      <td>0.271390</td>\n",
       "      <td>0.973695</td>\n",
       "      <td>0.056696</td>\n",
       "    </tr>\n",
       "    <tr>\n",
       "      <th>88</th>\n",
       "      <td>1</td>\n",
       "      <td>0.966667</td>\n",
       "      <td>0.298415</td>\n",
       "      <td>0.969536</td>\n",
       "      <td>0.217927</td>\n",
       "      <td>0.976200</td>\n",
       "      <td>0.141380</td>\n",
       "    </tr>\n",
       "    <tr>\n",
       "      <th>89</th>\n",
       "      <td>1</td>\n",
       "      <td>0.977381</td>\n",
       "      <td>0.414566</td>\n",
       "      <td>0.981457</td>\n",
       "      <td>0.000000</td>\n",
       "      <td>0.982881</td>\n",
       "      <td>0.083100</td>\n",
       "    </tr>\n",
       "    <tr>\n",
       "      <th>90</th>\n",
       "      <td>1</td>\n",
       "      <td>1.000000</td>\n",
       "      <td>0.434395</td>\n",
       "      <td>1.000000</td>\n",
       "      <td>0.272528</td>\n",
       "      <td>1.000000</td>\n",
       "      <td>0.053813</td>\n",
       "    </tr>\n",
       "  </tbody>\n",
       "</table>\n",
       "<p>910000 rows × 7 columns</p>\n",
       "</div>"
      ],
      "text/plain": [
       "    images    time_g     tfnbg    time_r     tfnbr    time_i     tfnbi\n",
       "0        4  0.000000  0.548585  0.000000  0.473510  0.000000  0.362681\n",
       "1        4  0.004908  0.601900  0.005298  0.325793  0.008787  0.733663\n",
       "2        4  0.015951  0.566641  0.037086  0.550610  0.019665  0.929554\n",
       "3        4  0.026994  0.392856  0.049007  0.482736  0.038912  0.830106\n",
       "4        4  0.038037  0.430410  0.054305  0.387910  0.049791  0.875937\n",
       "..     ...       ...       ...       ...       ...       ...       ...\n",
       "86       1  0.951190  0.445596  0.952318  0.185045  0.960752  0.026846\n",
       "87       1  0.961905  0.404079  0.964238  0.271390  0.973695  0.056696\n",
       "88       1  0.966667  0.298415  0.969536  0.217927  0.976200  0.141380\n",
       "89       1  0.977381  0.414566  0.981457  0.000000  0.982881  0.083100\n",
       "90       1  1.000000  0.434395  1.000000  0.272528  1.000000  0.053813\n",
       "\n",
       "[910000 rows x 7 columns]"
      ]
     },
     "execution_count": 8,
     "metadata": {},
     "output_type": "execute_result"
    }
   ],
   "source": [
    "f"
   ]
  },
  {
   "cell_type": "code",
   "execution_count": 9,
   "id": "ea0fa318",
   "metadata": {},
   "outputs": [
    {
     "data": {
      "text/plain": [
       "['time_g', 'tfnbg']"
      ]
     },
     "execution_count": 9,
     "metadata": {},
     "output_type": "execute_result"
    }
   ],
   "source": [
    "feature_columns = f.columns.tolist()[1:3]\n",
    "feature_columns"
   ]
  },
  {
   "cell_type": "code",
   "execution_count": 10,
   "id": "b0c61f86",
   "metadata": {},
   "outputs": [],
   "source": [
    "train = f[:91*8000]\n",
    "val = f[91*8000:91*9000]\n",
    "test = f[91*9000:]"
   ]
  },
  {
   "cell_type": "code",
   "execution_count": 11,
   "id": "6224d4e3",
   "metadata": {},
   "outputs": [],
   "source": [
    "def dataframe_to_dataset(f):\n",
    "    targets = torch.IntTensor(f['images'].values)\n",
    "    features = torch.tensor(f[feature_columns].values)\n",
    "    print(len(targets))\n",
    "    return TensorDataset(features, targets)"
   ]
  },
  {
   "cell_type": "code",
   "execution_count": 12,
   "id": "0eba4445",
   "metadata": {},
   "outputs": [
    {
     "name": "stdout",
     "output_type": "stream",
     "text": [
      "728000\n",
      "91000\n",
      "91000\n"
     ]
    }
   ],
   "source": [
    "TrainSet = dataframe_to_dataset(train)\n",
    "TestSet = dataframe_to_dataset(test)\n",
    "ValSet = dataframe_to_dataset(val)"
   ]
  },
  {
   "cell_type": "code",
   "execution_count": 13,
   "id": "862d7ea4",
   "metadata": {},
   "outputs": [
    {
     "data": {
      "text/plain": [
       "<torch.utils.data.dataset.TensorDataset at 0x7fe1c1b4f6a0>"
      ]
     },
     "execution_count": 13,
     "metadata": {},
     "output_type": "execute_result"
    }
   ],
   "source": [
    "TrainSet"
   ]
  },
  {
   "cell_type": "code",
   "execution_count": 145,
   "id": "17765a71",
   "metadata": {},
   "outputs": [],
   "source": [
    "class SequenceModel(nn.Module):\n",
    "    \n",
    "    def __init__(self, n_features, n_classes, n_hidden=128, n_layers=3):\n",
    "        \n",
    "        super().__init__()\n",
    "        \n",
    "        self.lstm = nn.LSTM(\n",
    "            input_size = n_features,\n",
    "            hidden_size = n_hidden,\n",
    "            num_layers = n_layers,\n",
    "            batch_first = True,\n",
    "            dropout = 0.75\n",
    "        )\n",
    "        self.classifier = nn.Linear(n_hidden, n_classes)\n",
    "    \n",
    "    def forward(self, x):\n",
    "        self.lstm.flatten_parameters()\n",
    "        lstm_out, (ht, ct) = self.lstm(x)\n",
    "        \n",
    "        pred = self.classifier(lstm_out[-1])\n",
    "        return pred\n",
    "        "
   ]
  },
  {
   "cell_type": "code",
   "execution_count": 146,
   "id": "e674df8e",
   "metadata": {},
   "outputs": [
    {
     "data": {
      "text/plain": [
       "<torch._C.Generator at 0x7fe1c29e7d10>"
      ]
     },
     "execution_count": 146,
     "metadata": {},
     "output_type": "execute_result"
    }
   ],
   "source": [
    "torch.manual_seed(0)"
   ]
  },
  {
   "cell_type": "code",
   "execution_count": 147,
   "id": "6aef2a33",
   "metadata": {},
   "outputs": [],
   "source": [
    "model = SequenceModel(n_features = 2, \n",
    "                        n_classes = 4)\n",
    "model = model.float()"
   ]
  },
  {
   "cell_type": "code",
   "execution_count": 148,
   "id": "c49c9dbb",
   "metadata": {},
   "outputs": [
    {
     "name": "stdout",
     "output_type": "stream",
     "text": [
      "SequenceModel(\n",
      "  (lstm): LSTM(2, 128, num_layers=3, batch_first=True, dropout=0.75)\n",
      "  (classifier): Linear(in_features=128, out_features=4, bias=True)\n",
      ")\n"
     ]
    }
   ],
   "source": [
    "print(model)"
   ]
  },
  {
   "cell_type": "code",
   "execution_count": 149,
   "id": "4317d86b",
   "metadata": {},
   "outputs": [],
   "source": [
    "N_epochs = 2"
   ]
  },
  {
   "cell_type": "code",
   "execution_count": 150,
   "id": "b48f9572",
   "metadata": {},
   "outputs": [],
   "source": [
    "TrainLoader = data_utils.DataLoader(TrainSet, batch_size = 91, shuffle = False)\n",
    "ValLoader = data_utils.DataLoader(ValSet, batch_size = 91, shuffle = False)\n",
    "TestLoader = data_utils.DataLoader(TestSet, batch_size = 91, shuffle = False)\n"
   ]
  },
  {
   "cell_type": "code",
   "execution_count": 151,
   "id": "c70568d6",
   "metadata": {},
   "outputs": [
    {
     "data": {
      "text/plain": [
       "<torch.utils.data.dataloader.DataLoader at 0x7fe1c57d0c10>"
      ]
     },
     "execution_count": 151,
     "metadata": {},
     "output_type": "execute_result"
    }
   ],
   "source": [
    "TrainLoader"
   ]
  },
  {
   "cell_type": "code",
   "execution_count": 152,
   "id": "f3ce0b99",
   "metadata": {},
   "outputs": [
    {
     "data": {
      "text/plain": [
       "<torch.utils.data.dataloader.DataLoader at 0x7fe1c57d02e0>"
      ]
     },
     "execution_count": 152,
     "metadata": {},
     "output_type": "execute_result"
    }
   ],
   "source": [
    "ValLoader"
   ]
  },
  {
   "cell_type": "code",
   "execution_count": 153,
   "id": "589cdf1e",
   "metadata": {},
   "outputs": [
    {
     "data": {
      "text/plain": [
       "<torch.utils.data.dataloader.DataLoader at 0x7fe1c57d0880>"
      ]
     },
     "execution_count": 153,
     "metadata": {},
     "output_type": "execute_result"
    }
   ],
   "source": [
    "TestLoader"
   ]
  },
  {
   "cell_type": "code",
   "execution_count": 154,
   "id": "dd912d03",
   "metadata": {},
   "outputs": [],
   "source": [
    "loss_function = nn.CrossEntropyLoss()"
   ]
  },
  {
   "cell_type": "code",
   "execution_count": 155,
   "id": "01260ed5",
   "metadata": {},
   "outputs": [],
   "source": [
    "optimizer = optim.Adam(model.parameters(), lr=0.001)"
   ]
  },
  {
   "cell_type": "code",
   "execution_count": 157,
   "id": "e7f35204",
   "metadata": {
    "scrolled": true
   },
   "outputs": [
    {
     "name": "stdout",
     "output_type": "stream",
     "text": [
      "Training done\n",
      "Training done\n"
     ]
    }
   ],
   "source": [
    "losses = []  \n",
    "gradient =[]\n",
    "\n",
    "#i=0\n",
    "model = model.float()\n",
    "for epoch in range(N_epochs):  # Loop over epochs\n",
    "    running_loss = 0.0\n",
    "   \n",
    "    for features, label in TrainLoader:\n",
    "        \n",
    "        # Forward Propagation \n",
    "        labels_pred = model(features.float())\n",
    "\n",
    "        label = torch.tensor(np.array(label[0].item() -1)).to(torch.long)\n",
    "        \n",
    "        labels_pred = torch.tensor(labels_pred.detach().numpy(), requires_grad=True)\n",
    "\n",
    "        # Loss computation\n",
    "        loss = loss_function(labels_pred, label)\n",
    "        #loss.requires_grad = True\n",
    "        \n",
    "        \n",
    "        # Save loss for future analysis\n",
    "        losses.append(loss.item())\n",
    "\n",
    "        # Erase previous gradients\n",
    "        optimizer.zero_grad()\n",
    "        \n",
    "        # Compute gradients (backpropagation)\n",
    "        loss.backward()\n",
    "        #print(loss.backward(retain_graph=True))\n",
    "        #gradient.append(loss.backward())\n",
    "\n",
    "        # Weight update\n",
    "        optimizer.step()\n",
    "        \n",
    "        # print statistics\n",
    "#        running_loss += loss.item()\n",
    "#        if i % 10 == 9:    \n",
    "#            print('[Epoque : %d, iteration: %5d] loss: %.3f' %\n",
    "#                  (epoch + 1, i + 1, running_loss / 10))\n",
    "#            running_loss = 0.0\n",
    "#        i+=1        \n",
    "   \n",
    "    print('Training done')"
   ]
  },
  {
   "cell_type": "code",
   "execution_count": null,
   "id": "1f22b2b5",
   "metadata": {},
   "outputs": [],
   "source": [
    "val_losses = []\n",
    "for epoch in range(N_epochs):  # Loop over epochs\n",
    "    running_loss = 0.0\n",
    "   \n",
    "    for features, labels in ValLoader:\n",
    "        \n",
    "        # Forward Propagation \n",
    "        labels_pred = model(features.float())\n",
    "        label = torch.tensor(np.array(labels[0].item() -1)).to(torch.long)\n",
    " \n",
    "        labels_pred = torch.tensor(labels_pred.detach().numpy(), requires_grad=True)\n",
    "\n",
    "        # Loss computation\n",
    "        loss = loss_function(labels_pred, label)\n",
    "        #print(loss)\n",
    "        # Save loss for future analysis\n",
    "        val_losses.append(loss.item())\n",
    "        \n",
    "    print('Training done')"
   ]
  },
  {
   "cell_type": "code",
   "execution_count": 158,
   "id": "89152213",
   "metadata": {},
   "outputs": [
    {
     "data": {
      "text/plain": [
       "<matplotlib.legend.Legend at 0x7fe1c57d0f10>"
      ]
     },
     "execution_count": 158,
     "metadata": {},
     "output_type": "execute_result"
    },
    {
     "data": {
      "image/png": "[encoded data removed]",
      "text/plain": [
       "<Figure size 576x432 with 1 Axes>"
      ]
     },
     "metadata": {
      "needs_background": "light"
     },
     "output_type": "display_data"
    }
   ],
   "source": [
    "# Display loss evolution\n",
    "fig, axes = plt.subplots(figsize=(8,6))\n",
    "axes.plot(losses,'r-',lw=2,label='Training loss function')\n",
    "#axes.plot(val_losses,'b-',lw=2,label='Validation loss function')\n",
    "axes.set_xlabel('N iterations',fontsize=18)\n",
    "axes.set_ylabel('Loss',fontsize=18)\n",
    "plt.legend(loc='upper right',fontsize=16)"
   ]
  },
  {
   "cell_type": "code",
   "execution_count": null,
   "id": "acc3fbd6",
   "metadata": {},
   "outputs": [],
   "source": []
  }
 ],
 "metadata": {
  "kernelspec": {
   "display_name": "Python 3 (ipykernel)",
   "language": "python",
   "name": "python3"
  },
  "language_info": {
   "codemirror_mode": {
    "name": "ipython",
    "version": 3
   },
   "file_extension": ".py",
   "mimetype": "text/x-python",
   "name": "python",
   "nbconvert_exporter": "python",
   "pygments_lexer": "ipython3",
   "version": "3.9.7"
  }
 },
 "nbformat": 4,
 "nbformat_minor": 5
}
