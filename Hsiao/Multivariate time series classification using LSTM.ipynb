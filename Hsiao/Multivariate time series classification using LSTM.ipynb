{
 "cells": [
  {
   "cell_type": "code",
   "execution_count": null,
   "id": "69e45c3a",
   "metadata": {},
   "outputs": [],
   "source": [
    "import numpy as np\n",
    "import matplotlib.pyplot as plt\n",
    "import pytorch_lightning as pl\n",
    "import seaborn as sns\n",
    "\n",
    "import pandas as pd\n",
    "from sklearn import cluster, datasets\n",
    "from sklearn.model_selection import train_test_split\n",
    "from sklearn.preprocessing import StandardScaler\n",
    "from sklearn.preprocessing import MinMaxScaler\n",
    "\n",
    "import torch\n",
    "import torch.nn as nn\n",
    "import torch.optim as optim\n",
    "from torch.utils.data import DataLoader, Dataset, TensorDataset, random_split"
   ]
  },
  {
   "cell_type": "code",
   "execution_count": null,
   "id": "2090fb64",
   "metadata": {},
   "outputs": [],
   "source": [
    "import torch.utils.data as data_utils"
   ]
  },
  {
   "cell_type": "code",
   "execution_count": null,
   "id": "e1b534db",
   "metadata": {},
   "outputs": [],
   "source": [
    "# Load data\n",
    "f = pd.read_csv(\"data.csv\")\n",
    "f.rename(columns={'time sample band g': 'time_g', 'time sample band r': 'time_r',\n",
    "                    'time sample band i': 'time_i','total flux + noise band g': 'tfnbg',\n",
    "                    'total flux + noise band r': 'tfnbr', 'total flux + noise band i': 'tfnbi',}, inplace=True)"
   ]
  },
  {
   "cell_type": "code",
   "execution_count": null,
   "id": "a6802c65",
   "metadata": {},
   "outputs": [],
   "source": [
    "f"
   ]
  },
  {
   "cell_type": "code",
   "execution_count": null,
   "id": "a301fb1f",
   "metadata": {},
   "outputs": [],
   "source": [
    "plt.figure(figsize = (20, 10))\n",
    "plt.plot(f['tfnbg'][:500], '.r')"
   ]
  },
  {
   "cell_type": "code",
   "execution_count": null,
   "id": "b8700db2",
   "metadata": {},
   "outputs": [],
   "source": [
    "un = f[f['images']==1]\n",
    "deux = f[f['images']==2]\n",
    "trois = f[f['images']==3]\n",
    "quatre = f[f['images']==4]\n",
    "\n",
    "multi = f[f['images']!=1]"
   ]
  },
  {
   "cell_type": "code",
   "execution_count": null,
   "id": "45b8ca19",
   "metadata": {},
   "outputs": [],
   "source": [
    "plt.figure(figsize = (25, 15))\n",
    "plt.plot(un['tfnbg'], '+b')\n",
    "plt.plot(deux['tfnbg'], '.r', alpha = 0.2)\n",
    "#plt.plot(trois['tfnbg'], ':g', alpha = 0.4)\n",
    "#plt.plot(quatre['tfnbg'], '-.y', alpha = 0.6)"
   ]
  },
  {
   "cell_type": "code",
   "execution_count": null,
   "id": "9a94e16a",
   "metadata": {},
   "outputs": [],
   "source": [
    "plt.figure(figsize = (25, 15))\n",
    "plt.plot(un['tfnbg'][:500], '+r', alpha = 1)\n",
    "plt.plot(deux['tfnbg'][:500], '.b', alpha = 1)\n",
    "plt.plot(trois['tfnbg'][:500], '.g', alpha = 1)\n",
    "plt.plot(quatre['tfnbg'][:1000], '.y', alpha = 1);"
   ]
  },
  {
   "cell_type": "markdown",
   "id": "7d775e72",
   "metadata": {},
   "source": [
    "# DATA MINING"
   ]
  },
  {
   "cell_type": "code",
   "execution_count": null,
   "id": "ca437b27",
   "metadata": {},
   "outputs": [],
   "source": [
    "g = f[['images', 'time_g', 'tfnbg']]"
   ]
  },
  {
   "cell_type": "code",
   "execution_count": null,
   "id": "22b12280",
   "metadata": {},
   "outputs": [],
   "source": [
    "colors = {1:'red', 2:'blue', 3:'green', 4:'orange'}\n",
    "fig, ax = plt.subplots()\n",
    "grouped = g.groupby('images')\n",
    "\n",
    "for key, group in grouped:\n",
    "    group.plot(ax=ax, kind='scatter', x='time_g', y='tfnbg', label=key, color=colors[key], alpha=[1, 0.1, 0.1, 0.1])\n",
    "    \n",
    "plt.show()"
   ]
  },
  {
   "cell_type": "code",
   "execution_count": null,
   "id": "9a0e36fd",
   "metadata": {},
   "outputs": [],
   "source": [
    "#!pip install plotly\n",
    "import plotly\n",
    "import plotly.express as px\n",
    "\n",
    "\n",
    "features = ['images', 'time_g', 'tfnbg', 'time_r', 'tfnbr', 'time_i', 'tfnbi']\n",
    "\n",
    "fig = px.scatter_matrix(\n",
    "    g,\n",
    "    dimensions=features)\n",
    "fig.update_traces(diagonal_visible=False)\n",
    "fig.show()"
   ]
  },
  {
   "cell_type": "code",
   "execution_count": null,
   "id": "3be659be",
   "metadata": {},
   "outputs": [],
   "source": [
    "plt.plot(un['tfnbg'], un['tfnbr'], '.')\n",
    "plt.plot(deux['tfnbg'], deux['tfnbr'], '.')"
   ]
  },
  {
   "cell_type": "code",
   "execution_count": null,
   "id": "c4bbaee0",
   "metadata": {},
   "outputs": [],
   "source": [
    "def maximum(dataset, column):\n",
    "    maxi = []\n",
    "    for ide, group in dataset.groupby('ID'):\n",
    "        maxi.append(max(group[column]))\n",
    "    return maxi"
   ]
  },
  {
   "cell_type": "code",
   "execution_count": null,
   "id": "3ed31d62",
   "metadata": {},
   "outputs": [],
   "source": [
    "m1 = maximum(un, 'tfnbg')\n",
    "m2 = maximum(deux, 'tfnbr')\n",
    "m3 = maximum(trois, 'tfnbr')\n",
    "m4 = maximum(quatre, 'tfnbr')\n",
    "if 0 in m3:\n",
    "    print(True)"
   ]
  },
  {
   "cell_type": "code",
   "execution_count": null,
   "id": "6bc8a780",
   "metadata": {},
   "outputs": [],
   "source": [
    "plt.plot(m1, '.')\n",
    "plt.plot(m2, '.')\n",
    "plt.plot(m3, '.')\n",
    "plt.plot(m4, '.')"
   ]
  },
  {
   "cell_type": "code",
   "execution_count": null,
   "id": "32e3090b",
   "metadata": {},
   "outputs": [],
   "source": [
    "f"
   ]
  },
  {
   "cell_type": "code",
   "execution_count": null,
   "id": "4a7db771",
   "metadata": {},
   "outputs": [],
   "source": [
    "def standard(dataset):\n",
    "    \n",
    "    scaler = MinMaxScaler(feature_range = (0, 1), copy=False)\n",
    "    #scaler = StandardScaler()\n",
    "    \n",
    "    df = 0\n",
    "    dfbis = 0\n",
    "    for ide, group in dataset.groupby('ID'):\n",
    "\n",
    "        a = dataset[dataset.ID == ide]\n",
    "        c = a['images']\n",
    "        data = a[a.columns[2:]].copy()\n",
    "        t = ['time_g', 'time_r', 'time_i']\n",
    "        \n",
    "        data[['tfnbg', 'tfnbr', 'tfnbi']] = scaler.fit_transform(data[['tfnbg', 'tfnbr', 'tfnbi']])\n",
    "        data[t] = data[t]-np.min(data[t])\n",
    "\n",
    "        if ide == 0:\n",
    "            df = pd.concat([c, data], axis=1)\n",
    "        else:\n",
    "            dfbis = pd.concat([c, data], axis = 1)\n",
    "            df = pd.concat([df, dfbis])\n",
    "\n",
    "    return df"
   ]
  },
  {
   "cell_type": "code",
   "execution_count": null,
   "id": "9f9ec648",
   "metadata": {},
   "outputs": [],
   "source": [
    "g = standard(f)"
   ]
  },
  {
   "cell_type": "code",
   "execution_count": null,
   "id": "5ec2c462",
   "metadata": {},
   "outputs": [],
   "source": [
    "g"
   ]
  },
  {
   "cell_type": "code",
   "execution_count": null,
   "id": "cc6fdbf0",
   "metadata": {},
   "outputs": [],
   "source": [
    "features = ['images', 'time_g', 'tfnbg', 'time_r', 'tfnbr', 'time_i', 'tfnbi']\n",
    "\n",
    "fig = px.scatter_matrix(\n",
    "    f,\n",
    "    dimensions=features\n",
    ")\n",
    "fig.update_traces(diagonal_visible=False)\n",
    "fig.show()"
   ]
  },
  {
   "cell_type": "code",
   "execution_count": null,
   "id": "cfabebb5",
   "metadata": {},
   "outputs": [],
   "source": [
    "g['images'] = g['images'].replace([1, 2, 3, 4], [0, 1, 1, 1])"
   ]
  },
  {
   "cell_type": "code",
   "execution_count": null,
   "id": "6b9c9717",
   "metadata": {},
   "outputs": [],
   "source": [
    "feature_columns = g.columns.tolist()[1:3]\n",
    "feature_columns"
   ]
  },
  {
   "cell_type": "code",
   "execution_count": null,
   "id": "079732fb",
   "metadata": {},
   "outputs": [],
   "source": [
    "train = g[:91*8000]\n",
    "val = g[91*8000:91*9000]\n",
    "test = g[91*9000:]"
   ]
  },
  {
   "cell_type": "code",
   "execution_count": null,
   "id": "38fb0aa1",
   "metadata": {},
   "outputs": [],
   "source": [
    "def dataframe_to_dataset(f):\n",
    "    targets = torch.IntTensor(f['images'].values)\n",
    "    features = torch.tensor(f[feature_columns].values)\n",
    "    return TensorDataset(features, targets)"
   ]
  },
  {
   "cell_type": "code",
   "execution_count": null,
   "id": "127a89a5",
   "metadata": {},
   "outputs": [],
   "source": [
    "TrainSet = dataframe_to_dataset(train)\n",
    "TestSet = dataframe_to_dataset(test)\n",
    "ValSet = dataframe_to_dataset(val)"
   ]
  },
  {
   "cell_type": "code",
   "execution_count": null,
   "id": "35b5c834",
   "metadata": {},
   "outputs": [],
   "source": [
    "class SequenceModel(nn.Module):\n",
    "    \n",
    "    def __init__(self, n_features, n_classes, n_hidden=128):\n",
    "        \n",
    "        super(SequenceModel, self).__init__()\n",
    "        \n",
    "        self.lstm = nn.LSTM(\n",
    "            input_size = n_features,\n",
    "            hidden_size = n_hidden,\n",
    "            num_layers = 2,\n",
    "        )\n",
    "        \n",
    "        self.classifier = nn.Sequential(\n",
    "            nn.Linear(n_hidden, n_classes-1),\n",
    "            nn.Sigmoid(),\n",
    "        )\n",
    "            \n",
    "        \n",
    "    def forward(self, x):\n",
    "        self.lstm.flatten_parameters()\n",
    "        lstm_out, (ht, ct) = self.lstm(x)\n",
    "        pred = self.classifier(lstm_out[-1])\n",
    "        return pred\n",
    "        "
   ]
  },
  {
   "cell_type": "code",
   "execution_count": null,
   "id": "b03388b8",
   "metadata": {},
   "outputs": [],
   "source": [
    "torch.manual_seed(0)"
   ]
  },
  {
   "cell_type": "code",
   "execution_count": null,
   "id": "ebc3c89d",
   "metadata": {},
   "outputs": [],
   "source": [
    "model = SequenceModel(n_features = 2, \n",
    "                        n_classes = 2)\n",
    "model = model.float()"
   ]
  },
  {
   "cell_type": "code",
   "execution_count": null,
   "id": "fcd4abac",
   "metadata": {},
   "outputs": [],
   "source": [
    "print(model)"
   ]
  },
  {
   "cell_type": "code",
   "execution_count": null,
   "id": "d9ffa9ff",
   "metadata": {},
   "outputs": [],
   "source": [
    "TrainLoader = data_utils.DataLoader(TrainSet, batch_size = 36400, shuffle = False)\n",
    "ValLoader = data_utils.DataLoader(ValSet, batch_size = 9100, shuffle = False)\n",
    "TestLoader = data_utils.DataLoader(TestSet, batch_size = 9100, shuffle = False)"
   ]
  },
  {
   "cell_type": "code",
   "execution_count": null,
   "id": "55cb8502",
   "metadata": {},
   "outputs": [],
   "source": [
    "loss_function = torch.nn.BCELoss()"
   ]
  },
  {
   "cell_type": "code",
   "execution_count": null,
   "id": "de22a684",
   "metadata": {},
   "outputs": [],
   "source": [
    "optimizer = optim.Adam(model.parameters(), lr=0.0001)"
   ]
  },
  {
   "cell_type": "code",
   "execution_count": null,
   "id": "8534f1e4",
   "metadata": {},
   "outputs": [],
   "source": [
    "print(\"--- State_dict du model : ---\")\n",
    "for param_tensor in model.state_dict():\n",
    "    print(param_tensor, \"\\t\", model.state_dict()[param_tensor].size())\n",
    "print()"
   ]
  },
  {
   "cell_type": "markdown",
   "id": "a17f8ffa",
   "metadata": {},
   "source": [
    "def tensor(n):\n",
    "    t = torch.zeros(2)\n",
    "    t[n]=1\n",
    "    return t"
   ]
  },
  {
   "cell_type": "code",
   "execution_count": null,
   "id": "2bc4d2a3",
   "metadata": {
    "scrolled": true
   },
   "outputs": [],
   "source": [
    "losses = []  \n",
    "N_epochs = 3\n",
    "for epoch in range(N_epochs):  # Loop over epochs\n",
    "\n",
    "    \n",
    "    for features, label in TrainLoader:\n",
    "\n",
    "        # Forward Propagation \n",
    "        labels_pred = model(features.float())\n",
    "        #label = tensor(np.array(label[0].item()))   # for size 2 in output of the model\n",
    "        label = torch.tensor([label[0].item()]).to(torch.float)\n",
    "        #labels_val_pred = model(features_val.float())\n",
    "        #labels_val = torch.tensor([labels_val[0].item()]).to(torch.float)\n",
    "        \n",
    "        # Loss computation\n",
    "        loss = loss_function(labels_pred, label)\n",
    "        #val_loss = loss_function(labels_val_pred, labels_val)\n",
    "  \n",
    "        # Save loss for future analysis\n",
    "        losses.append(loss.item())\n",
    "        #val_losses.append(val_loss)\n",
    "        \n",
    "\n",
    "        # Erase previous gradients\n",
    "        optimizer.zero_grad()\n",
    "        \n",
    "        # Compute gradients (backpropagation)\n",
    "        loss.backward()\n",
    "        \n",
    "        # Weight update\n",
    "        optimizer.step()      \n",
    "\n",
    "    print('Training done')"
   ]
  },
  {
   "cell_type": "code",
   "execution_count": null,
   "id": "630d6412",
   "metadata": {},
   "outputs": [],
   "source": [
    "val_losses = []\n",
    "for epoch in range(N_epochs):  # Loop over epochs\n",
    "    running_loss = 0.0\n",
    "   \n",
    "    for features, labels in ValLoader:\n",
    "        \n",
    "        # Forward Propagation \n",
    "        labels_pred = model(features.float())\n",
    "        label = torch.tensor([labels[0].item()]).to(torch.float)\n",
    "\n",
    "        # Loss computation\n",
    "        loss = loss_function(labels_pred, label)\n",
    "\n",
    "        # Save loss for future analysis\n",
    "        val_losses.append(loss.item())\n",
    "        \n",
    "    print('Training done')"
   ]
  },
  {
   "cell_type": "code",
   "execution_count": null,
   "id": "69d452de",
   "metadata": {},
   "outputs": [],
   "source": [
    "# Display loss evolution\n",
    "fig, axes = plt.subplots(figsize=(8,6))\n",
    "axes.plot(losses,'r-',lw=2,label='Training loss function')\n",
    "#axes.plot(val_losses,'b-',lw=2,label='Validation loss function')\n",
    "axes.set_xlabel('N iterations',fontsize=18)\n",
    "axes.set_ylabel('Loss',fontsize=18)\n",
    "plt.legend(loc='upper right',fontsize=16)"
   ]
  },
  {
   "cell_type": "code",
   "execution_count": null,
   "id": "bca08902",
   "metadata": {},
   "outputs": [],
   "source": []
  },
  {
   "cell_type": "code",
   "execution_count": null,
   "id": "a17fd48b",
   "metadata": {},
   "outputs": [],
   "source": []
  },
  {
   "cell_type": "code",
   "execution_count": null,
   "id": "41af7298",
   "metadata": {},
   "outputs": [],
   "source": []
  },
  {
   "cell_type": "code",
   "execution_count": null,
   "id": "d7f21def",
   "metadata": {},
   "outputs": [],
   "source": []
  },
  {
   "cell_type": "code",
   "execution_count": null,
   "id": "b246fe31",
   "metadata": {},
   "outputs": [],
   "source": []
  },
  {
   "cell_type": "code",
   "execution_count": null,
   "id": "efcd0606",
   "metadata": {},
   "outputs": [],
   "source": []
  }
 ],
 "metadata": {
  "kernelspec": {
   "display_name": "Python 3 (ipykernel)",
   "language": "python",
   "name": "python3"
  },
  "language_info": {
   "codemirror_mode": {
    "name": "ipython",
    "version": 3
   },
   "file_extension": ".py",
   "mimetype": "text/x-python",
   "name": "python",
   "nbconvert_exporter": "python",
   "pygments_lexer": "ipython3",
   "version": "3.9.7"
  }
 },
 "nbformat": 4,
 "nbformat_minor": 5
}
