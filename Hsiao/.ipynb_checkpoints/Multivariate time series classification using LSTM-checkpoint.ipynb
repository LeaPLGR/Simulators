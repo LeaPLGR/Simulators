{
 "cells": [
  {
   "cell_type": "code",
   "execution_count": 1,
   "id": "69e45c3a",
   "metadata": {},
   "outputs": [],
   "source": [
    "import numpy as np\n",
    "import matplotlib.pyplot as plt\n",
    "import pytorch_lightning as pl\n",
    "import seaborn as sns\n",
    "\n",
    "import pandas as pd\n",
    "from sklearn import cluster, datasets\n",
    "from sklearn.model_selection import train_test_split\n",
    "from sklearn.preprocessing import StandardScaler\n",
    "from sklearn.preprocessing import MinMaxScaler\n",
    "\n",
    "import torch\n",
    "import torch.nn as nn\n",
    "import torch.optim as optim\n",
    "from torch.utils.data import DataLoader, Dataset, TensorDataset, random_split"
   ]
  },
  {
   "cell_type": "code",
   "execution_count": 2,
   "id": "2090fb64",
   "metadata": {},
   "outputs": [],
   "source": [
    "import torch.utils.data as data_utils"
   ]
  },
  {
   "cell_type": "code",
   "execution_count": 66,
   "id": "e1b534db",
   "metadata": {},
   "outputs": [],
   "source": [
    "# Load data\n",
    "f = pd.read_csv(\"data.csv\")\n",
    "f.rename(columns={'time sample band g': 'time_g', 'time sample band r': 'time_r',\n",
    "                    'time sample band i': 'time_i','total flux + noise band g': 'tfnbg',\n",
    "                    'total flux + noise band r': 'tfnbr', 'total flux + noise band i': 'tfnbi',}, inplace=True)"
   ]
  },
  {
   "cell_type": "code",
   "execution_count": 4,
   "id": "a6802c65",
   "metadata": {},
   "outputs": [
    {
     "data": {
      "text/html": [
       "<div>\n",
       "<style scoped>\n",
       "    .dataframe tbody tr th:only-of-type {\n",
       "        vertical-align: middle;\n",
       "    }\n",
       "\n",
       "    .dataframe tbody tr th {\n",
       "        vertical-align: top;\n",
       "    }\n",
       "\n",
       "    .dataframe thead th {\n",
       "        text-align: right;\n",
       "    }\n",
       "</style>\n",
       "<table border=\"1\" class=\"dataframe\">\n",
       "  <thead>\n",
       "    <tr style=\"text-align: right;\">\n",
       "      <th></th>\n",
       "      <th>ID</th>\n",
       "      <th>images</th>\n",
       "      <th>time_g</th>\n",
       "      <th>tfnbg</th>\n",
       "      <th>time_r</th>\n",
       "      <th>tfnbr</th>\n",
       "      <th>time_i</th>\n",
       "      <th>tfnbi</th>\n",
       "    </tr>\n",
       "  </thead>\n",
       "  <tbody>\n",
       "    <tr>\n",
       "      <th>0</th>\n",
       "      <td>0</td>\n",
       "      <td>1</td>\n",
       "      <td>54965.8000</td>\n",
       "      <td>9857.548565</td>\n",
       "      <td>54966.8000</td>\n",
       "      <td>12808.463139</td>\n",
       "      <td>54969.2000</td>\n",
       "      <td>46451.732114</td>\n",
       "    </tr>\n",
       "    <tr>\n",
       "      <th>1</th>\n",
       "      <td>0</td>\n",
       "      <td>1</td>\n",
       "      <td>54966.6000</td>\n",
       "      <td>10549.269195</td>\n",
       "      <td>54967.6000</td>\n",
       "      <td>14277.550934</td>\n",
       "      <td>54974.4000</td>\n",
       "      <td>70732.207850</td>\n",
       "    </tr>\n",
       "    <tr>\n",
       "      <th>2</th>\n",
       "      <td>0</td>\n",
       "      <td>1</td>\n",
       "      <td>54967.4000</td>\n",
       "      <td>16872.628352</td>\n",
       "      <td>54968.4000</td>\n",
       "      <td>11533.402431</td>\n",
       "      <td>54978.6000</td>\n",
       "      <td>78989.423208</td>\n",
       "    </tr>\n",
       "    <tr>\n",
       "      <th>3</th>\n",
       "      <td>0</td>\n",
       "      <td>1</td>\n",
       "      <td>54970.2000</td>\n",
       "      <td>12590.366603</td>\n",
       "      <td>54969.2000</td>\n",
       "      <td>20060.419435</td>\n",
       "      <td>54983.8000</td>\n",
       "      <td>78834.373466</td>\n",
       "    </tr>\n",
       "    <tr>\n",
       "      <th>4</th>\n",
       "      <td>0</td>\n",
       "      <td>1</td>\n",
       "      <td>54972.0000</td>\n",
       "      <td>13184.015601</td>\n",
       "      <td>54972.0000</td>\n",
       "      <td>12283.637781</td>\n",
       "      <td>54989.0000</td>\n",
       "      <td>106359.738547</td>\n",
       "    </tr>\n",
       "    <tr>\n",
       "      <th>...</th>\n",
       "      <td>...</td>\n",
       "      <td>...</td>\n",
       "      <td>...</td>\n",
       "      <td>...</td>\n",
       "      <td>...</td>\n",
       "      <td>...</td>\n",
       "      <td>...</td>\n",
       "      <td>...</td>\n",
       "    </tr>\n",
       "    <tr>\n",
       "      <th>909995</th>\n",
       "      <td>9999</td>\n",
       "      <td>3</td>\n",
       "      <td>55101.7702</td>\n",
       "      <td>14893.485343</td>\n",
       "      <td>55104.7702</td>\n",
       "      <td>16198.383094</td>\n",
       "      <td>55408.5702</td>\n",
       "      <td>23896.580095</td>\n",
       "    </tr>\n",
       "    <tr>\n",
       "      <th>909996</th>\n",
       "      <td>9999</td>\n",
       "      <td>3</td>\n",
       "      <td>55102.5702</td>\n",
       "      <td>17968.799056</td>\n",
       "      <td>55106.5702</td>\n",
       "      <td>2984.459153</td>\n",
       "      <td>55413.7702</td>\n",
       "      <td>23544.132123</td>\n",
       "    </tr>\n",
       "    <tr>\n",
       "      <th>909997</th>\n",
       "      <td>9999</td>\n",
       "      <td>3</td>\n",
       "      <td>55103.3702</td>\n",
       "      <td>1734.520204</td>\n",
       "      <td>55108.3702</td>\n",
       "      <td>26587.609999</td>\n",
       "      <td>55422.9702</td>\n",
       "      <td>8014.425834</td>\n",
       "    </tr>\n",
       "    <tr>\n",
       "      <th>909998</th>\n",
       "      <td>9999</td>\n",
       "      <td>3</td>\n",
       "      <td>55105.1702</td>\n",
       "      <td>16427.198083</td>\n",
       "      <td>55109.1702</td>\n",
       "      <td>27700.578312</td>\n",
       "      <td>55429.1702</td>\n",
       "      <td>18865.345600</td>\n",
       "    </tr>\n",
       "    <tr>\n",
       "      <th>909999</th>\n",
       "      <td>9999</td>\n",
       "      <td>3</td>\n",
       "      <td>55107.9702</td>\n",
       "      <td>40600.560934</td>\n",
       "      <td>55109.9702</td>\n",
       "      <td>24613.941323</td>\n",
       "      <td>55433.3702</td>\n",
       "      <td>26247.476994</td>\n",
       "    </tr>\n",
       "  </tbody>\n",
       "</table>\n",
       "<p>910000 rows × 8 columns</p>\n",
       "</div>"
      ],
      "text/plain": [
       "          ID  images      time_g         tfnbg      time_r         tfnbr  \\\n",
       "0          0       1  54965.8000   9857.548565  54966.8000  12808.463139   \n",
       "1          0       1  54966.6000  10549.269195  54967.6000  14277.550934   \n",
       "2          0       1  54967.4000  16872.628352  54968.4000  11533.402431   \n",
       "3          0       1  54970.2000  12590.366603  54969.2000  20060.419435   \n",
       "4          0       1  54972.0000  13184.015601  54972.0000  12283.637781   \n",
       "...      ...     ...         ...           ...         ...           ...   \n",
       "909995  9999       3  55101.7702  14893.485343  55104.7702  16198.383094   \n",
       "909996  9999       3  55102.5702  17968.799056  55106.5702   2984.459153   \n",
       "909997  9999       3  55103.3702   1734.520204  55108.3702  26587.609999   \n",
       "909998  9999       3  55105.1702  16427.198083  55109.1702  27700.578312   \n",
       "909999  9999       3  55107.9702  40600.560934  55109.9702  24613.941323   \n",
       "\n",
       "            time_i          tfnbi  \n",
       "0       54969.2000   46451.732114  \n",
       "1       54974.4000   70732.207850  \n",
       "2       54978.6000   78989.423208  \n",
       "3       54983.8000   78834.373466  \n",
       "4       54989.0000  106359.738547  \n",
       "...            ...            ...  \n",
       "909995  55408.5702   23896.580095  \n",
       "909996  55413.7702   23544.132123  \n",
       "909997  55422.9702    8014.425834  \n",
       "909998  55429.1702   18865.345600  \n",
       "909999  55433.3702   26247.476994  \n",
       "\n",
       "[910000 rows x 8 columns]"
      ]
     },
     "execution_count": 4,
     "metadata": {},
     "output_type": "execute_result"
    }
   ],
   "source": [
    "f"
   ]
  },
  {
   "cell_type": "code",
   "execution_count": null,
   "id": "a301fb1f",
   "metadata": {},
   "outputs": [],
   "source": [
    "plt.figure(figsize = (20, 10))\n",
    "plt.plot(f['tfnbg'][:500], '.r')"
   ]
  },
  {
   "cell_type": "code",
   "execution_count": null,
   "id": "b8700db2",
   "metadata": {},
   "outputs": [],
   "source": [
    "un = f[f['images']==1]\n",
    "deux = f[f['images']==2]\n",
    "trois = f[f['images']==3]\n",
    "quatre = f[f['images']==4]\n",
    "\n",
    "multi = f[f['images']!=1]"
   ]
  },
  {
   "cell_type": "code",
   "execution_count": null,
   "id": "45b8ca19",
   "metadata": {},
   "outputs": [],
   "source": [
    "plt.figure(figsize = (25, 15))\n",
    "plt.plot(un['tfnbg'], '+b')\n",
    "plt.plot(deux['tfnbg'], '.r', alpha = 0.2)\n",
    "#plt.plot(trois['tfnbg'], ':g', alpha = 0.4)\n",
    "#plt.plot(quatre['tfnbg'], '-.y', alpha = 0.6)"
   ]
  },
  {
   "cell_type": "code",
   "execution_count": null,
   "id": "9a94e16a",
   "metadata": {},
   "outputs": [],
   "source": [
    "plt.figure(figsize = (25, 15))\n",
    "plt.plot(un['tfnbg'][:500], '+r', alpha = 1)\n",
    "plt.plot(deux['tfnbg'][:500], '.b', alpha = 1)\n",
    "plt.plot(trois['tfnbg'][:500], '.g', alpha = 1)\n",
    "plt.plot(quatre['tfnbg'][:1000], '.y', alpha = 1);"
   ]
  },
  {
   "cell_type": "markdown",
   "id": "7d775e72",
   "metadata": {},
   "source": [
    "# DATA MINING"
   ]
  },
  {
   "cell_type": "code",
   "execution_count": null,
   "id": "ca437b27",
   "metadata": {},
   "outputs": [],
   "source": [
    "g = f[['images', 'time_g', 'tfnbg']]"
   ]
  },
  {
   "cell_type": "code",
   "execution_count": null,
   "id": "22b12280",
   "metadata": {},
   "outputs": [],
   "source": [
    "colors = {1:'red', 2:'blue', 3:'green', 4:'orange'}\n",
    "fig, ax = plt.subplots()\n",
    "grouped = g.groupby('images')\n",
    "\n",
    "for key, group in grouped:\n",
    "    group.plot(ax=ax, kind='scatter', x='time_g', y='tfnbg', label=key, color=colors[key], alpha=[1, 0.1, 0.1, 0.1])\n",
    "    \n",
    "plt.show()"
   ]
  },
  {
   "cell_type": "code",
   "execution_count": null,
   "id": "9a0e36fd",
   "metadata": {},
   "outputs": [],
   "source": [
    "#!pip install plotly\n",
    "import plotly\n",
    "import plotly.express as px\n",
    "\n",
    "\n",
    "features = ['images', 'time_g', 'tfnbg', 'time_r', 'tfnbr', 'time_i', 'tfnbi']\n",
    "\n",
    "fig = px.scatter_matrix(\n",
    "    f,\n",
    "    dimensions=features\n",
    ")\n",
    "fig.update_traces(diagonal_visible=False)\n",
    "fig.show()"
   ]
  },
  {
   "cell_type": "code",
   "execution_count": null,
   "id": "3be659be",
   "metadata": {},
   "outputs": [],
   "source": [
    "plt.plot(un['tfnbg'], un['tfnbr'], '.')\n",
    "plt.plot(deux['tfnbg'], deux['tfnbr'], '.')"
   ]
  },
  {
   "cell_type": "code",
   "execution_count": null,
   "id": "c4bbaee0",
   "metadata": {},
   "outputs": [],
   "source": [
    "def maximum(dataset, column):\n",
    "    maxi = []\n",
    "    for ide, group in dataset.groupby('ID'):\n",
    "        maxi.append(max(group[column]))\n",
    "    return maxi"
   ]
  },
  {
   "cell_type": "code",
   "execution_count": null,
   "id": "3ed31d62",
   "metadata": {},
   "outputs": [],
   "source": [
    "m1 = maximum(un, 'tfnbg')\n",
    "m2 = maximum(deux, 'tfnbr')\n",
    "m3 = maximum(trois, 'tfnbr')\n",
    "m4 = maximum(quatre, 'tfnbr')\n",
    "if 0 in m3:\n",
    "    print(True)"
   ]
  },
  {
   "cell_type": "code",
   "execution_count": null,
   "id": "6bc8a780",
   "metadata": {},
   "outputs": [],
   "source": [
    "plt.plot(m1, '.')\n",
    "plt.plot(m2, '.')\n",
    "plt.plot(m3, '.')\n",
    "plt.plot(m4, '.')"
   ]
  },
  {
   "cell_type": "code",
   "execution_count": 38,
   "id": "0986d64d",
   "metadata": {},
   "outputs": [
    {
     "data": {
      "text/html": [
       "<div>\n",
       "<style scoped>\n",
       "    .dataframe tbody tr th:only-of-type {\n",
       "        vertical-align: middle;\n",
       "    }\n",
       "\n",
       "    .dataframe tbody tr th {\n",
       "        vertical-align: top;\n",
       "    }\n",
       "\n",
       "    .dataframe thead th {\n",
       "        text-align: right;\n",
       "    }\n",
       "</style>\n",
       "<table border=\"1\" class=\"dataframe\">\n",
       "  <thead>\n",
       "    <tr style=\"text-align: right;\">\n",
       "      <th></th>\n",
       "      <th>images</th>\n",
       "      <th>tfnbg</th>\n",
       "      <th>tfnbr</th>\n",
       "      <th>tfnbi</th>\n",
       "    </tr>\n",
       "  </thead>\n",
       "  <tbody>\n",
       "    <tr>\n",
       "      <th>0</th>\n",
       "      <td>1</td>\n",
       "      <td>0.523042</td>\n",
       "      <td>0.368780</td>\n",
       "      <td>0.454425</td>\n",
       "    </tr>\n",
       "    <tr>\n",
       "      <th>1</th>\n",
       "      <td>1</td>\n",
       "      <td>0.553236</td>\n",
       "      <td>0.413775</td>\n",
       "      <td>0.675545</td>\n",
       "    </tr>\n",
       "    <tr>\n",
       "      <th>2</th>\n",
       "      <td>1</td>\n",
       "      <td>0.829254</td>\n",
       "      <td>0.329728</td>\n",
       "      <td>0.750742</td>\n",
       "    </tr>\n",
       "    <tr>\n",
       "      <th>3</th>\n",
       "      <td>1</td>\n",
       "      <td>0.642331</td>\n",
       "      <td>0.590890</td>\n",
       "      <td>0.749330</td>\n",
       "    </tr>\n",
       "    <tr>\n",
       "      <th>4</th>\n",
       "      <td>1</td>\n",
       "      <td>0.668244</td>\n",
       "      <td>0.352706</td>\n",
       "      <td>1.000000</td>\n",
       "    </tr>\n",
       "    <tr>\n",
       "      <th>...</th>\n",
       "      <td>...</td>\n",
       "      <td>...</td>\n",
       "      <td>...</td>\n",
       "      <td>...</td>\n",
       "    </tr>\n",
       "    <tr>\n",
       "      <th>85</th>\n",
       "      <td>1</td>\n",
       "      <td>0.370435</td>\n",
       "      <td>0.186378</td>\n",
       "      <td>0.041931</td>\n",
       "    </tr>\n",
       "    <tr>\n",
       "      <th>86</th>\n",
       "      <td>1</td>\n",
       "      <td>0.144647</td>\n",
       "      <td>0.135848</td>\n",
       "      <td>0.055163</td>\n",
       "    </tr>\n",
       "    <tr>\n",
       "      <th>87</th>\n",
       "      <td>1</td>\n",
       "      <td>0.392045</td>\n",
       "      <td>0.173879</td>\n",
       "      <td>0.036605</td>\n",
       "    </tr>\n",
       "    <tr>\n",
       "      <th>88</th>\n",
       "      <td>1</td>\n",
       "      <td>0.120163</td>\n",
       "      <td>0.123619</td>\n",
       "      <td>0.021117</td>\n",
       "    </tr>\n",
       "    <tr>\n",
       "      <th>89</th>\n",
       "      <td>1</td>\n",
       "      <td>0.258717</td>\n",
       "      <td>0.005668</td>\n",
       "      <td>0.028860</td>\n",
       "    </tr>\n",
       "  </tbody>\n",
       "</table>\n",
       "<p>1000 rows × 4 columns</p>\n",
       "</div>"
      ],
      "text/plain": [
       "    images     tfnbg     tfnbr     tfnbi\n",
       "0        1  0.523042  0.368780  0.454425\n",
       "1        1  0.553236  0.413775  0.675545\n",
       "2        1  0.829254  0.329728  0.750742\n",
       "3        1  0.642331  0.590890  0.749330\n",
       "4        1  0.668244  0.352706  1.000000\n",
       "..     ...       ...       ...       ...\n",
       "85       1  0.370435  0.186378  0.041931\n",
       "86       1  0.144647  0.135848  0.055163\n",
       "87       1  0.392045  0.173879  0.036605\n",
       "88       1  0.120163  0.123619  0.021117\n",
       "89       1  0.258717  0.005668  0.028860\n",
       "\n",
       "[1000 rows x 4 columns]"
      ]
     },
     "execution_count": 38,
     "metadata": {},
     "output_type": "execute_result"
    }
   ],
   "source": [
    "f"
   ]
  },
  {
   "cell_type": "code",
   "execution_count": 84,
   "id": "4a7db771",
   "metadata": {},
   "outputs": [],
   "source": [
    "def standard(dataset):\n",
    "    \n",
    "    scaler = MinMaxScaler(feature_range = (0, 1), copy=False)\n",
    "    #scaler = StandardScaler()\n",
    "    \n",
    "    df = 0\n",
    "    dfbis = 0\n",
    "    for ide, group in dataset.groupby('ID'):\n",
    "\n",
    "        a = dataset[dataset.ID == ide]\n",
    "        c = a['images']\n",
    "        data = a[a.columns[2:]].copy()\n",
    "        t = ['time_g', 'time_r', 'time_i']\n",
    "        \n",
    "        data[['tfnbg', 'tfnbr', 'tfnbi']] = scaler.fit_transform(data[['tfnbg', 'tfnbr', 'tfnbi']])\n",
    "        data[t] = data[t]-np.min(data[t])\n",
    "\n",
    "        if ide == 0:\n",
    "            df = pd.concat([c, data], axis=1)\n",
    "        else:\n",
    "            dfbis = pd.concat([c, data], axis = 1)\n",
    "            df = pd.concat([df, dfbis])\n",
    "\n",
    "    return df"
   ]
  },
  {
   "cell_type": "code",
   "execution_count": 87,
   "id": "9f9ec648",
   "metadata": {},
   "outputs": [],
   "source": [
    "g = standard(f)"
   ]
  },
  {
   "cell_type": "code",
   "execution_count": 88,
   "id": "cb37be14",
   "metadata": {},
   "outputs": [
    {
     "data": {
      "text/html": [
       "<div>\n",
       "<style scoped>\n",
       "    .dataframe tbody tr th:only-of-type {\n",
       "        vertical-align: middle;\n",
       "    }\n",
       "\n",
       "    .dataframe tbody tr th {\n",
       "        vertical-align: top;\n",
       "    }\n",
       "\n",
       "    .dataframe thead th {\n",
       "        text-align: right;\n",
       "    }\n",
       "</style>\n",
       "<table border=\"1\" class=\"dataframe\">\n",
       "  <thead>\n",
       "    <tr style=\"text-align: right;\">\n",
       "      <th></th>\n",
       "      <th>images</th>\n",
       "      <th>time_g</th>\n",
       "      <th>tfnbg</th>\n",
       "      <th>time_r</th>\n",
       "      <th>tfnbr</th>\n",
       "      <th>time_i</th>\n",
       "      <th>tfnbi</th>\n",
       "    </tr>\n",
       "  </thead>\n",
       "  <tbody>\n",
       "    <tr>\n",
       "      <th>0</th>\n",
       "      <td>1</td>\n",
       "      <td>0.0</td>\n",
       "      <td>0.523042</td>\n",
       "      <td>0.0</td>\n",
       "      <td>0.368780</td>\n",
       "      <td>0.0</td>\n",
       "      <td>0.454425</td>\n",
       "    </tr>\n",
       "    <tr>\n",
       "      <th>1</th>\n",
       "      <td>1</td>\n",
       "      <td>0.8</td>\n",
       "      <td>0.553236</td>\n",
       "      <td>0.8</td>\n",
       "      <td>0.413775</td>\n",
       "      <td>5.2</td>\n",
       "      <td>0.675545</td>\n",
       "    </tr>\n",
       "    <tr>\n",
       "      <th>2</th>\n",
       "      <td>1</td>\n",
       "      <td>1.6</td>\n",
       "      <td>0.829254</td>\n",
       "      <td>1.6</td>\n",
       "      <td>0.329728</td>\n",
       "      <td>9.4</td>\n",
       "      <td>0.750742</td>\n",
       "    </tr>\n",
       "    <tr>\n",
       "      <th>3</th>\n",
       "      <td>1</td>\n",
       "      <td>4.4</td>\n",
       "      <td>0.642331</td>\n",
       "      <td>2.4</td>\n",
       "      <td>0.590890</td>\n",
       "      <td>14.6</td>\n",
       "      <td>0.749330</td>\n",
       "    </tr>\n",
       "    <tr>\n",
       "      <th>4</th>\n",
       "      <td>1</td>\n",
       "      <td>6.2</td>\n",
       "      <td>0.668244</td>\n",
       "      <td>5.2</td>\n",
       "      <td>0.352706</td>\n",
       "      <td>19.8</td>\n",
       "      <td>1.000000</td>\n",
       "    </tr>\n",
       "    <tr>\n",
       "      <th>...</th>\n",
       "      <td>...</td>\n",
       "      <td>...</td>\n",
       "      <td>...</td>\n",
       "      <td>...</td>\n",
       "      <td>...</td>\n",
       "      <td>...</td>\n",
       "      <td>...</td>\n",
       "    </tr>\n",
       "    <tr>\n",
       "      <th>909995</th>\n",
       "      <td>3</td>\n",
       "      <td>152.8</td>\n",
       "      <td>0.338572</td>\n",
       "      <td>155.8</td>\n",
       "      <td>0.085288</td>\n",
       "      <td>457.2</td>\n",
       "      <td>0.096679</td>\n",
       "    </tr>\n",
       "    <tr>\n",
       "      <th>909996</th>\n",
       "      <td>3</td>\n",
       "      <td>153.6</td>\n",
       "      <td>0.417698</td>\n",
       "      <td>157.6</td>\n",
       "      <td>0.015875</td>\n",
       "      <td>462.4</td>\n",
       "      <td>0.095367</td>\n",
       "    </tr>\n",
       "    <tr>\n",
       "      <th>909997</th>\n",
       "      <td>3</td>\n",
       "      <td>154.4</td>\n",
       "      <td>0.000000</td>\n",
       "      <td>159.4</td>\n",
       "      <td>0.139863</td>\n",
       "      <td>471.6</td>\n",
       "      <td>0.037560</td>\n",
       "    </tr>\n",
       "    <tr>\n",
       "      <th>909998</th>\n",
       "      <td>3</td>\n",
       "      <td>156.2</td>\n",
       "      <td>0.378034</td>\n",
       "      <td>160.2</td>\n",
       "      <td>0.145710</td>\n",
       "      <td>477.8</td>\n",
       "      <td>0.077951</td>\n",
       "    </tr>\n",
       "    <tr>\n",
       "      <th>909999</th>\n",
       "      <td>3</td>\n",
       "      <td>159.0</td>\n",
       "      <td>1.000000</td>\n",
       "      <td>161.0</td>\n",
       "      <td>0.129495</td>\n",
       "      <td>482.0</td>\n",
       "      <td>0.105430</td>\n",
       "    </tr>\n",
       "  </tbody>\n",
       "</table>\n",
       "<p>910000 rows × 7 columns</p>\n",
       "</div>"
      ],
      "text/plain": [
       "        images  time_g     tfnbg  time_r     tfnbr  time_i     tfnbi\n",
       "0            1     0.0  0.523042     0.0  0.368780     0.0  0.454425\n",
       "1            1     0.8  0.553236     0.8  0.413775     5.2  0.675545\n",
       "2            1     1.6  0.829254     1.6  0.329728     9.4  0.750742\n",
       "3            1     4.4  0.642331     2.4  0.590890    14.6  0.749330\n",
       "4            1     6.2  0.668244     5.2  0.352706    19.8  1.000000\n",
       "...        ...     ...       ...     ...       ...     ...       ...\n",
       "909995       3   152.8  0.338572   155.8  0.085288   457.2  0.096679\n",
       "909996       3   153.6  0.417698   157.6  0.015875   462.4  0.095367\n",
       "909997       3   154.4  0.000000   159.4  0.139863   471.6  0.037560\n",
       "909998       3   156.2  0.378034   160.2  0.145710   477.8  0.077951\n",
       "909999       3   159.0  1.000000   161.0  0.129495   482.0  0.105430\n",
       "\n",
       "[910000 rows x 7 columns]"
      ]
     },
     "execution_count": 88,
     "metadata": {},
     "output_type": "execute_result"
    }
   ],
   "source": [
    "g"
   ]
  },
  {
   "cell_type": "code",
   "execution_count": null,
   "id": "cc6fdbf0",
   "metadata": {},
   "outputs": [],
   "source": [
    "features = ['images', 'time_g', 'tfnbg', 'time_r', 'tfnbr', 'time_i', 'tfnbi']\n",
    "\n",
    "fig = px.scatter_matrix(\n",
    "    f,\n",
    "    dimensions=features\n",
    ")\n",
    "fig.update_traces(diagonal_visible=False)\n",
    "fig.show()"
   ]
  },
  {
   "cell_type": "code",
   "execution_count": 89,
   "id": "cfabebb5",
   "metadata": {},
   "outputs": [],
   "source": [
    "g['images'] = g['images'].replace([1, 2, 3, 4], [0, 1, 1, 1])"
   ]
  },
  {
   "cell_type": "code",
   "execution_count": 90,
   "id": "6b9c9717",
   "metadata": {},
   "outputs": [
    {
     "data": {
      "text/plain": [
       "['time_g', 'tfnbg']"
      ]
     },
     "execution_count": 90,
     "metadata": {},
     "output_type": "execute_result"
    }
   ],
   "source": [
    "feature_columns = g.columns.tolist()[1:3]\n",
    "feature_columns"
   ]
  },
  {
   "cell_type": "code",
   "execution_count": 91,
   "id": "079732fb",
   "metadata": {},
   "outputs": [],
   "source": [
    "train = g[:91*8000]\n",
    "val = g[91*8000:91*9000]\n",
    "test = g[91*9000:]"
   ]
  },
  {
   "cell_type": "code",
   "execution_count": 92,
   "id": "38fb0aa1",
   "metadata": {},
   "outputs": [],
   "source": [
    "def dataframe_to_dataset(f):\n",
    "    targets = torch.IntTensor(f['images'].values)\n",
    "    features = torch.tensor(f[feature_columns].values)\n",
    "    return TensorDataset(features, targets)"
   ]
  },
  {
   "cell_type": "code",
   "execution_count": 93,
   "id": "127a89a5",
   "metadata": {},
   "outputs": [],
   "source": [
    "TrainSet = dataframe_to_dataset(train)\n",
    "TestSet = dataframe_to_dataset(test)\n",
    "ValSet = dataframe_to_dataset(val)"
   ]
  },
  {
   "cell_type": "code",
   "execution_count": 94,
   "id": "35b5c834",
   "metadata": {},
   "outputs": [],
   "source": [
    "class SequenceModel(nn.Module):\n",
    "    \n",
    "    def __init__(self, n_features, n_classes, n_hidden=128):\n",
    "        \n",
    "        super(SequenceModel, self).__init__()\n",
    "        \n",
    "        self.lstm = nn.LSTM(\n",
    "            input_size = n_features,\n",
    "            hidden_size = n_hidden,\n",
    "            num_layers = 2,\n",
    "        )\n",
    "        \n",
    "        self.classifier = nn.Sequential(\n",
    "            nn.Linear(n_hidden, n_classes-1),\n",
    "            nn.Sigmoid(),\n",
    "        )\n",
    "            \n",
    "        \n",
    "    def forward(self, x):\n",
    "        self.lstm.flatten_parameters()\n",
    "        lstm_out, (ht, ct) = self.lstm(x)\n",
    "        pred = self.classifier(lstm_out[-1])\n",
    "        return pred\n",
    "        "
   ]
  },
  {
   "cell_type": "code",
   "execution_count": 95,
   "id": "b03388b8",
   "metadata": {},
   "outputs": [
    {
     "data": {
      "text/plain": [
       "<torch._C.Generator at 0x7fbb8231fd10>"
      ]
     },
     "execution_count": 95,
     "metadata": {},
     "output_type": "execute_result"
    }
   ],
   "source": [
    "torch.manual_seed(0)"
   ]
  },
  {
   "cell_type": "code",
   "execution_count": 96,
   "id": "ebc3c89d",
   "metadata": {},
   "outputs": [],
   "source": [
    "model = SequenceModel(n_features = 2, \n",
    "                        n_classes = 2)\n",
    "model = model.float()"
   ]
  },
  {
   "cell_type": "code",
   "execution_count": 97,
   "id": "fcd4abac",
   "metadata": {},
   "outputs": [
    {
     "name": "stdout",
     "output_type": "stream",
     "text": [
      "SequenceModel(\n",
      "  (lstm): LSTM(2, 128, num_layers=2)\n",
      "  (classifier): Sequential(\n",
      "    (0): Linear(in_features=128, out_features=1, bias=True)\n",
      "    (1): Sigmoid()\n",
      "  )\n",
      ")\n"
     ]
    }
   ],
   "source": [
    "print(model)"
   ]
  },
  {
   "cell_type": "code",
   "execution_count": 98,
   "id": "d9ffa9ff",
   "metadata": {},
   "outputs": [],
   "source": [
    "TrainLoader = data_utils.DataLoader(TrainSet, batch_size = 36400, shuffle = True)\n",
    "ValLoader = data_utils.DataLoader(ValSet, batch_size = 9100, shuffle = False)\n",
    "TestLoader = data_utils.DataLoader(TestSet, batch_size = 9100, shuffle = False)"
   ]
  },
  {
   "cell_type": "code",
   "execution_count": 99,
   "id": "55cb8502",
   "metadata": {},
   "outputs": [],
   "source": [
    "loss_function = torch.nn.BCELoss()"
   ]
  },
  {
   "cell_type": "code",
   "execution_count": 100,
   "id": "de22a684",
   "metadata": {},
   "outputs": [],
   "source": [
    "optimizer = optim.Adam(model.parameters(), lr=0.0001)"
   ]
  },
  {
   "cell_type": "code",
   "execution_count": 101,
   "id": "8534f1e4",
   "metadata": {},
   "outputs": [
    {
     "name": "stdout",
     "output_type": "stream",
     "text": [
      "--- State_dict du model : ---\n",
      "lstm.weight_ih_l0 \t torch.Size([512, 2])\n",
      "lstm.weight_hh_l0 \t torch.Size([512, 128])\n",
      "lstm.bias_ih_l0 \t torch.Size([512])\n",
      "lstm.bias_hh_l0 \t torch.Size([512])\n",
      "lstm.weight_ih_l1 \t torch.Size([512, 128])\n",
      "lstm.weight_hh_l1 \t torch.Size([512, 128])\n",
      "lstm.bias_ih_l1 \t torch.Size([512])\n",
      "lstm.bias_hh_l1 \t torch.Size([512])\n",
      "classifier.0.weight \t torch.Size([1, 128])\n",
      "classifier.0.bias \t torch.Size([1])\n",
      "\n"
     ]
    }
   ],
   "source": [
    "print(\"--- State_dict du model : ---\")\n",
    "for param_tensor in model.state_dict():\n",
    "    print(param_tensor, \"\\t\", model.state_dict()[param_tensor].size())\n",
    "print()"
   ]
  },
  {
   "cell_type": "markdown",
   "id": "a17f8ffa",
   "metadata": {},
   "source": [
    "def tensor(n):\n",
    "    t = torch.zeros(2)\n",
    "    t[n]=1\n",
    "    return t"
   ]
  },
  {
   "cell_type": "code",
   "execution_count": null,
   "id": "2bc4d2a3",
   "metadata": {
    "scrolled": true
   },
   "outputs": [],
   "source": [
    "losses = []  \n",
    "#val_losses = []\n",
    "N_epochs = 3\n",
    "#i=0\n",
    "for epoch in range(N_epochs):  # Loop over epochs\n",
    "    #running_loss = 0.0\n",
    "    \n",
    "    for features, label in TrainLoader:\n",
    "\n",
    "        # Forward Propagation \n",
    "        labels_pred = model(features.float())\n",
    "        #label = tensor(np.array(label[0].item()))   # for size 2 in output of the model\n",
    "        label = torch.tensor([label[0].item()]).to(torch.float)\n",
    "        #labels_val_pred = model(features_val.float())\n",
    "        #labels_val = torch.tensor([labels_val[0].item()]).to(torch.float)\n",
    "        \n",
    "        # Loss computation\n",
    "        loss = loss_function(labels_pred, label)\n",
    "        #val_loss = loss_function(labels_val_pred, labels_val)\n",
    "  \n",
    "        # Save loss for future analysis\n",
    "        losses.append(loss.item())\n",
    "        #val_losses.append(val_loss)\n",
    "        \n",
    "\n",
    "        # Erase previous gradients\n",
    "        optimizer.zero_grad()\n",
    "        \n",
    "        # Compute gradients (backpropagation)\n",
    "        loss.backward()\n",
    "        \n",
    "        # Weight update\n",
    "        optimizer.step()\n",
    "        \n",
    "        \n",
    "        # print statistics\n",
    "#        running_loss += loss.item()\n",
    "#        if i % 10 == 9:    \n",
    "#            print('[Epoque : %d, iteration: %5d] loss: %.3f' %\n",
    "#                  (epoch + 1, i + 1, running_loss / 10))\n",
    "#            running_loss = 0.0\n",
    "#        i+=1        \n",
    "\n",
    "    print('Training done')"
   ]
  },
  {
   "cell_type": "code",
   "execution_count": null,
   "id": "630d6412",
   "metadata": {},
   "outputs": [],
   "source": [
    "val_losses = []\n",
    "for epoch in range(N_epochs):  # Loop over epochs\n",
    "    running_loss = 0.0\n",
    "   \n",
    "    for features, labels in ValLoader:\n",
    "        \n",
    "        # Forward Propagation \n",
    "        labels_pred = model(features.float())\n",
    "        label = torch.tensor([labels[0].item()]).to(torch.float)\n",
    "\n",
    "        # Loss computation\n",
    "        loss = loss_function(labels_pred, label)\n",
    "\n",
    "        # Save loss for future analysis\n",
    "        val_losses.append(loss.item())\n",
    "        \n",
    "    print('Training done')"
   ]
  },
  {
   "cell_type": "code",
   "execution_count": 20,
   "id": "69d452de",
   "metadata": {},
   "outputs": [
    {
     "data": {
      "text/plain": [
       "<matplotlib.legend.Legend at 0x7f8190542ee0>"
      ]
     },
     "execution_count": 20,
     "metadata": {},
     "output_type": "execute_result"
    },
    {
     "data": {
      "image/png": "[encoded data removed]",
      "text/plain": [
       "<Figure size 576x432 with 1 Axes>"
      ]
     },
     "metadata": {
      "needs_background": "light"
     },
     "output_type": "display_data"
    }
   ],
   "source": [
    "# Display loss evolution\n",
    "fig, axes = plt.subplots(figsize=(8,6))\n",
    "axes.plot(losses,'r-',lw=2,label='Training loss function')\n",
    "#axes.plot(val_losses,'b-',lw=2,label='Validation loss function')\n",
    "axes.set_xlabel('N iterations',fontsize=18)\n",
    "axes.set_ylabel('Loss',fontsize=18)\n",
    "plt.legend(loc='upper right',fontsize=16)"
   ]
  },
  {
   "cell_type": "code",
   "execution_count": null,
   "id": "bca08902",
   "metadata": {},
   "outputs": [],
   "source": []
  },
  {
   "cell_type": "code",
   "execution_count": null,
   "id": "a17fd48b",
   "metadata": {},
   "outputs": [],
   "source": []
  },
  {
   "cell_type": "code",
   "execution_count": null,
   "id": "41af7298",
   "metadata": {},
   "outputs": [],
   "source": []
  },
  {
   "cell_type": "code",
   "execution_count": null,
   "id": "d7f21def",
   "metadata": {},
   "outputs": [],
   "source": []
  },
  {
   "cell_type": "code",
   "execution_count": null,
   "id": "b246fe31",
   "metadata": {},
   "outputs": [],
   "source": []
  },
  {
   "cell_type": "code",
   "execution_count": null,
   "id": "efcd0606",
   "metadata": {},
   "outputs": [],
   "source": []
  }
 ],
 "metadata": {
  "kernelspec": {
   "display_name": "Python 3 (ipykernel)",
   "language": "python",
   "name": "python3"
  },
  "language_info": {
   "codemirror_mode": {
    "name": "ipython",
    "version": 3
   },
   "file_extension": ".py",
   "mimetype": "text/x-python",
   "name": "python",
   "nbconvert_exporter": "python",
   "pygments_lexer": "ipython3",
   "version": "3.9.7"
  }
 },
 "nbformat": 4,
 "nbformat_minor": 5
}
