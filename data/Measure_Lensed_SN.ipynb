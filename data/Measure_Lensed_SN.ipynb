{
 "cells": [
  {
   "cell_type": "code",
   "execution_count": 1,
   "id": "8be0510d",
   "metadata": {},
   "outputs": [],
   "source": [
    "import numpy as np\n",
    "import matplotlib.pyplot as plt\n",
    "import sep\n"
   ]
  },
  {
   "cell_type": "code",
   "execution_count": 5,
   "id": "28b4bc9e",
   "metadata": {},
   "outputs": [
    {
     "ename": "ImportError",
     "evalue": "cannot import name 'Starlet' from 'scarlet' (/Users/lea/opt/anaconda3/lib/python3.9/site-packages/scarlet/__init__.py)",
     "output_type": "error",
     "traceback": [
      "\u001b[0;31m---------------------------------------------------------------------------\u001b[0m",
      "\u001b[0;31mImportError\u001b[0m                               Traceback (most recent call last)",
      "\u001b[0;32m/var/folders/wj/f1k4v84n75vfsjmdsxm0kfxh0000gn/T/ipykernel_6751/1670319879.py\u001b[0m in \u001b[0;36m<module>\u001b[0;34m\u001b[0m\n\u001b[1;32m      1\u001b[0m \u001b[0;31m#pip uninstall scarlet\u001b[0m\u001b[0;34m\u001b[0m\u001b[0;34m\u001b[0m\u001b[0m\n\u001b[1;32m      2\u001b[0m \u001b[0;32mimport\u001b[0m \u001b[0mscarlet\u001b[0m\u001b[0;34m\u001b[0m\u001b[0;34m\u001b[0m\u001b[0m\n\u001b[0;32m----> 3\u001b[0;31m \u001b[0;32mfrom\u001b[0m \u001b[0mscarlet\u001b[0m \u001b[0;32mimport\u001b[0m \u001b[0mStarlet\u001b[0m\u001b[0;31m#\u001b[0m\u001b[0;34m\u001b[0m\u001b[0;34m\u001b[0m\u001b[0m\n\u001b[0m\u001b[1;32m      4\u001b[0m \u001b[0;32mfrom\u001b[0m \u001b[0mscarlet_extensions\u001b[0m\u001b[0;34m.\u001b[0m\u001b[0minitialization\u001b[0m\u001b[0;34m.\u001b[0m\u001b[0mdetection\u001b[0m \u001b[0;32mimport\u001b[0m \u001b[0mmad_wavelet\u001b[0m\u001b[0;34m\u001b[0m\u001b[0;34m\u001b[0m\u001b[0m\n\u001b[1;32m      5\u001b[0m \u001b[0;31m#import warnings\u001b[0m\u001b[0;34m\u001b[0m\u001b[0;34m\u001b[0m\u001b[0m\n",
      "\u001b[0;31mImportError\u001b[0m: cannot import name 'Starlet' from 'scarlet' (/Users/lea/opt/anaconda3/lib/python3.9/site-packages/scarlet/__init__.py)"
     ]
    }
   ],
   "source": [
    "import scarlet\n",
    "from scarlet import Starlet\n",
    "from scarlet_extensions.initialization.detection import mad_wavelet\n",
    "#import warnings\n",
    "#warnings.filterwarnings('ignore')"
   ]
  },
  {
   "cell_type": "code",
   "execution_count": null,
   "id": "e24edf47",
   "metadata": {},
   "outputs": [],
   "source": [
    "def makeCatalog(images, lvl=3, wave=True):\n",
    "    ''' Creates a detection catalog by combining low and high resolution data\n",
    "    This function is used for detection before running scarlet.\n",
    "    It is particularly useful for stellar crowded fields and for detecting high frequency features.\n",
    "    Parameters\n",
    "    ----------\n",
    "    datas: array\n",
    "        array of Data objects\n",
    "    lvl: int\n",
    "        detection lvl\n",
    "    wave: Bool\n",
    "        set to True to use wavelet decomposition of images before combination\n",
    "    Returns\n",
    "    -------\n",
    "    catalog: sextractor catalog\n",
    "        catalog of detected sources\n",
    "    bg_rms: array\n",
    "        background level for each data set\n",
    "    '''\n",
    "    \n",
    "    hr_images = images / np.sum(images, axis=(1, 2))[:, None, None]\n",
    "    # Detection image as the sum over all images\n",
    "    detect_image = np.sum(hr_images, axis=0)\n",
    "\n",
    "    if np.size(detect_image.shape) == 3:\n",
    "        if wave:\n",
    "            # Wavelet detection in the first three levels\n",
    "            wave_detect = Starlet.from_image(detect_image.mean(axis=0), lvl=4).coefficients\n",
    "            wave_detect[:, -1, :, :] = 0\n",
    "            detect = Starlet(coefficients=wave_detect).image\n",
    "        else:\n",
    "            # Direct detection\n",
    "            detect = detect_image.mean(axis=0)\n",
    "    else:\n",
    "        if wave:\n",
    "            wave_detect = Starlet.from_image(detect_image).coefficients\n",
    "            \n",
    "            detect = wave_detect[0]\n",
    "        else:\n",
    "            detect = detect_image\n",
    "\n",
    "    bkg = sep.Background(images[0])\n",
    "    catalog = sep.extract(images[0], lvl, err=bkg.globalrms)\n",
    "\n",
    "    \n",
    "    bg_rms = mad_wavelet(images)\n",
    "\n",
    "    return catalog, bg_rms\n",
    "\n"
   ]
  },
  {
   "cell_type": "code",
   "execution_count": null,
   "id": "661e7bc2",
   "metadata": {},
   "outputs": [],
   "source": [
    "file = np.load(\"data/ZFT_training_images_26k_iband_time_series_images_EPL.npz\", allow_pickle = True)\n",
    "file_full = np.load(\"data/ZTF_training_images_26k_iband_image_properties_EPL.npz\", allow_pickle = True)\n",
    "print(file_full.files)"
   ]
  },
  {
   "cell_type": "code",
   "execution_count": null,
   "id": "50443389",
   "metadata": {},
   "outputs": [],
   "source": [
    "print(file.files)\n",
    "\n",
    "time_images = file['images_time_series']\n",
    "coadd = file['images_single']\n",
    "peaks = file['images_peak']\n",
    "labels = file['data_labels']\n",
    "\n",
    "mags = file_full['app_mag_ps_list']\n"
   ]
  },
  {
   "cell_type": "code",
   "execution_count": null,
   "id": "7107b51f",
   "metadata": {
    "scrolled": false
   },
   "outputs": [],
   "source": [
    "for indx, tim in enumerate(time_images[:100]):\n",
    "\n",
    "    x_cat = []\n",
    "    y_cat = []\n",
    "    x2_cat = []\n",
    "    y2_cat = []\n",
    "    flux = []\n",
    "    for im in tim:\n",
    "        catalog, bg = makeCatalog(im[None], lvl=1, wave=False)\n",
    "        try:\n",
    "            x_cat.append(*catalog['x'])\n",
    "            y_cat.append(*catalog['y'])\n",
    "            x2_cat.append(*catalog['x2'])\n",
    "            y2_cat.append(*catalog['y2'])\n",
    "            flux.append(*catalog['cflux'])\n",
    "        except:\n",
    "            continue\n",
    "\n",
    "    #plt.title(labels[indx])\n",
    "    #plt.plot(np.array(x_cat), np.array(y_cat), 'o')\n",
    "    #plt.show()\n",
    "    #plt.plot( np.array(x2_cat), 'o')\n",
    "    #plt.show()\n",
    "    #plt.plot( np.array(y2_cat), 'o')\n",
    "    #plt.show()\n",
    "    #plt.plot(np.array(flux))\n",
    "    #plt.show()\n",
    "    if labels[indx][0] == 0:\n",
    "        plt.plot(flux, 'b')\n",
    "    else:\n",
    "        plt.plot(flux, 'r')\n",
    "\n",
    "plt.show()"
   ]
  },
  {
   "cell_type": "code",
   "execution_count": null,
   "id": "37e94b1f",
   "metadata": {},
   "outputs": [],
   "source": []
  },
  {
   "cell_type": "code",
   "execution_count": null,
   "id": "d29aeed1",
   "metadata": {},
   "outputs": [],
   "source": []
  },
  {
   "cell_type": "code",
   "execution_count": null,
   "id": "298ac4b7",
   "metadata": {},
   "outputs": [],
   "source": []
  }
 ],
 "metadata": {
  "kernelspec": {
   "display_name": "Python 3 (ipykernel)",
   "language": "python",
   "name": "python3"
  },
  "language_info": {
   "codemirror_mode": {
    "name": "ipython",
    "version": 3
   },
   "file_extension": ".py",
   "mimetype": "text/x-python",
   "name": "python",
   "nbconvert_exporter": "python",
   "pygments_lexer": "ipython3",
   "version": "3.9.7"
  }
 },
 "nbformat": 4,
 "nbformat_minor": 5
}
