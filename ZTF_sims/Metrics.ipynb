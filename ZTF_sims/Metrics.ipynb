{
 "cells": [
  {
   "cell_type": "code",
   "execution_count": null,
   "id": "06ad710c",
   "metadata": {},
   "outputs": [],
   "source": [
    "import numpy as np\n",
    "import matplotlib.pyplot as plt\n",
    "import warnings\n",
    "import pandas as pd\n",
    "import math\n",
    "import matplotlib as mpl\n",
    "from matplotlib import rc\n",
    "warnings.filterwarnings('ignore')\n"
   ]
  },
  {
   "cell_type": "code",
   "execution_count": null,
   "id": "3f2ce053",
   "metadata": {},
   "outputs": [],
   "source": [
    "file = np.load(\"data/ZFT_training_images_26k_iband_time_series_images_EPL-2.npz\", allow_pickle = True)\n",
    "file_full = np.load(\"./data/ZTF_training_images_26k_iband_image_properties_EPL-2.npz\", allow_pickle = True)"
   ]
  },
  {
   "cell_type": "code",
   "execution_count": null,
   "id": "55e89d6a",
   "metadata": {},
   "outputs": [],
   "source": [
    "# array: len = 23223\n",
    "\n",
    "z_source = file_full['z_source_list']\n",
    "z_lens = file_full['z_lens_list']\n",
    "theta_E = file_full['theta_E_list']\n",
    "colour = file_full['colour_param']\n",
    "stretch = file_full['stretch_param']\n",
    "max_TD = file_full['max_time_delay']\n",
    "ra_source = file_full['ra_source_list']\n",
    "dec_source = file_full['dec_source_list']"
   ]
  },
  {
   "cell_type": "code",
   "execution_count": null,
   "id": "7d55be47",
   "metadata": {},
   "outputs": [],
   "source": [
    "mag = file_full['magnification_list']"
   ]
  },
  {
   "cell_type": "code",
   "execution_count": null,
   "id": "587e5252",
   "metadata": {},
   "outputs": [],
   "source": [
    "# array of arrays: 23223 arrays composed of info on each image\n",
    "abs_mags = file_full['app_mag_ps_list']\n",
    "mag = file_full['magnification_list']"
   ]
  },
  {
   "cell_type": "code",
   "execution_count": null,
   "id": "bdf85aee",
   "metadata": {},
   "outputs": [],
   "source": [
    "catalog = file['catalog_time_series']     \n",
    "labels = file['data_labels']     # array de listes de taille 2 remplies de 0 et 1      longueur : 23223\n",
    "times = file['time_stamps']      # array contenant des listes de taille variable     longueur : 23223"
   ]
  },
  {
   "cell_type": "code",
   "execution_count": null,
   "id": "b9a17ebe",
   "metadata": {},
   "outputs": [],
   "source": [
    "labelsbis =[]\n",
    "for i in range(len(labels)):\n",
    "\n",
    "    if (labels[i]==np.array([0, 1])).all():\n",
    "        labelsbis.append(0)\n",
    "    else:\n",
    "        labelsbis.append(1)"
   ]
  },
  {
   "cell_type": "code",
   "execution_count": null,
   "id": "a432c761",
   "metadata": {},
   "outputs": [],
   "source": [
    "x = []\n",
    "y = []\n",
    "\n",
    "a = []\n",
    "b = []\n",
    "\n",
    "for indx, cat in enumerate(catalog):\n",
    "\n",
    "    x_cat = []\n",
    "    y_cat = []\n",
    "    a_cat = []\n",
    "    b_cat = []\n",
    "\n",
    "    for c in cat:\n",
    "        \n",
    "        try:   \n",
    "            x_cat.append(*c['x'])\n",
    "            y_cat.append(*c['y'])\n",
    "\n",
    "            a_cat.append(*c['a'])\n",
    "            b_cat.append(*c['b'])\n",
    "            \n",
    "        except:\n",
    "            example = 1\n",
    "\n",
    "        #if indx==237:\n",
    "            #print(c )\n",
    "            #print('x', c['x'])\n",
    "            \n",
    "         #   print('x_cat', x_cat)\n",
    "    x.append(np.array(x_cat))\n",
    "    y.append(np.array(y_cat))\n",
    "    a.append(np.array(a_cat))\n",
    "    b.append(np.array(b_cat))"
   ]
  },
  {
   "cell_type": "code",
   "execution_count": null,
   "id": "41b2fbbc",
   "metadata": {},
   "outputs": [],
   "source": [
    "for i in range(len(x)):\n",
    "    \n",
    "    if i==0:\n",
    "        f = pd.DataFrame({'nb': i, 'label': labelsbis[i], 'x' : x[i], 'y' : y[i], 'a' : a[i], 'b' : b[i]})\n",
    "        \n",
    "        \n",
    "    else:\n",
    "        f1 = pd.DataFrame({'nb': i, 'label': labelsbis[i], 'x' : x[i], 'y' : y[i], 'a' : a[i], 'b' : b[i]})\n",
    "        f = pd.concat([f, f1])"
   ]
  },
  {
   "cell_type": "code",
   "execution_count": null,
   "id": "089563cf",
   "metadata": {},
   "outputs": [],
   "source": [
    "nbunlensed = []\n",
    "theta_E_unlensed = []\n",
    "nblensed = []\n",
    "theta_E_lensed = []\n",
    "for i in range(len(f['label'][0].values)):\n",
    "    if len(f[f['nb']==i]['x'])!=0:\n",
    "        if f['label'][0].values[i]==0:\n",
    "            nbunlensed.append(i)\n",
    "            theta_E_unlensed.append(0)\n",
    "        else:\n",
    "            nblensed.append(i)\n",
    "            theta_E_lensed.append(theta_E[i])"
   ]
  },
  {
   "cell_type": "code",
   "execution_count": null,
   "id": "d189526a",
   "metadata": {},
   "outputs": [],
   "source": [
    "lensed = f[f['label']==1]\n",
    "unlensed = f[f['label']==0]"
   ]
  },
  {
   "cell_type": "markdown",
   "id": "8132d19c",
   "metadata": {},
   "source": [
    "# SEARCH OF METRIC TO DISCRIMATE LENSED/UNLENSED"
   ]
  },
  {
   "cell_type": "markdown",
   "id": "03184596",
   "metadata": {},
   "source": [
    "## USING STD FOR THE COUPLES (X,Y) AND (A,B)"
   ]
  },
  {
   "cell_type": "code",
   "execution_count": null,
   "id": "d0d980dd",
   "metadata": {},
   "outputs": [],
   "source": [
    "def stdevia(X, Y):\n",
    "    if len(X)==len(Y):\n",
    "        return np.sqrt((np.sum((np.mean(X)-X)**2 + (np.mean(Y)-Y)**2))/len(X))\n",
    "    else:\n",
    "        print('not same size')"
   ]
  },
  {
   "cell_type": "code",
   "execution_count": null,
   "id": "f85c2e2f",
   "metadata": {},
   "outputs": [],
   "source": [
    "STDxlensed = []\n",
    "STDalensed = []\n",
    "\n",
    "\n",
    "for i in nblensed:\n",
    "    X = stdevia(lensed[lensed['nb']==i]['x']-np.mean(lensed[lensed['nb']==i]['x']), lensed[lensed['nb']==i]['y']-np.mean(lensed[lensed['nb']==i]['y']))\n",
    "    A = stdevia(lensed[lensed['nb']==i]['a']-np.mean(lensed[lensed['nb']==i]['a']), lensed[lensed['nb']==i]['b']-np.mean(lensed[lensed['nb']==i]['b']))\n",
    "    if X!= 0 and len(lensed[lensed['nb']==i]['x'])>1:\n",
    "        STDxlensed.append(X)\n",
    "        STDalensed.append(A)"
   ]
  },
  {
   "cell_type": "code",
   "execution_count": null,
   "id": "b5afa39e",
   "metadata": {},
   "outputs": [],
   "source": [
    "STDxunlensed = []\n",
    "STDaunlensed = []\n",
    "\n",
    "for i in nbunlensed:\n",
    "    X = stdevia(unlensed[unlensed['nb']==i]['x']-np.mean(unlensed[unlensed['nb']==i]['x']), unlensed[unlensed['nb']==i]['y']-np.mean(unlensed[unlensed['nb']==i]['y']))\n",
    "    A = stdevia(unlensed[unlensed['nb']==i]['a']-np.mean(unlensed[unlensed['nb']==i]['a']), unlensed[unlensed['nb']==i]['b']-np.mean(unlensed[unlensed['nb']==i]['b']))\n",
    "    if X!=0 and len(unlensed[unlensed['nb']==i]['x'])>1:\n",
    "        STDxunlensed.append(X)\n",
    "        STDaunlensed.append(A)"
   ]
  },
  {
   "cell_type": "code",
   "execution_count": null,
   "id": "ced0832e",
   "metadata": {},
   "outputs": [],
   "source": [
    "plt.rc('text', usetex=True)\n",
    "plt.rc('text.latex', preamble=r'\\usepackage{amssymb}')\n",
    "plt.rc('font', family='serif')\n",
    "plt.rc('font', size=15)\n",
    "mpl.rc('xtick', labelsize=20) \n",
    "mpl.rc('ytick', labelsize=20)\n",
    "mpl.rc('axes', labelsize=20)\n",
    "\n",
    "plt.figure(figsize=(6,6))\n",
    "plt.plot(STDalensed, STDxlensed, 'r.', label='lensed')\n",
    "plt.plot(STDaunlensed, STDxunlensed, 'b.', label = 'unlensed')\n",
    "plt.xlabel('metric ab')\n",
    "plt.ylabel('metric xy')\n",
    "plt.title('std deviation (x,y) and (a,b)');\n",
    "plt.legend();"
   ]
  },
  {
   "cell_type": "markdown",
   "id": "d9c371de",
   "metadata": {},
   "source": [
    "## USING RELATIVE STD DEVIATION $\\sigma / \\bar{x}$"
   ]
  },
  {
   "cell_type": "code",
   "execution_count": null,
   "id": "2edc5642",
   "metadata": {},
   "outputs": [],
   "source": [
    "def relastdevia(X, Y):\n",
    "    if len(X)==len(Y):\n",
    "        return np.sqrt((np.sum(((np.mean(X)-X)/np.mean(X))**2 + (((np.mean(Y)-Y))/np.mean(Y))**2))/len(X))\n",
    "    else:\n",
    "        print('not same size')"
   ]
  },
  {
   "cell_type": "code",
   "execution_count": null,
   "id": "569a9a99",
   "metadata": {},
   "outputs": [],
   "source": [
    "RSTDxlensed = []\n",
    "RSTDalensed = []\n",
    "\n",
    "for i in nblensed:\n",
    "    X = relastdevia(lensed[lensed['nb']==i]['x'], lensed[lensed['nb']==i]['y'])\n",
    "    A = relastdevia(lensed[lensed['nb']==i]['a'], lensed[lensed['nb']==i]['b'])\n",
    "    if x !=0:\n",
    "        RSTDxlensed.append(X)\n",
    "        RSTDalensed.append(A)"
   ]
  },
  {
   "cell_type": "code",
   "execution_count": null,
   "id": "dcfec2ca",
   "metadata": {},
   "outputs": [],
   "source": [
    "RSTDxunlensed = []\n",
    "RSTDaunlensed = []\n",
    "\n",
    "for i in nbunlensed:\n",
    "    X = relastdevia(unlensed[unlensed['nb']==i]['x'], unlensed[unlensed['nb']==i]['y'])\n",
    "    A = relastdevia(unlensed[unlensed['nb']==i]['a'], unlensed[unlensed['nb']==i]['b'])\n",
    "    if x!=0:\n",
    "        RSTDxunlensed.append(X)\n",
    "        RSTDaunlensed.append(A)"
   ]
  },
  {
   "cell_type": "code",
   "execution_count": null,
   "id": "497c0bb4",
   "metadata": {},
   "outputs": [],
   "source": [
    "plt.figure(figsize=(6,6))\n",
    "plt.rc('text', usetex=True)\n",
    "plt.rc('text.latex', preamble=r'\\usepackage{amssymb}')\n",
    "plt.rc('font', family='serif')\n",
    "plt.rc('font', size=15)\n",
    "mpl.rc('xtick', labelsize=20) \n",
    "mpl.rc('ytick', labelsize=20)\n",
    "mpl.rc('axes', labelsize=20)\n",
    "\n",
    "plt.plot(RSTDalensed, RSTDxlensed, 'r.', label='lensed')\n",
    "plt.plot(RSTDaunlensed, RSTDxunlensed, 'b.', label = 'unlensed')\n",
    "plt.xlabel('metric ab')\n",
    "plt.ylabel('metric xy')\n",
    "plt.title('relative standard deviation (x,y) and (a,b)');\n",
    "plt.legend();"
   ]
  },
  {
   "cell_type": "markdown",
   "id": "f0f1df85",
   "metadata": {},
   "source": [
    "## USING LENGHT MAX FOR (X,Y)/ (A,B) AND CENTER (0,0)"
   ]
  },
  {
   "cell_type": "code",
   "execution_count": null,
   "id": "af8b9096",
   "metadata": {},
   "outputs": [],
   "source": [
    "from scipy.spatial import distance\n",
    "\n",
    "distxlensed = []\n",
    "distalensed = []\n",
    "C = (0,0)\n",
    "\n",
    "for i in nblensed:\n",
    "    Dx = []\n",
    "    Da = []\n",
    "    X = lensed[lensed['nb']==i]['x'].copy()\n",
    "    Y = lensed[lensed['nb']==i]['y'].copy()\n",
    "    MX = np.mean(X)\n",
    "    MY = np.mean(Y)\n",
    "    X = X - MX\n",
    "    Y = Y - MY\n",
    "    A = lensed[lensed['nb']==i]['a'].copy()\n",
    "    B = lensed[lensed['nb']==i]['b'].copy()\n",
    "    MA = np.mean(A)\n",
    "    MB = np.mean(B)\n",
    "    A = A - MA\n",
    "    B = B - MB\n",
    "    if len(X)!=0:\n",
    "        for j in range(len(X)):\n",
    "            Dx.append(distance.euclidean(C, (X[j], Y[j])))\n",
    "        distxlensed.append(max(Dx))\n",
    "        for j in range(len(A)):\n",
    "            Da.append(distance.euclidean(C, (A[j], B[j])))\n",
    "        distalensed.append(min(Da))"
   ]
  },
  {
   "cell_type": "code",
   "execution_count": null,
   "id": "a346f755",
   "metadata": {},
   "outputs": [],
   "source": [
    "distxunlensed = []\n",
    "distaunlensed = []\n",
    "\n",
    "for i in nbunlensed:\n",
    "    Dx = []\n",
    "    Da = []\n",
    "    X = unlensed[unlensed['nb']==i]['x']\n",
    "    Y = unlensed[unlensed['nb']==i]['y']\n",
    "    MX = np.mean(X)\n",
    "    MY = np.mean(Y)\n",
    "    X = X - MX\n",
    "    Y = Y - MY\n",
    "    A = unlensed[unlensed['nb']==i]['a']\n",
    "    B = unlensed[unlensed['nb']==i]['b']\n",
    "    MA = np.mean(A)\n",
    "    MB = np.mean(B)\n",
    "    A = A - MA\n",
    "    B = B - MB\n",
    "    if len(X)!=0:\n",
    "        for j in range(len(X)):\n",
    "            Dx.append(distance.euclidean(C, (X[j], Y[j])))\n",
    "        distxunlensed.append(max(Dx))\n",
    "        for j in range(len(A)):\n",
    "            Da.append(distance.euclidean(C, (A[j], B[j])))\n",
    "        distaunlensed.append(min(Da))"
   ]
  },
  {
   "cell_type": "code",
   "execution_count": null,
   "id": "d19fdf6d",
   "metadata": {},
   "outputs": [],
   "source": [
    "plt.figure(figsize=(6,6))\n",
    "plt.rc('text', usetex=True)\n",
    "plt.rc('text.latex', preamble=r'\\usepackage{amssymb}')\n",
    "plt.rc('font', family='serif')\n",
    "plt.rc('font', size=15)\n",
    "mpl.rc('xtick', labelsize=20) \n",
    "mpl.rc('ytick', labelsize=20)\n",
    "mpl.rc('axes', labelsize=20)\n",
    "plt.plot(distalensed, distxlensed, 'r.', label = 'lensed')\n",
    "plt.plot(distaunlensed, distxunlensed, 'b.', label = 'unlensed')\n",
    "plt.xlabel('metric ab')\n",
    "plt.ylabel('metric xy')\n",
    "plt.legend()\n",
    "plt.title('max distance(x,y) and max distance (a,b) and the center');"
   ]
  },
  {
   "cell_type": "markdown",
   "id": "c8ebb858",
   "metadata": {},
   "source": [
    "## USING LENGHT MAX FOR (X,Y)/ MINIMUM (A,B) BETWEEN EACH POINT"
   ]
  },
  {
   "cell_type": "code",
   "execution_count": null,
   "id": "c2e8363a",
   "metadata": {},
   "outputs": [],
   "source": [
    "def distances(L1 , L2):           # to obtain distances once from positions lists L1 (for x) and L2 (for y for ex)\n",
    "    D = []\n",
    "    l1 = L1.copy()\n",
    "    l2 = L2.copy()\n",
    "    while len(l1)>1:\n",
    "        for j in range(1, len(l1)):\n",
    "            D.append(distance.euclidean((l1[0],l2[0]), (l1[j], l2[j])))\n",
    "            #print(l1[0], l2[0], l1[j], l2[j])\n",
    "        l1 = l1[1:]\n",
    "        l2 = l2[1:] \n",
    "    return D "
   ]
  },
  {
   "cell_type": "code",
   "execution_count": null,
   "id": "9b6d31aa",
   "metadata": {},
   "outputs": [],
   "source": [
    "Maxxlensed = []\n",
    "Minalensed = []\n",
    "\n",
    "for i in nblensed:\n",
    "    if len(lensed[lensed['nb']==i]['x'])>1:\n",
    "        X = lensed[lensed['nb']==i]['x'].copy()\n",
    "        X = X - np.mean(X)\n",
    "        Y = lensed[lensed['nb']==i]['y'].copy()\n",
    "        Y = Y - np.mean(Y)\n",
    "        A = lensed[lensed['nb']==i]['a'].copy()\n",
    "        A = A - np.mean(A)\n",
    "        B = lensed[lensed['nb']==i]['b'].copy()\n",
    "        B = B-np.mean(B)\n",
    "        Maxxlensed.append(max(distances(list(X), list(Y))))\n",
    "        Minalensed.append(min(distances(list(A), list(B))))"
   ]
  },
  {
   "cell_type": "code",
   "execution_count": null,
   "id": "fc185573",
   "metadata": {},
   "outputs": [],
   "source": [
    "Maxxunlensed = []\n",
    "Minaunlensed = []\n",
    "\n",
    "for i in nbunlensed:\n",
    "\n",
    "    #print(len(unlensed[unlensed['nb']==i]['x']))\n",
    "    if len(unlensed[unlensed['nb']==i]['x'])>1:\n",
    "        #print('here')\n",
    "        X = unlensed[unlensed['nb']==i]['x'].copy()\n",
    "        X = X - np.mean(X)\n",
    "        Y = unlensed[unlensed['nb']==i]['y'].copy()\n",
    "        Y = Y - np.mean(Y)\n",
    "        A = unlensed[unlensed['nb']==i]['a'].copy()\n",
    "        A = A - np.mean(A)\n",
    "        B = unlensed[unlensed['nb']==i]['b'].copy()\n",
    "        B = B-np.mean(B)\n",
    "        Maxxunlensed.append(max(distances(list(X), list(Y))))\n",
    "        Minaunlensed.append(min(distances(list(A), list(B))))"
   ]
  },
  {
   "cell_type": "code",
   "execution_count": null,
   "id": "d12012ec",
   "metadata": {},
   "outputs": [],
   "source": [
    "plt.figure(figsize=(6,6))\n",
    "plt.rc('text', usetex=True)\n",
    "plt.rc('text.latex', preamble=r'\\usepackage{amssymb}')\n",
    "plt.rc('font', family='serif')\n",
    "plt.rc('font', size=15)\n",
    "mpl.rc('xtick', labelsize=20) \n",
    "mpl.rc('ytick', labelsize=20)\n",
    "mpl.rc('axes', labelsize=20)\n",
    "plt.plot(Minalensed, Maxxlensed, 'r.', label = 'lensed')\n",
    "plt.plot(Minaunlensed, Maxxunlensed, 'b.', label = 'unlensed')\n",
    "plt.xlabel('metric ab')\n",
    "plt.ylabel('metric xy')\n",
    "plt.legend()\n",
    "plt.title('max distance(x,y) and min distance(a,b)');"
   ]
  },
  {
   "cell_type": "code",
   "execution_count": null,
   "id": "3c43eb09",
   "metadata": {},
   "outputs": [],
   "source": [
    "########################### WITH OUTLIERS ###############################\n",
    "Maxxoutliers = []\n",
    "\n",
    "for i in range(len(STDxoutliers)):\n",
    "    X = STDxoutliers[i].values\n",
    "    X = X - np.mean(X)\n",
    "    Y = STDyoutliers[i].values\n",
    "    Y = Y - np.mean(Y)\n",
    "    Maxxoutliers.append(max(distances(list(X), list(Y))))"
   ]
  },
  {
   "cell_type": "markdown",
   "id": "7c73890a",
   "metadata": {},
   "source": [
    "## USING LENGHT MAX FOR (X,Y) BETWEEN EACH POINT AND MIN(A- B) "
   ]
  },
  {
   "cell_type": "code",
   "execution_count": null,
   "id": "3f3d2703",
   "metadata": {},
   "outputs": [],
   "source": [
    "def subst(L1, L2):\n",
    "    return([abs(L1[i]-L2[i]) for i in range(len(L1))])"
   ]
  },
  {
   "cell_type": "code",
   "execution_count": null,
   "id": "9b454450",
   "metadata": {},
   "outputs": [],
   "source": [
    "Diffalensed = []\n",
    "for i in nblensed:\n",
    "    if len(lensed[lensed['nb']==i]['a'].copy())>1:\n",
    "        Diffalensed.append(min(subst(lensed[lensed['nb']==i]['a'].copy(), lensed[lensed['nb']==i]['b'].copy())))"
   ]
  },
  {
   "cell_type": "code",
   "execution_count": null,
   "id": "e2b0d2d2",
   "metadata": {},
   "outputs": [],
   "source": [
    "Diffaunlensed = []\n",
    "for i in nbunlensed:\n",
    "    if len(unlensed[unlensed['nb']==i]['a'].copy())>1:\n",
    "        Diffaunlensed.append(min(subst(unlensed[unlensed['nb']==i]['a'].copy(), unlensed[unlensed['nb']==i]['b'].copy())))"
   ]
  },
  {
   "cell_type": "code",
   "execution_count": null,
   "id": "1edcbff6",
   "metadata": {},
   "outputs": [],
   "source": [
    "Mindiffaoutliers = []\n",
    "\n",
    "for i in range(len(STDaoutliers)):\n",
    "    Mindiffaoutliers.append(min(subst(STDaoutliers[i].values, STDboutliers[i].values)))"
   ]
  },
  {
   "cell_type": "code",
   "execution_count": null,
   "id": "fc86c9e8",
   "metadata": {},
   "outputs": [],
   "source": [
    "plt.figure(figsize=(10,10))\n",
    "plt.rc('text', usetex=True)\n",
    "plt.rc('text.latex', preamble=r'\\usepackage{amssymb}')\n",
    "plt.rc('font', family='serif')\n",
    "plt.rc('font', size=15)\n",
    "mpl.rc('xtick', labelsize=20) \n",
    "mpl.rc('ytick', labelsize=20)\n",
    "mpl.rc('axes', labelsize=20)\n",
    "plt.plot(Diffalensed, Maxxlensed, 'r.', label = 'lensed')\n",
    "plt.plot(Diffaunlensed, Maxxunlensed, 'b.', label = 'unlensed')\n",
    "plt.plot(Mindiffaoutliers, Maxxoutliers, 'g+', label='overlapping')\n",
    "plt.xlabel('metric ab')\n",
    "plt.ylabel('metric xy')\n",
    "plt.legend()\n",
    "plt.title('max distance(x,y) and min(a-b)');"
   ]
  },
  {
   "cell_type": "markdown",
   "id": "3d13ae95",
   "metadata": {},
   "source": [
    "## USING LENGHT MAX FOR (X,Y) BETWEEN EACH POINT AND MEAN(A- B) "
   ]
  },
  {
   "cell_type": "code",
   "execution_count": null,
   "id": "2cd0f3c9",
   "metadata": {},
   "outputs": [],
   "source": [
    "Meandiffalensed = []\n",
    "for i in nblensed:\n",
    "    if len(lensed[lensed['nb']==i]['a'].copy())>1:\n",
    "        Meandiffalensed.append(np.mean(subst(lensed[lensed['nb']==i]['a'].copy(), lensed[lensed['nb']==i]['b'].copy())))"
   ]
  },
  {
   "cell_type": "code",
   "execution_count": null,
   "id": "842e04ac",
   "metadata": {},
   "outputs": [],
   "source": [
    "Meandiffaunlensed = []\n",
    "for i in nbunlensed:\n",
    "    if len(unlensed[unlensed['nb']==i]['a'].copy())>1:\n",
    "        Meandiffaunlensed.append(np.mean(subst(unlensed[unlensed['nb']==i]['a'].copy(), unlensed[unlensed['nb']==i]['b'].copy())))"
   ]
  },
  {
   "cell_type": "code",
   "execution_count": null,
   "id": "664ea4c7",
   "metadata": {},
   "outputs": [],
   "source": [
    "Meandiffaoutliers = []\n",
    "\n",
    "for i in range(len(STDaoutliers)):\n",
    "    Meandiffaoutliers.append(np.mean(subst(STDaoutliers[i].values, STDboutliers[i].values)))"
   ]
  },
  {
   "cell_type": "code",
   "execution_count": null,
   "id": "52afce2f",
   "metadata": {},
   "outputs": [],
   "source": [
    "plt.figure(figsize=(10,10))\n",
    "plt.rc('text', usetex=True)\n",
    "plt.rc('text.latex', preamble=r'\\usepackage{amssymb}')\n",
    "plt.rc('font', family='serif')\n",
    "plt.rc('font', size=15)\n",
    "mpl.rc('xtick', labelsize=20) \n",
    "mpl.rc('ytick', labelsize=20)\n",
    "mpl.rc('axes', labelsize=20)\n",
    "plt.plot(Meandiffalensed, Maxxlensed, 'r.', label = 'lensed')\n",
    "plt.plot(Meandiffaunlensed, Maxxunlensed, 'b.', label = 'unlensed')\n",
    "#plt.plot(Meandiffaoutliers, Maxxoutliers, 'g+', label ='overlapping')\n",
    "plt.xlabel('metric ab')\n",
    "plt.ylabel('metric xy')\n",
    "plt.legend()\n",
    "plt.title('max distance(x,y) and mean(a-b)');"
   ]
  },
  {
   "cell_type": "code",
   "execution_count": null,
   "id": "13fc780c",
   "metadata": {},
   "outputs": [],
   "source": []
  },
  {
   "cell_type": "markdown",
   "id": "c68d8cc7",
   "metadata": {},
   "source": [
    "## USING STD FOR (X,Y) BETWEEN EACH POINT AND MEAN(NORM(A-B))"
   ]
  },
  {
   "cell_type": "code",
   "execution_count": null,
   "id": "43ddd322",
   "metadata": {},
   "outputs": [],
   "source": [
    "def substnorm(L1, L2):\n",
    "    return([abs(L1[i]-L2[i])/L1[i] for i in range(len(L1))])"
   ]
  },
  {
   "cell_type": "code",
   "execution_count": null,
   "id": "8b74af15",
   "metadata": {},
   "outputs": [],
   "source": [
    "Meandiffnormalensed = []\n",
    "for i in nblensed:\n",
    "    if len(lensed[lensed['nb']==i]['a'].copy())>1:\n",
    "        Meandiffnormalensed.append(np.mean(substnorm(lensed[lensed['nb']==i]['a'].copy(), lensed[lensed['nb']==i]['b'].copy())))"
   ]
  },
  {
   "cell_type": "code",
   "execution_count": null,
   "id": "e48fcfae",
   "metadata": {},
   "outputs": [],
   "source": [
    "Meandiffnormaunlensed = []\n",
    "for i in nbunlensed:\n",
    "    if len(unlensed[unlensed['nb']==i]['a'].copy())>1:\n",
    "        Meandiffnormaunlensed.append(np.mean(substnorm(unlensed[unlensed['nb']==i]['a'].copy(), unlensed[unlensed['nb']==i]['b'].copy())))"
   ]
  },
  {
   "cell_type": "code",
   "execution_count": null,
   "id": "c6516a96",
   "metadata": {},
   "outputs": [],
   "source": [
    "plt.figure(figsize=(8,8))\n",
    "plt.rc('text', usetex=True)\n",
    "plt.rc('text.latex', preamble=r'\\usepackage{amssymb}')\n",
    "plt.rc('font', family='serif')\n",
    "plt.rc('font', size=15)\n",
    "mpl.rc('xtick', labelsize=20) \n",
    "mpl.rc('ytick', labelsize=20)\n",
    "mpl.rc('axes', labelsize=20)\n",
    "plt.plot(Meandiffnormalensed, STDxlensed, 'r.', label = 'lensed')\n",
    "plt.plot(Meandiffnormaunlensed, STDxunlensed, 'b.', label = 'unlensed')\n",
    "plt.xlabel('Mean of differences (a,b)')\n",
    "plt.ylabel('Standard deviation (x,y)')\n",
    "plt.legend()\n",
    "plt.ylim(0, 0.5)\n",
    "plt.title('Metric (x,y) as a function of the metric (a,b)')\n",
    "plt.show()"
   ]
  },
  {
   "cell_type": "markdown",
   "id": "92bbb405",
   "metadata": {},
   "source": [
    "## USING STD DEVIATION FOR (X,Y) AND MEDIAN(NORM(A-B))"
   ]
  },
  {
   "cell_type": "code",
   "execution_count": null,
   "id": "8e9b2625",
   "metadata": {},
   "outputs": [],
   "source": [
    "Mediandiffnormalensed = []\n",
    "for i in nblensed:\n",
    "    if len(lensed[lensed['nb']==i]['a'].copy())>1:\n",
    "        Mediandiffnormalensed.append(np.median(substnorm(lensed[lensed['nb']==i]['a'].copy(), lensed[lensed['nb']==i]['b'].copy())))"
   ]
  },
  {
   "cell_type": "code",
   "execution_count": null,
   "id": "ecb406ef",
   "metadata": {},
   "outputs": [],
   "source": [
    "Mediandiffnormaunlensed = []\n",
    "for i in nbunlensed:\n",
    "    if len(unlensed[unlensed['nb']==i]['a'].copy())>1:\n",
    "        Mediandiffnormaunlensed.append(np.median(substnorm(unlensed[unlensed['nb']==i]['a'].copy(), unlensed[unlensed['nb']==i]['b'].copy())))"
   ]
  },
  {
   "cell_type": "code",
   "execution_count": null,
   "id": "51136356",
   "metadata": {},
   "outputs": [],
   "source": [
    "plt.figure(figsize=(8,8))\n",
    "plt.rc('text', usetex=True)\n",
    "plt.rc('text.latex', preamble=r'\\usepackage{amssymb}')\n",
    "plt.rc('font', family='serif')\n",
    "plt.rc('font', size=15)\n",
    "mpl.rc('xtick', labelsize=20) \n",
    "mpl.rc('ytick', labelsize=20)\n",
    "mpl.rc('axes', labelsize=20)\n",
    "plt.plot(Mediandiffnormalensed, STDxlensed, 'r.', label = 'lensed')\n",
    "plt.plot(Mediandiffnormaunlensed, STDxunlensed, 'b.', label = 'unlensed')\n",
    "plt.xlabel('Median of difference (a,b)')\n",
    "plt.ylabel('Standard deviation (x,y)')\n",
    "plt.legend()\n",
    "plt.title('Metric (x,y) as a function of the metric (a,b)')\n",
    "plt.show()"
   ]
  },
  {
   "cell_type": "code",
   "execution_count": null,
   "id": "c5b182cc",
   "metadata": {},
   "outputs": [],
   "source": []
  }
 ],
 "metadata": {
  "kernelspec": {
   "display_name": "Python 3 (ipykernel)",
   "language": "python",
   "name": "python3"
  },
  "language_info": {
   "codemirror_mode": {
    "name": "ipython",
    "version": 3
   },
   "file_extension": ".py",
   "mimetype": "text/x-python",
   "name": "python",
   "nbconvert_exporter": "python",
   "pygments_lexer": "ipython3",
   "version": "3.9.7"
  }
 },
 "nbformat": 4,
 "nbformat_minor": 5
}
