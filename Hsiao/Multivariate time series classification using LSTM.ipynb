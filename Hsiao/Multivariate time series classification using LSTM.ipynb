{
 "cells": [
  {
   "cell_type": "code",

   "execution_count": 1,

   "id": "69e45c3a",
   "metadata": {},
   "outputs": [],
   "source": [
    "import numpy as np\n",
    "import matplotlib.pyplot as plt\n",
    "import pytorch_lightning as pl\n",
    "import seaborn as sns\n",
    "\n",
    "import pandas as pd\n",
    "from sklearn import cluster, datasets\n",
    "from sklearn.model_selection import train_test_split\n",
    "from sklearn.preprocessing import StandardScaler\n",
    "from sklearn.preprocessing import MinMaxScaler\n",
    "\n",
    "import torch\n",
    "import torch.nn as nn\n",

    "import torch.utils.data as data_utils\n",
    "import torch.nn.functional as Func\n",

    "import torch.optim as optim\n",
    "from torch.utils.data import DataLoader, Dataset, TensorDataset, random_split"
   ]
  },
  {
   "cell_type": "code",

   "execution_count": 2,

   "id": "e1b534db",
   "metadata": {},
   "outputs": [],
   "source": [
    "# Load data\n",
    "f = pd.read_csv(\"data.csv\")\n",
    "f.rename(columns={'time sample band g': 'time_g', 'time sample band r': 'time_r',\n",
    "                    'time sample band i': 'time_i','total flux + noise band g': 'tfnbg',\n",
    "                    'total flux + noise band r': 'tfnbr', 'total flux + noise band i': 'tfnbi',}, inplace=True)"
   ]
  },
  {

   "cell_type": "markdown",
   "id": "bd3c89d6",
   "metadata": {},
   "source": [
    "def standard(dataset):\n",
    "    \n",
    "    scaler = MinMaxScaler(feature_range = (0, 1), copy=False)\n",
    "    #scaler = StandardScaler()\n",
    "    \n",
    "    df = 0\n",
    "    dfbis = 0\n",
    "    for ide, group in dataset.groupby('ID'):\n",
    "\n",
    "        a = dataset[dataset.ID == ide]\n",

    "        c = a[['ID', 'images']]\n",
    "        data = a[a.columns[2:]].copy()\n",
    "        t = ['time_g', 'time_r', 'time_i']\n",
    "        \n",
    "        data[['tfnbg', 'tfnbr', 'tfnbi']] = scaler.fit_transform(data[['tfnbg', 'tfnbr', 'tfnbi']])\n",
    "        data[t] = data[t]-np.min(data[t])\n",
    "\n",
    "        if ide == 0:\n",
    "            df = pd.concat([c, data], axis=1)\n",
    "        else:\n",
    "            dfbis = pd.concat([c, data], axis = 1)\n",
    "            df = pd.concat([df, dfbis])\n",
    "\n",
    "    return df"
   ]
  },
  {
   "cell_type": "code",

   "execution_count": 3,
   "id": "cfabebb5",
   "metadata": {},
   "outputs": [],
   "source": [
    "f['images'] = f['images'].replace([1, 2, 3, 4], [0, 1, 1, 1])"

   ]
  },
  {
   "cell_type": "code",

   "execution_count": 4,
   "id": "079732fb",
   "metadata": {},
   "outputs": [],
   "source": [
    "train = f[:91*8000]\n",
    "val = f[91*8000:91*9000]\n",
    "test = f[91*9000:]"

   ]
  },
  {
   "cell_type": "code",

   "execution_count": 5,
   "id": "48cc9e9c",
   "metadata": {},
   "outputs": [
    {
     "name": "stdout",
     "output_type": "stream",
     "text": [
      "359541\n",
      "368459\n",
      "45591\n",
      "45409\n"
     ]
    }
   ],
   "source": [
    "print((train['images']==0).sum())\n",
    "print((train['images']==1).sum())\n",
    "\n",
    "\n",
    "print((test['images']==0).sum())\n",
    "print((test['images']==1).sum())"

   ]
  },
  {
   "cell_type": "code",
   "execution_count": null,

   "id": "4dfcbe36",
   "metadata": {},
   "outputs": [],
   "source": []
  },
  {
   "cell_type": "code",
   "execution_count": 6,
   "id": "38fb0aa1",
   "metadata": {},
   "outputs": [],
   "source": [
    "def dataframe_to_dataset(f):\n",
    "        \n",
    "    scaler = MinMaxScaler(feature_range = (0, 1), copy=False)\n",
    "    #scaler = StandardScaler()\n",
    "\n",
    "    features_columns = f.columns.tolist()[2:]\n",
    "    T = []\n",
    "    F = []\n",
    "    \n",
    "    for ide, group in f.groupby('ID'):\n",
    "\n",
    "        a = f[f.ID == ide]\n",
    "        c = a[['ID', 'images']]\n",
    "        data = a.copy()\n",
    "        t = ['time_g', 'time_r', 'time_i']\n",
    "        \n",
    "        data[['tfnbg', 'tfnbr', 'tfnbi']] = scaler.fit_transform(data[['tfnbg', 'tfnbr', 'tfnbi']])\n",
    "        data[t] = data[t]-np.min(data[t])\n",
    "\n",
    "        T.append(a['images'].values[0])\n",
    "        F.append(torch.tensor(data[features_columns].T.values)[..., None])\n",
    "\n",
    "    \n",
    "    T = torch.tensor(T)\n",
    "    F = torch.cat(F, dim=-1)\n",
    "    print(F.shape)\n",
    "    return TensorDataset(F.T.double(), T.double())"

   ]
  },
  {
   "cell_type": "code",

   "execution_count": 7,
   "id": "127a89a5",
   "metadata": {},
   "outputs": [
    {
     "name": "stdout",
     "output_type": "stream",
     "text": [
      "torch.Size([6, 91, 8000])\n"
     ]
    },
    {
     "name": "stderr",
     "output_type": "stream",
     "text": [
      "/var/folders/wj/f1k4v84n75vfsjmdsxm0kfxh0000gn/T/ipykernel_19852/4085115565.py:27: UserWarning: The use of `x.T` on tensors of dimension other than 2 to reverse their shape is deprecated and it will throw an error in a future release. Consider `x.mT` to transpose batches of matricesor `x.permute(*torch.arange(x.ndim - 1, -1, -1))` to reverse the dimensions of a tensor. (Triggered internally at  /Users/distiller/project/pytorch/aten/src/ATen/native/TensorShape.cpp:2318.)\n",
      "  return TensorDataset(F.T.double(), T.double())\n"
     ]
    },
    {
     "name": "stdout",
     "output_type": "stream",
     "text": [
      "torch.Size([6, 91, 1000])\n",
      "torch.Size([6, 91, 1000])\n"
     ]
    }
   ],
   "source": [
    "TrainSet = dataframe_to_dataset(train)\n",
    "TestSet = dataframe_to_dataset(test)\n",
    "ValSet = dataframe_to_dataset(val)"

   ]
  },
  {
   "cell_type": "code",

   "execution_count": 8,
   "id": "67cc393c",
   "metadata": {},
   "outputs": [
    {
     "data": {
      "text/plain": [
       "<torch.utils.data.dataset.TensorDataset at 0x7ff00614e940>"
      ]
     },
     "execution_count": 8,
     "metadata": {},
     "output_type": "execute_result"
    }
   ],
   "source": [
    "TrainSet"

   ]
  },
  {
   "cell_type": "code",

   "execution_count": 9,

   "id": "35b5c834",
   "metadata": {},
   "outputs": [],
   "source": [
    "class SequenceModel(nn.Module):\n",
    "    \n",

    "    def __init__(self, n_channels, n_classes, n_hidden=64):\n",
    "        \n",
    "        super().__init__()\n",
    "        \n",
    "        #self.lstm1 = nn.Conv1d(\n",
    "        #in_channels = n_features,\n",
    "        #out_channels = n_hidden,\n",
    "        #kernel_size = 5)\n",
    "        self.lstm1 = nn.LSTM(\n",
    "            input_size = n_channels,\n",
    "            hidden_size = n_hidden,\n",
    "            num_layers = 5) \n",
    "        \n",
    "        #self.lstm2 = nn.Conv1d(\n",
    "        #in_channels = n_hidden,\n",
    "        #out_channels = 128,\n",
    "        #kernel_size = 5)\n",
    "        \n",
    "        \n",
    "        self.c1 = nn.Linear(64*91, 512)\n",
    "        self.c2 = nn.Linear(512, n_classes-1)\n",
    "            \n",
    "        \n",
    "    def forward(self, x):\n",
    "        x, (ht, ct) = self.lstm1(x) \n",
    "        #x = Func.relu(self.lstm1(x))\n",
    "        #x = self.lstm1(x)\n",
    "        x = torch.flatten(x, 1)\n",
    "        x= self.c1(x)\n",
    "        pred = self.c2(x)\n",
    "        pred = torch.sigmoid(pred)\n",

    "        return pred\n",
    "        "
   ]
  },
  {
   "cell_type": "code",

   "execution_count": 10,
   "id": "b03388b8",
   "metadata": {},
   "outputs": [
    {
     "data": {
      "text/plain": [
       "<torch._C.Generator at 0x7ff002b19df0>"
      ]
     },
     "execution_count": 10,
     "metadata": {},
     "output_type": "execute_result"
    }
   ],
   "source": [
    "torch.manual_seed(0)"
   ]
  },
  {
   "cell_type": "code",

   "execution_count": 11,
   "id": "ebc3c89d",
   "metadata": {},
   "outputs": [],
   "source": [
    "model = SequenceModel(n_channels = 6, \n",
    "                        n_classes = 2)\n",
    "model = model.double()"

   ]
  },
  {
   "cell_type": "code",

   "execution_count": 12,
   "id": "fcd4abac",
   "metadata": {},
   "outputs": [
    {
     "name": "stdout",
     "output_type": "stream",
     "text": [
      "SequenceModel(\n",
      "  (lstm1): LSTM(6, 64, num_layers=5)\n",
      "  (c1): Linear(in_features=5824, out_features=512, bias=True)\n",
      "  (c2): Linear(in_features=512, out_features=1, bias=True)\n",
      ")\n"
     ]
    }
   ],
   "source": [
    "print(model)"
   ]
  },
  {
   "cell_type": "code",

   "execution_count": 13,
   "id": "d9ffa9ff",
   "metadata": {},
   "outputs": [],
   "source": [

    "TrainLoader = data_utils.DataLoader(TrainSet, batch_size = 16, shuffle = True)\n",
    "ValLoader = data_utils.DataLoader(ValSet, batch_size = 16, shuffle = False)\n",
    "TestLoader = data_utils.DataLoader(TestSet, batch_size = 16, shuffle = False)"

   ]
  },
  {
   "cell_type": "code",

   "execution_count": 14,

   "id": "55cb8502",
   "metadata": {},
   "outputs": [],
   "source": [

    "loss_function = torch.nn.BCEWithLogitsLoss()"

   ]
  },
  {
   "cell_type": "code",

   "execution_count": 15,

   "id": "de22a684",
   "metadata": {},
   "outputs": [],
   "source": [
    "optimizer = optim.Adam(model.parameters(), lr=0.0001)"
   ]
  },
  {
   "cell_type": "code",

   "execution_count": 16,
   "id": "8534f1e4",
   "metadata": {},
   "outputs": [
    {
     "name": "stdout",
     "output_type": "stream",
     "text": [
      "--- State_dict du model : ---\n",
      "lstm1.weight_ih_l0 \t torch.Size([256, 6])\n",
      "lstm1.weight_hh_l0 \t torch.Size([256, 64])\n",
      "lstm1.bias_ih_l0 \t torch.Size([256])\n",
      "lstm1.bias_hh_l0 \t torch.Size([256])\n",
      "lstm1.weight_ih_l1 \t torch.Size([256, 64])\n",
      "lstm1.weight_hh_l1 \t torch.Size([256, 64])\n",
      "lstm1.bias_ih_l1 \t torch.Size([256])\n",
      "lstm1.bias_hh_l1 \t torch.Size([256])\n",
      "lstm1.weight_ih_l2 \t torch.Size([256, 64])\n",
      "lstm1.weight_hh_l2 \t torch.Size([256, 64])\n",
      "lstm1.bias_ih_l2 \t torch.Size([256])\n",
      "lstm1.bias_hh_l2 \t torch.Size([256])\n",
      "lstm1.weight_ih_l3 \t torch.Size([256, 64])\n",
      "lstm1.weight_hh_l3 \t torch.Size([256, 64])\n",
      "lstm1.bias_ih_l3 \t torch.Size([256])\n",
      "lstm1.bias_hh_l3 \t torch.Size([256])\n",
      "lstm1.weight_ih_l4 \t torch.Size([256, 64])\n",
      "lstm1.weight_hh_l4 \t torch.Size([256, 64])\n",
      "lstm1.bias_ih_l4 \t torch.Size([256])\n",
      "lstm1.bias_hh_l4 \t torch.Size([256])\n",
      "c1.weight \t torch.Size([512, 5824])\n",
      "c1.bias \t torch.Size([512])\n",
      "c2.weight \t torch.Size([1, 512])\n",
      "c2.bias \t torch.Size([1])\n",
      "\n"
     ]
    }
   ],

   "source": [
    "print(\"--- State_dict du model : ---\")\n",
    "for param_tensor in model.state_dict():\n",
    "    print(param_tensor, \"\\t\", model.state_dict()[param_tensor].size())\n",
    "print()"
   ]
  },
  {

   "cell_type": "code",
   "execution_count": 17,
   "id": "2bc4d2a3",
   "metadata": {},
   "outputs": [
    {
     "name": "stdout",
     "output_type": "stream",
     "text": [
      "Training done\n",
      "Training done\n",
      "Training done\n",
      "Training done\n",
      "Training done\n"
     ]
    }
   ],
   "source": [
    "losses = []  \n",
    "N_epochs = 5\n",
    "\n",
    "for epoch in range(N_epochs):  # Loop over epochs\n",
    "    \n",
    "    for features, label in TrainLoader:\n",
    "        #print(features.shape)\n",
    "        # Erase previous gradients\n",
    "        optimizer.zero_grad()\n",
    "        \n",
    "        #print(features.shape)\n",
    "        labels_pred =[]\n",
    "        # Forward Propagation \n",
    "        labels_pred = model(features)  \n",
    "        #print(labels_pred.shape)\n",
    "        \n",
    "        #print(labels_pred)\n",
    "        #label = tensor(np.array(label[0].item()))   # for size 2 in output of the model\n",
    "        #label = torch.tensor([label[0].item()]).to(torch.float)\n",
    "        \n",
    "        \n",
    "        # Loss computation\n",
    "        loss = loss_function(labels_pred, label[..., None])\n",
    "        #val_loss = loss_function(labels_val_pred, labels_val)\n",

    "        # Save loss for future analysis\n",
    "        losses.append(loss.item())\n",
    "        #val_losses.append(val_loss)\n",
    "        \n",
    "\n",

    "\n",

    "        \n",
    "        # Compute gradients (backpropagation)\n",
    "        loss.backward()\n",
    "        \n",
    "        # Weight update\n",

    "        optimizer.step()\n",

    "\n",
    "    print('Training done')"
   ]
  },
  {
   "cell_type": "code",

   "execution_count": 18,
   "id": "69d452de",
   "metadata": {},
   "outputs": [
    {
     "data": {
      "text/plain": [
       "<matplotlib.legend.Legend at 0x7feff80af340>"
      ]
     },
     "execution_count": 18,
     "metadata": {},
     "output_type": "execute_result"
    },
    {
     "data": {
      "image/png": "[encoded data removed]",
      "text/plain": [
       "<Figure size 576x432 with 1 Axes>"
      ]
     },
     "metadata": {
      "needs_background": "light"
     },
     "output_type": "display_data"
    }
   ],
   "source": [
    "# Display loss evolution\n",
    "fig, axes = plt.subplots(figsize=(8,6))\n",
    "axes.plot(losses,'r-',lw=2,label='Training loss function')\n",
    "#axes.plot(val_losses,'b-',lw=2,label='Validation loss function')\n",
    "axes.set_xlabel('N iterations',fontsize=18)\n",
    "axes.set_ylabel('Loss',fontsize=18)\n",
    "#plt.ylim([0, 1])\n",
    "plt.legend(loc='upper right',fontsize=16)"
   ]
  },
  {
   "cell_type": "code",
   "execution_count": 19,
   "id": "c33d0a19",
   "metadata": {},
   "outputs": [
    {
     "ename": "RuntimeError",
     "evalue": "expected scalar type Float but found Double",
     "output_type": "error",
     "traceback": [
      "\u001b[0;31m---------------------------------------------------------------------------\u001b[0m",
      "\u001b[0;31mRuntimeError\u001b[0m                              Traceback (most recent call last)",
      "\u001b[0;32m/var/folders/wj/f1k4v84n75vfsjmdsxm0kfxh0000gn/T/ipykernel_19852/3626120845.py\u001b[0m in \u001b[0;36m<module>\u001b[0;34m\u001b[0m\n\u001b[1;32m      6\u001b[0m \u001b[0;34m\u001b[0m\u001b[0m\n\u001b[1;32m      7\u001b[0m         \u001b[0;31m# Forward Propagation\u001b[0m\u001b[0;34m\u001b[0m\u001b[0;34m\u001b[0m\u001b[0m\n\u001b[0;32m----> 8\u001b[0;31m         \u001b[0mlabels_pred\u001b[0m \u001b[0;34m=\u001b[0m \u001b[0mmodel\u001b[0m\u001b[0;34m(\u001b[0m\u001b[0mfeatures\u001b[0m\u001b[0;34m.\u001b[0m\u001b[0mfloat\u001b[0m\u001b[0;34m(\u001b[0m\u001b[0;34m)\u001b[0m\u001b[0;34m)\u001b[0m\u001b[0;34m\u001b[0m\u001b[0;34m\u001b[0m\u001b[0m\n\u001b[0m\u001b[1;32m      9\u001b[0m         \u001b[0mlabel\u001b[0m \u001b[0;34m=\u001b[0m \u001b[0mtorch\u001b[0m\u001b[0;34m.\u001b[0m\u001b[0mtensor\u001b[0m\u001b[0;34m(\u001b[0m\u001b[0;34m[\u001b[0m\u001b[0mlabels\u001b[0m\u001b[0;34m[\u001b[0m\u001b[0;36m0\u001b[0m\u001b[0;34m]\u001b[0m\u001b[0;34m.\u001b[0m\u001b[0mitem\u001b[0m\u001b[0;34m(\u001b[0m\u001b[0;34m)\u001b[0m\u001b[0;34m]\u001b[0m\u001b[0;34m)\u001b[0m\u001b[0;34m.\u001b[0m\u001b[0mto\u001b[0m\u001b[0;34m(\u001b[0m\u001b[0mtorch\u001b[0m\u001b[0;34m.\u001b[0m\u001b[0mfloat\u001b[0m\u001b[0;34m)\u001b[0m\u001b[0;34m\u001b[0m\u001b[0;34m\u001b[0m\u001b[0m\n\u001b[1;32m     10\u001b[0m \u001b[0;34m\u001b[0m\u001b[0m\n",
      "\u001b[0;32m~/opt/anaconda3/lib/python3.9/site-packages/torch/nn/modules/module.py\u001b[0m in \u001b[0;36m_call_impl\u001b[0;34m(self, *input, **kwargs)\u001b[0m\n\u001b[1;32m   1108\u001b[0m         if not (self._backward_hooks or self._forward_hooks or self._forward_pre_hooks or _global_backward_hooks\n\u001b[1;32m   1109\u001b[0m                 or _global_forward_hooks or _global_forward_pre_hooks):\n\u001b[0;32m-> 1110\u001b[0;31m             \u001b[0;32mreturn\u001b[0m \u001b[0mforward_call\u001b[0m\u001b[0;34m(\u001b[0m\u001b[0;34m*\u001b[0m\u001b[0minput\u001b[0m\u001b[0;34m,\u001b[0m \u001b[0;34m**\u001b[0m\u001b[0mkwargs\u001b[0m\u001b[0;34m)\u001b[0m\u001b[0;34m\u001b[0m\u001b[0;34m\u001b[0m\u001b[0m\n\u001b[0m\u001b[1;32m   1111\u001b[0m         \u001b[0;31m# Do not call functions when jit is used\u001b[0m\u001b[0;34m\u001b[0m\u001b[0;34m\u001b[0m\u001b[0m\n\u001b[1;32m   1112\u001b[0m         \u001b[0mfull_backward_hooks\u001b[0m\u001b[0;34m,\u001b[0m \u001b[0mnon_full_backward_hooks\u001b[0m \u001b[0;34m=\u001b[0m \u001b[0;34m[\u001b[0m\u001b[0;34m]\u001b[0m\u001b[0;34m,\u001b[0m \u001b[0;34m[\u001b[0m\u001b[0;34m]\u001b[0m\u001b[0;34m\u001b[0m\u001b[0;34m\u001b[0m\u001b[0m\n",
      "\u001b[0;32m/var/folders/wj/f1k4v84n75vfsjmdsxm0kfxh0000gn/T/ipykernel_19852/113601052.py\u001b[0m in \u001b[0;36mforward\u001b[0;34m(self, x)\u001b[0m\n\u001b[1;32m     25\u001b[0m \u001b[0;34m\u001b[0m\u001b[0m\n\u001b[1;32m     26\u001b[0m     \u001b[0;32mdef\u001b[0m \u001b[0mforward\u001b[0m\u001b[0;34m(\u001b[0m\u001b[0mself\u001b[0m\u001b[0;34m,\u001b[0m \u001b[0mx\u001b[0m\u001b[0;34m)\u001b[0m\u001b[0;34m:\u001b[0m\u001b[0;34m\u001b[0m\u001b[0;34m\u001b[0m\u001b[0m\n\u001b[0;32m---> 27\u001b[0;31m         \u001b[0mx\u001b[0m\u001b[0;34m,\u001b[0m \u001b[0;34m(\u001b[0m\u001b[0mht\u001b[0m\u001b[0;34m,\u001b[0m \u001b[0mct\u001b[0m\u001b[0;34m)\u001b[0m \u001b[0;34m=\u001b[0m \u001b[0mself\u001b[0m\u001b[0;34m.\u001b[0m\u001b[0mlstm1\u001b[0m\u001b[0;34m(\u001b[0m\u001b[0mx\u001b[0m\u001b[0;34m)\u001b[0m\u001b[0;34m\u001b[0m\u001b[0;34m\u001b[0m\u001b[0m\n\u001b[0m\u001b[1;32m     28\u001b[0m         \u001b[0;31m#x = Func.relu(self.lstm1(x))\u001b[0m\u001b[0;34m\u001b[0m\u001b[0;34m\u001b[0m\u001b[0m\n\u001b[1;32m     29\u001b[0m         \u001b[0;31m#x = self.lstm1(x)\u001b[0m\u001b[0;34m\u001b[0m\u001b[0;34m\u001b[0m\u001b[0m\n",
      "\u001b[0;32m~/opt/anaconda3/lib/python3.9/site-packages/torch/nn/modules/module.py\u001b[0m in \u001b[0;36m_call_impl\u001b[0;34m(self, *input, **kwargs)\u001b[0m\n\u001b[1;32m   1108\u001b[0m         if not (self._backward_hooks or self._forward_hooks or self._forward_pre_hooks or _global_backward_hooks\n\u001b[1;32m   1109\u001b[0m                 or _global_forward_hooks or _global_forward_pre_hooks):\n\u001b[0;32m-> 1110\u001b[0;31m             \u001b[0;32mreturn\u001b[0m \u001b[0mforward_call\u001b[0m\u001b[0;34m(\u001b[0m\u001b[0;34m*\u001b[0m\u001b[0minput\u001b[0m\u001b[0;34m,\u001b[0m \u001b[0;34m**\u001b[0m\u001b[0mkwargs\u001b[0m\u001b[0;34m)\u001b[0m\u001b[0;34m\u001b[0m\u001b[0;34m\u001b[0m\u001b[0m\n\u001b[0m\u001b[1;32m   1111\u001b[0m         \u001b[0;31m# Do not call functions when jit is used\u001b[0m\u001b[0;34m\u001b[0m\u001b[0;34m\u001b[0m\u001b[0m\n\u001b[1;32m   1112\u001b[0m         \u001b[0mfull_backward_hooks\u001b[0m\u001b[0;34m,\u001b[0m \u001b[0mnon_full_backward_hooks\u001b[0m \u001b[0;34m=\u001b[0m \u001b[0;34m[\u001b[0m\u001b[0;34m]\u001b[0m\u001b[0;34m,\u001b[0m \u001b[0;34m[\u001b[0m\u001b[0;34m]\u001b[0m\u001b[0;34m\u001b[0m\u001b[0;34m\u001b[0m\u001b[0m\n",
      "\u001b[0;32m~/opt/anaconda3/lib/python3.9/site-packages/torch/nn/modules/rnn.py\u001b[0m in \u001b[0;36mforward\u001b[0;34m(self, input, hx)\u001b[0m\n\u001b[1;32m    759\u001b[0m         \u001b[0mself\u001b[0m\u001b[0;34m.\u001b[0m\u001b[0mcheck_forward_args\u001b[0m\u001b[0;34m(\u001b[0m\u001b[0minput\u001b[0m\u001b[0;34m,\u001b[0m \u001b[0mhx\u001b[0m\u001b[0;34m,\u001b[0m \u001b[0mbatch_sizes\u001b[0m\u001b[0;34m)\u001b[0m\u001b[0;34m\u001b[0m\u001b[0;34m\u001b[0m\u001b[0m\n\u001b[1;32m    760\u001b[0m         \u001b[0;32mif\u001b[0m \u001b[0mbatch_sizes\u001b[0m \u001b[0;32mis\u001b[0m \u001b[0;32mNone\u001b[0m\u001b[0;34m:\u001b[0m\u001b[0;34m\u001b[0m\u001b[0;34m\u001b[0m\u001b[0m\n\u001b[0;32m--> 761\u001b[0;31m             result = _VF.lstm(input, hx, self._flat_weights, self.bias, self.num_layers,\n\u001b[0m\u001b[1;32m    762\u001b[0m                               self.dropout, self.training, self.bidirectional, self.batch_first)\n\u001b[1;32m    763\u001b[0m         \u001b[0;32melse\u001b[0m\u001b[0;34m:\u001b[0m\u001b[0;34m\u001b[0m\u001b[0;34m\u001b[0m\u001b[0m\n",
      "\u001b[0;31mRuntimeError\u001b[0m: expected scalar type Float but found Double"
     ]
    }
   ],

   "source": [
    "val_losses = []\n",
    "for epoch in range(N_epochs):  # Loop over epochs\n",
    "    running_loss = 0.0\n",
    "   \n",
    "    for features, labels in ValLoader:\n",
    "        \n",
    "        # Forward Propagation \n",
    "        labels_pred = model(features.float())\n",
    "        label = torch.tensor([labels[0].item()]).to(torch.float)\n",
    "\n",
    "        # Loss computation\n",
    "        loss = loss_function(labels_pred, label)\n",
    "\n",
    "        # Save loss for future analysis\n",
    "        val_losses.append(loss.item())\n",
    "        \n",
    "    print('Training done')"
   ]
  },
  {
   "cell_type": "code",
   "execution_count": null,

   "id": "bca08902",
   "metadata": {},
   "outputs": [],
   "source": [
    "# Accuracy\n",
    "def accuracy(model,dataloader):\n",
    "    correct = 0\n",
    "    total = 0\n",
    "    # No need to compute gradients here\n",
    "    with torch.no_grad():\n",
    "        for features, labels in dataloader:\n",
    "            print(len(labels))\n",
    "            # Forward propagation to get predictions\n",
    "            pred = model(features.float()) \n",
    "            otherprob = 1 - pred.item()           \n",
    "            outputs = torch.tensor([[pred, otherprob]])\n",
    "            labels = torch.tensor([labels[0].item()]).to(torch.float)\n",
    "            print(labels)\n",
    "            _, predicted = torch.max(outputs, 1)\n",
    "            total += labels.size(0)\n",
    "            #print(total)\n",
    "            correct += (predicted == labels).sum().item()\n",
    "    return 100.0 * correct / total       \n",
    "\n",
    "print('Accuracy : %.2f %%' % (accuracy(model,TestLoader)))   "

   ]
  },
  {
   "cell_type": "code",
   "execution_count": null,

   "id": "a17fd48b",
   "metadata": {},
   "outputs": [],
   "source": []
  },
  {
   "cell_type": "code",
   "execution_count": null,

   "id": "b0d45b47",

   "metadata": {},
   "outputs": [],
   "source": []
  }
 ],
 "metadata": {
  "kernelspec": {
   "display_name": "Python 3 (ipykernel)",
   "language": "python",
   "name": "python3"
  },
  "language_info": {
   "codemirror_mode": {
    "name": "ipython",
    "version": 3
   },
   "file_extension": ".py",
   "mimetype": "text/x-python",
   "name": "python",
   "nbconvert_exporter": "python",
   "pygments_lexer": "ipython3",
   "version": "3.9.7"
  }
 },
 "nbformat": 4,
 "nbformat_minor": 5
}
